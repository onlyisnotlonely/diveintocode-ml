{
 "cells": [
  {
   "cell_type": "markdown",
   "metadata": {},
   "source": [
    "# 【Week1 授業前課題】\n",
    "\n",
    "#  1枚の紙を43回折り曲げた時の厚さを計算するプログラムの作成\n",
    "\n"
   ]
  },
  {
   "cell_type": "markdown",
   "metadata": {},
   "source": [
    "# 課題の目的\n",
    "\n",
    "- 基礎的なプログラミング方法を確認する \n",
    "- 調べながら進める習慣をつける"
   ]
  },
  {
   "cell_type": "markdown",
   "metadata": {},
   "source": [
    "# 今回確認するスキル\n",
    "\n",
    "- 基本的な計算\n",
    "- for文の活用法\n",
    "- 時間を測る\n",
    "- 配列（list）の使い方\n",
    "- 簡単なグラフの表示"
   ]
  },
  {
   "cell_type": "markdown",
   "metadata": {},
   "source": [
    "# コーディングの方法\n",
    "\n",
    "1. べき乗の算術演算子を使用\n",
    "2. for文を使用"
   ]
  },
  {
   "cell_type": "markdown",
   "metadata": {},
   "source": [
    "# 方法１：べき乗の算術演算子を使用"
   ]
  },
  {
   "cell_type": "code",
   "execution_count": 74,
   "metadata": {},
   "outputs": [
    {
     "name": "stdout",
     "output_type": "stream",
     "text": [
      "厚さ：70.4万キロメートル\n"
     ]
    }
   ],
   "source": [
    "\"\"\"\n",
    "紙を43回折った時の厚さを計算するコード\n",
    "\"\"\"\n",
    "\n",
    "def folded_thickneess_calc_with_power_operator(thickness, times_to_fold):\n",
    "    folded_thickness = thickness * 2 ** times_to_fold / (10**7)\n",
    "    \n",
    "    return folded_thickness\n",
    "\n",
    "# 紙の厚さの初期値：長さの単位はm（メートル）\n",
    "thickness = 0.00008\n",
    "\n",
    "# 折り曲げる回数\n",
    "times_to_fold = 43\n",
    "\n",
    "# 折り曲げた後の厚さ：長さの単位は万km\n",
    "folded_thickness = folded_thickneess_calc_with_power_operator(thickness, times_to_fold)\n",
    "\n",
    "print(\"厚さ：{0:.1f}万キロメートル\".format(folded_thickness)) # 70.4万キロメートル"
   ]
  },
  {
   "cell_type": "markdown",
   "metadata": {},
   "source": [
    "# 方法２：for文を使用"
   ]
  },
  {
   "cell_type": "code",
   "execution_count": 122,
   "metadata": {},
   "outputs": [
    {
     "name": "stdout",
     "output_type": "stream",
     "text": [
      "厚さ：70.4万キロメートル\n"
     ]
    }
   ],
   "source": [
    "\"\"\"\n",
    "紙を43回折った時の厚さを計算するコード\n",
    "\"\"\"\n",
    "# 関数を定義する\n",
    "def folded_thickness_calc_with_for_syntax(thickness, times_to_fold):\n",
    "    folded_thickness = thickness\n",
    "    \n",
    "    for time in range(1, times_to_fold+1):\n",
    "        folded_thickness *= 2\n",
    "        \n",
    "    return folded_thickness\n",
    "\n",
    "# 紙の厚さの初期値：長さの単位はm（メートル）\n",
    "thickness = 0.00008\n",
    "\n",
    "# 折り曲げる回数\n",
    "times_to_fold = 43\n",
    "\n",
    "# 折り曲げた後の厚さ：m（メートル）\n",
    "folded_thickness = folded_thickness_calc_with_for_syntax(thickness, times_to_fold)\n",
    "\n",
    "# 結果を出力する\n",
    "print(\"厚さ：{0:.1f}万キロメートル\".format(folded_thickness/(10**7))) # 70.4万キロメートル\n"
   ]
  },
  {
   "cell_type": "markdown",
   "metadata": {},
   "source": [
    "尚、べき乗の算術演算子を用いた場合の計算結果、for文を用いた場合の計算結果が一致していることが確認できる。"
   ]
  },
  {
   "cell_type": "markdown",
   "metadata": {},
   "source": [
    "# 計算時間の比較"
   ]
  },
  {
   "cell_type": "code",
   "execution_count": 121,
   "metadata": {
    "scrolled": true
   },
   "outputs": [
    {
     "name": "stdout",
     "output_type": "stream",
     "text": [
      "方法１：べき乗の算術演算子を使用\n",
      "厚さ：70.4万キロメートル\n",
      "time：0.00013899803161621094[s]\n",
      "\n",
      "方法２：for文を使用\n",
      "厚さ：70.4万キロメートル\n",
      "time：0.0001277923583984375[s]\n"
     ]
    }
   ],
   "source": [
    "import time\n",
    "\n",
    "# 前提条件\n",
    "thickness = 0.00008 # 紙の厚みの初期値\n",
    "times_to_fold = 43 # 折り曲げる回数\n",
    "\n",
    "# べき乗の算術演算子を使用\n",
    "print(\"方法１：べき乗の算術演算子を使用\")\n",
    "start = time.time()\n",
    "\n",
    "folded_thickness = folded_thickneess_calc_with_power_operator(thickness, times_to_fold)\n",
    "print(\"厚さ：{0:.1f}万キロメートル\".format(folded_thickness)) # 70.4万キロメートル\n",
    "\n",
    "elapsed_time = time.time() - start\n",
    "print (\"time：{0}[s]\".format(elapsed_time))\n",
    "\n",
    "# 改行\n",
    "print(\"\")\n",
    "\n",
    "# for文\n",
    "print(\"方法２：for文を使用\")\n",
    "start = time.time()\n",
    "\n",
    "folded_thickness = folded_thickness_calc_with_for_syntax(thickness, times_to_fold)\n",
    "print(\"厚さ：{0:.1f}万キロメートル\".format(folded_thickness/(10**7))) # 70.4万キロメートル\n",
    "\n",
    "elapsed_time = time.time() - start\n",
    "print (\"time：{0}[s]\".format(elapsed_time))\n"
   ]
  },
  {
   "cell_type": "markdown",
   "metadata": {},
   "source": [
    "# 計算時間に関する考察\n",
    "\n",
    "- べき乗の算術演算子を用いた場合、for文を用いた場合のいずれも計算時間は１秒に満たず、計算時間の観点では実務上どちらを用いても差し支えがない。\n",
    "\n",
    "\n",
    "- 単純に１つの値を求める計算ならば、コーディングも短く済むため、べき乗の算術演算子を用いるほうが作業効率が良い。\n",
    "\n",
    "\n",
    "- 一方、所定の計算式に基づき、変数の値を変更しながら複数の結果を得る場合には、for文を用いる。"
   ]
  },
  {
   "cell_type": "markdown",
   "metadata": {},
   "source": [
    "# 可視化 "
   ]
  },
  {
   "cell_type": "code",
   "execution_count": 8,
   "metadata": {},
   "outputs": [
    {
     "name": "stdout",
     "output_type": "stream",
     "text": [
      "折り曲げた回数：[0, 1, 2, 3, 4, 5, 6, 7, 8, 9, 10, 11, 12, 13, 14, 15, 16, 17, 18, 19, 20, 21, 22, 23, 24, 25, 26, 27, 28, 29, 30, 31, 32, 33, 34, 35, 36, 37, 38, 39, 40, 41, 42, 43]\n",
      "\n",
      "折り曲げた後の紙の厚み（万km）：[0.0, 0.0, 0.0, 0.0, 0.0, 0.0, 0.0, 0.0, 0.0, 0.0, 0.0, 0.0, 0.0, 0.0, 0.0, 0.0, 0.0, 0.0, 0.0, 0.0, 0.0, 0.0, 0.0, 0.0001, 0.0001, 0.0003, 0.0005, 0.0011, 0.0021, 0.0043, 0.0086, 0.0172, 0.0344, 0.0687, 0.1374, 0.2749, 0.5498, 1.0995, 2.199, 4.398, 8.7961, 17.5922, 35.1844, 70.3687]\n"
     ]
    }
   ],
   "source": [
    "# 折り曲げた回数、および折り曲げた後の厚みをリストに格納する\n",
    "\n",
    "# 空リストを作成する\n",
    "n_numbers = [] # 折り曲げた回数を格納する\n",
    "list_of_folded_thickness = [] # 折り曲げた後の厚みを格納する\n",
    "\n",
    "# 初期条件\n",
    "thickness = 0.00008\n",
    "folded_thickness = thickness/(10**7)\n",
    "\n",
    "# 折り曲げる回数\n",
    "times_to_fold = 43\n",
    "\n",
    "# 空リストに計算結果を格納する\n",
    "for time in range(times_to_fold+1):\n",
    "    \n",
    "    list_of_folded_thickness.append(round(folded_thickness,4))\n",
    "    n_numbers.append(len(list_of_folded_thickness)-1)\n",
    "    \n",
    "    folded_thickness *= 2\n",
    "\n",
    "# 計算結果の一覧を出力する\n",
    "print(\"折り曲げた回数：{}\".format(n_numbers))\n",
    "print(\"\")\n",
    "print(\"折り曲げた後の紙の厚み（万km）：{}\".format(list_of_folded_thickness))"
   ]
  },
  {
   "cell_type": "code",
   "execution_count": 114,
   "metadata": {},
   "outputs": [
    {
     "data": {
      "text/plain": [
       "[<matplotlib.lines.Line2D at 0x11f4f49e8>]"
      ]
     },
     "execution_count": 114,
     "metadata": {},
     "output_type": "execute_result"
    },
    {
     "data": {
      "image/png": "[encoded data removed]",
      "text/plain": [
       "<Figure size 432x288 with 1 Axes>"
      ]
     },
     "metadata": {
      "needs_background": "light"
     },
     "output_type": "display_data"
    }
   ],
   "source": [
    "# 計算結果をグラフで表示する\n",
    "import matplotlib.pyplot as plt\n",
    "%matplotlib inline\n",
    "\n",
    "plt.title(\"thickness of folded paper\", color = \"navy\")\n",
    "plt.xlabel(\"number of folds\", color = \"navy\")\n",
    "plt.ylabel(\"thickness [10,000 km]\", color = \"navy\")\n",
    "plt.plot(list_of_folded_thickness, color=\"red\")"
   ]
  },
  {
   "cell_type": "markdown",
   "metadata": {},
   "source": [
    "# グラフの考察\n",
    "\n",
    "- 折り曲げた回数が40回を超えた後、紙の厚さが急増することが確認できる。\n",
    "\n",
    "\n",
    "- 但し、グラフからは読み取りにくいが、23回折った時点で紙の厚さが既に1kmに達しており、現実的には20回も折れないものと思われる。\n",
    "\n",
    "\n",
    "- グラフは傾向のみならず、数値の大小も意識した上で、示唆を得る必要がある。"
   ]
  },
  {
   "cell_type": "markdown",
   "metadata": {},
   "source": [
    "# 機械学習分野でPythonが良く使われる理由\n",
    "\n",
    "機械学習分野でPythonが良く使われる理由を調べ、以下にまとめた。\n",
    "\n",
    "1. 構文がシンプルで読みやすく、初心者にも扱い易いプログラミング言語である。\n",
    "\n",
    "\n",
    "2. Pythonを用いてサービスを開発している企業が多数あり、言語の信頼性が高い。\n",
    "\n",
    "\n",
    "3. 機械学習向けのライブラリや開発環境が充実している。\n",
    "    - ある一定の処理（関数やクラス）を集めたファイル（拡張子「.py」のファイル）をモジュールと言う。\n",
    "    - ライブラリとはモジュールを集めたモジュール群のことで、使用する際は外部から呼び出す（import）。\n",
    "    - ライブラリが充実していることの利点として、ライブラリを用いることで同じような処理をゼロからコーディングする必要がなく、データサイエンティストやエンジニアの作業時間の短縮につながる。\n",
    "\n",
    "\n",
    "但し、R言語（オープンソースのプログラミング言語／特に統計や解析向けに利用されている）など、Python以外の言語でも機械学習を行うことは可能。\n",
    "\n",
    "＜参照先＞\n",
    "\n",
    "- なぜ機械学習にPythonが選ばれるのかhttps://qiita.com/yaju/items/5502115d7e3d06e6bbdd\n",
    "\n",
    "\n",
    "- なぜ機械学習にPythonが使われるのか？機械学習でPythonが使われる4つの理由\n",
    "https://www.codexa.net/why-use-python-for-machine-learning/"
   ]
  }
 ],
 "metadata": {
  "kernelspec": {
   "display_name": "Python 3",
   "language": "python",
   "name": "python3"
  },
  "language_info": {
   "codemirror_mode": {
    "name": "ipython",
    "version": 3
   },
   "file_extension": ".py",
   "mimetype": "text/x-python",
   "name": "python",
   "nbconvert_exporter": "python",
   "pygments_lexer": "ipython3",
   "version": "3.7.0"
  }
 },
 "nbformat": 4,
 "nbformat_minor": 2
}
