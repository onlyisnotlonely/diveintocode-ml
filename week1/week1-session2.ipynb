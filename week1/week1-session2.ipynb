{
 "cells": [
  {
   "cell_type": "markdown",
   "metadata": {},
   "source": [
    "# 富士山を超える最小の折る回数"
   ]
  },
  {
   "cell_type": "code",
   "execution_count": 76,
   "metadata": {},
   "outputs": [
    {
     "data": {
      "text/plain": [
       "26"
      ]
     },
     "execution_count": 76,
     "metadata": {},
     "output_type": "execute_result"
    }
   ],
   "source": [
    "# 富士山の高さ(m)\n",
    "height_of_fuji = 3776\n",
    "\n",
    "# 折り曲げた回数を格納するリスト\n",
    "times_to_fold = []\n",
    "\n",
    "# 紙の厚みを格納するリスト\n",
    "list_of_thickness = []\n",
    "\n",
    "# 紙の厚み(m)\n",
    "t0 = 0.00008\n",
    "\n",
    "# 折り曲げた後の紙の厚み\n",
    "\n",
    "t = t0\n",
    "\n",
    "# 所定の厚みに達するまで折る\n",
    "\n",
    "while t <= height_of_fuji:\n",
    "    times_to_fold.append(t)\n",
    "    list_of_thickness.append(t)\n",
    "    t *= 2\n",
    "    \n",
    "# リストを表示する\n",
    "times_to_fold\n",
    "list_of_thickness\n",
    "\n",
    "# 最終的に折り曲げる回数\n",
    "count = len(times_to_fold) \n",
    "count"
   ]
  },
  {
   "cell_type": "markdown",
   "metadata": {},
   "source": [
    "# 任意の厚さに対応した関数を作成する"
   ]
  },
  {
   "cell_type": "code",
   "execution_count": 77,
   "metadata": {},
   "outputs": [
    {
     "data": {
      "text/plain": [
       "1"
      ]
     },
     "execution_count": 77,
     "metadata": {},
     "output_type": "execute_result"
    }
   ],
   "source": [
    "def times_to_fold(height, t0=0.00008):\n",
    "    list_of_thickness = [] # 紙の厚みを格納するリスト\n",
    "    times_to_fold = [] # 折り曲げた回数を格納するリスト\n",
    "    \n",
    "    t = t0 # 紙の厚みの初期値\n",
    "    \n",
    "    while t <= height:\n",
    "        times_to_fold.append(i)\n",
    "        list_of_thickness.append(t)\n",
    "        t *= 2 \n",
    "    \n",
    "    count = len(times_to_fold)\n",
    "    \n",
    "    return count\n",
    "\n",
    "count = times_to_fold(0.00008)\n",
    "count"
   ]
  },
  {
   "cell_type": "markdown",
   "metadata": {},
   "source": [
    "# 最も近い太陽以外の恒星に到達するために紙を折る回数を求める\n",
    "\n",
    "- 太陽以外で最も近い恒星は、プロキシマ・ケンタウリ（ケンタウルス座V645星）\n",
    "- 距離は4.2光年\n",
    "- １光年は、9.461e+15 メートル"
   ]
  },
  {
   "cell_type": "code",
   "execution_count": 79,
   "metadata": {},
   "outputs": [
    {
     "data": {
      "text/plain": [
       "69"
      ]
     },
     "execution_count": 79,
     "metadata": {},
     "output_type": "execute_result"
    }
   ],
   "source": [
    "# 最も近い太陽以外の恒星に到達するために紙を折る回数\n",
    "count = times_to_fold(9.461e+15 * 4.2)\n",
    "count"
   ]
  },
  {
   "cell_type": "markdown",
   "metadata": {},
   "source": [
    "# 必要な紙の長さ"
   ]
  },
  {
   "cell_type": "code",
   "execution_count": 80,
   "metadata": {},
   "outputs": [
    {
     "name": "stdout",
     "output_type": "stream",
     "text": [
      "月に届くために必要な紙の長さ：324,091,944,417,078万キロメートル\n",
      "富士山に届くために必要な紙の長さ：18,864万キロメートル\n",
      "太陽以外の最も近い恒星に届くために必要な紙の長さ：1,459,580,360,110,034,897,459,784,712,192万キロメートル\n"
     ]
    }
   ],
   "source": [
    "import math\n",
    "\n",
    "def length(n, t0=0.00008):\n",
    "    \n",
    "    L = (math.pi * t0/6) *(2**n + 4)*(2**n -1)\n",
    "    \n",
    "    return L\n",
    "\n",
    "# 折る回数\n",
    "n_moon = times_to_fold(384400*1000) \n",
    "n_fuji = times_to_fold(3776) \n",
    "n_fixed_star = times_to_fold(9.461e+15 * 4.2) \n",
    "\n",
    "# 必要な長さ\n",
    "L_moon = int(length(n_moon, t0=0.00008) / (10**7))\n",
    "L_fuji = int(length(n_fuji, t0=0.00008) / (10 ** 7))\n",
    "L_fixed_star = int(length(n_fixed_star, t0=0.00008) / (10 ** 7))\n",
    "\n",
    "# 出力\n",
    "print(\"月に届くために必要な紙の長さ：{:,}万キロメートル\".format(L_moon))\n",
    "\n",
    "print(\"富士山に届くために必要な紙の長さ：{:,}万キロメートル\".format(L_fuji))\n",
    "\n",
    "print(\"太陽以外の最も近い恒星に届くために必要な紙の長さ：{:,}万キロメートル\".format(L_fixed_star))"
   ]
  },
  {
   "cell_type": "code",
   "execution_count": null,
   "metadata": {},
   "outputs": [],
   "source": []
  }
 ],
 "metadata": {
  "kernelspec": {
   "display_name": "Python 3",
   "language": "python",
   "name": "python3"
  },
  "language_info": {
   "codemirror_mode": {
    "name": "ipython",
    "version": 3
   },
   "file_extension": ".py",
   "mimetype": "text/x-python",
   "name": "python",
   "nbconvert_exporter": "python",
   "pygments_lexer": "ipython3",
   "version": "3.7.1"
  }
 },
 "nbformat": 4,
 "nbformat_minor": 2
}
