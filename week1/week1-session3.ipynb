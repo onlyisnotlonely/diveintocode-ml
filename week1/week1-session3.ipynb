{
 "cells": [
  {
   "cell_type": "markdown",
   "metadata": {},
   "source": [
    "# 栗饅頭問題\n",
    "\n",
    "- 「バイバイン」は薬品で、これを振掛けるとその物体は5分ごとに倍に増えるという働きがあります。\n",
    "\n",
    "- 1個の栗まんじゅうにバイバインを振りかけた場合、太陽系が栗まんじゅうで覆われるのは何分後でしょうか。これを計算するプログラムを作成してください。\n",
    "\n",
    "- 栗まんじゅうや太陽系の体積を調査した上で仮定して計算してください。栗まんじゅうの隙間や重力などは考えず、問題を単純化して構いません。\n",
    "\n",
    "- ボールにバイバインを振りかけた時、東京ドームが一杯になる時間など他の状況にも適用できるような汎用的なプログラムを作成してください。\n",
    "\n",
    "- また、グラフを表示するなど分かりやすいノートブックを作成してください。"
   ]
  },
  {
   "cell_type": "code",
   "execution_count": 2,
   "metadata": {},
   "outputs": [
    {
     "name": "stdout",
     "output_type": "stream",
     "text": [
      "太陽系の体積を超えるまでにかかる時間:1090分\n"
     ]
    },
    {
     "data": {
      "text/plain": [
       "217"
      ]
     },
     "execution_count": 2,
     "metadata": {},
     "output_type": "execute_result"
    }
   ],
   "source": [
    "#栗饅頭の体積(立法メートル)\n",
    "import math\n",
    "manju_volume_0 = 4/3*0.05**3*math.pi\n",
    "\n",
    "#栗饅頭の体積のリスト\n",
    "manju_volume_list = [manju_volume_0]\n",
    "\n",
    "#増殖した回数\n",
    "count = 0\n",
    "\n",
    "#初期の体積を設定\n",
    "manju_volume_n = manju_volume_0 \n",
    "\n",
    "#饅頭の増加体積の上限を太陽系の大きさに設定\n",
    "solar_system_radius = 25000 * 9.461e+15\n",
    "solar_system_volume = 4/3 * solar_system_radius**3 * math.pi\n",
    "#max_volume = solar_system_volume\n",
    "\n",
    "\n",
    "#増殖を繰り返し、体積をリストに挿入\n",
    "while manju_volume_n <= solar_system_volume:\n",
    "    count += 1\n",
    "    manju_volume_n *= 2\n",
    "    manju_volume_list.append(manju_volume_n)\n",
    "\n",
    "#到達にかかる時間\n",
    "#2倍増殖にかかる時間\n",
    "time_to_multiply = 5\n",
    "time_to_fill = time_to_multiply * (count + 1)\n",
    "    \n",
    "print('太陽系の体積を超えるまでにかかる時間:' + str(time_to_fill) + '分')\n",
    "count"
   ]
  },
  {
   "cell_type": "markdown",
   "metadata": {},
   "source": [
    "# 栗饅頭問題一般化　関数作成"
   ]
  },
  {
   "cell_type": "code",
   "execution_count": 3,
   "metadata": {},
   "outputs": [],
   "source": [
    "#関数\n",
    "#引数の説明: volume_to_fill_with(5分毎に倍増するもの), volume_to_be_filled(満たされるもの)\n",
    "\n",
    "def time_to_fill(volume_to_fill_with, volume_to_be_filled,time_to_multiply=5):\n",
    "    #物体の増加によって到達する体積のリスト\n",
    "    volume_list = [volume_to_fill_with]\n",
    "\n",
    "    #増殖した回数\n",
    "    count = 0\n",
    "    \n",
    "    #初期のボリュームを設定\n",
    "    volume_n = volume_to_fill_with \n",
    "    \n",
    "    \n",
    "    #増殖を繰り返し、体積をリストに挿入\n",
    "    while volume_n <= volume_to_be_filled:\n",
    "        count += 1\n",
    "        volume_n *= 2\n",
    "        volume_list.append(volume_n)\n",
    "    return  count, time_to_multiply * (count + 1),  volume_list\n"
   ]
  },
  {
   "cell_type": "code",
   "execution_count": 4,
   "metadata": {},
   "outputs": [],
   "source": [
    "# 栗饅頭と太陽系で検算（何分で太陽系が栗饅頭で満たされるか?）\n",
    "count, time, volume_list = time_to_fill(4/3*0.05**3*math.pi,4/3 * (25000 * 9.461e+15)**3 * math.pi)"
   ]
  },
  {
   "cell_type": "code",
   "execution_count": 5,
   "metadata": {},
   "outputs": [
    {
     "data": {
      "text/plain": [
       "1090"
      ]
     },
     "execution_count": 5,
     "metadata": {},
     "output_type": "execute_result"
    }
   ],
   "source": [
    "time"
   ]
  },
  {
   "cell_type": "markdown",
   "metadata": {},
   "source": [
    "# 栗饅頭が太陽系を満たす軌跡をグラフで可視化する"
   ]
  },
  {
   "cell_type": "code",
   "execution_count": 9,
   "metadata": {},
   "outputs": [],
   "source": [
    "# 栗饅頭の体積が格納されたリスト\n",
    "#volume_list"
   ]
  },
  {
   "cell_type": "code",
   "execution_count": 16,
   "metadata": {},
   "outputs": [
    {
     "data": {
      "text/plain": [
       "[<matplotlib.lines.Line2D at 0x116ab2e80>]"
      ]
     },
     "execution_count": 16,
     "metadata": {},
     "output_type": "execute_result"
    },
    {
     "data": {
      "image/png": "[encoded data removed]",
      "text/plain": [
       "<Figure size 432x288 with 1 Axes>"
      ]
     },
     "metadata": {
      "needs_background": "light"
     },
     "output_type": "display_data"
    }
   ],
   "source": [
    "import matplotlib.pyplot as plt\n",
    "\n",
    "x = [5 * i for i in range(count + 1)] # 経過時間（分）\n",
    "y = volume_list # 栗饅頭の体積(m3)\n",
    "\n",
    "plt.xlabel(\"minutes\", color=\"navy\")\n",
    "plt.ylabel(\"cubic meter\", color=\"navy\")\n",
    "plt.title(\"Volume increase of Chestnut wharf\", color = \"navy\")\n",
    "plt.plot(x, y, color = \"red\")"
   ]
  },
  {
   "cell_type": "code",
   "execution_count": null,
   "metadata": {},
   "outputs": [],
   "source": []
  }
 ],
 "metadata": {
  "kernelspec": {
   "display_name": "Python 3",
   "language": "python",
   "name": "python3"
  },
  "language_info": {
   "codemirror_mode": {
    "name": "ipython",
    "version": 3
   },
   "file_extension": ".py",
   "mimetype": "text/x-python",
   "name": "python",
   "nbconvert_exporter": "python",
   "pygments_lexer": "ipython3",
   "version": "3.7.1"
  }
 },
 "nbformat": 4,
 "nbformat_minor": 2
}
