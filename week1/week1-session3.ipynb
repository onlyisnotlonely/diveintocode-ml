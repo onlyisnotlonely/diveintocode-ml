{
 "cells": [
  {
   "cell_type": "markdown",
   "metadata": {},
   "source": [
    "# 栗饅頭問題\n",
    "\n",
    "- 「バイバイン」は薬品で、これを振掛けるとその物体は5分ごとに倍に増えるという働きがあります。\n",
    "\n",
    "- 1個の栗まんじゅうにバイバインを振りかけた場合、太陽系が栗まんじゅうで覆われるのは何分後でしょうか。これを計算するプログラムを作成してください。\n",
    "\n",
    "- 栗まんじゅうや太陽系の体積を調査した上で仮定して計算してください。栗まんじゅうの隙間や重力などは考えず、問題を単純化して構いません。\n",
    "\n",
    "- ボールにバイバインを振りかけた時、東京ドームが一杯になる時間など他の状況にも適用できるような汎用的なプログラムを作成してください。\n",
    "\n",
    "- また、グラフを表示するなど分かりやすいノートブックを作成してください。"
   ]
  },
  {
   "cell_type": "code",
   "execution_count": 6,
   "metadata": {},
   "outputs": [
    {
     "name": "stdout",
     "output_type": "stream",
     "text": [
      "太陽系の体積を超えるまでにかかる時間:1090分\n"
     ]
    },
    {
     "data": {
      "text/plain": [
       "217"
      ]
     },
     "execution_count": 6,
     "metadata": {},
     "output_type": "execute_result"
    }
   ],
   "source": [
    "#栗饅頭の体積(立法メートル)\n",
    "import math\n",
    "manju_volume_0 = 4/3*0.05**3*math.pi\n",
    "\n",
    "#栗饅頭の体積のリスト\n",
    "manju_volume_list = [manju_volume_0]\n",
    "\n",
    "#増殖した回数\n",
    "count = 0\n",
    "\n",
    "#初期の体積を設定\n",
    "manju_volume_n = manju_volume_0 \n",
    "\n",
    "#饅頭の増加体積の上限を太陽系の大きさに設定\n",
    "solar_system_radius = 25000 * 9.461e+15\n",
    "solar_system_volume = 4/3 * solar_system_radius**3 * math.pi\n",
    "#max_volume = solar_system_volume\n",
    "\n",
    "\n",
    "#増殖を繰り返し、体積をリストに挿入\n",
    "while manju_volume_n <= solar_system_volume:\n",
    "    count += 1\n",
    "    manju_volume_n *= 2\n",
    "    manju_volume_list.append(manju_volume_n)\n",
    "\n",
    "#到達にかかる時間\n",
    "#2倍増殖にかかる時間\n",
    "time_to_multiply = 5\n",
    "time_to_fill = time_to_multiply * (count + 1)\n",
    "    \n",
    "print('太陽系の体積を超えるまでにかかる時間:' + str(time_to_fill) + '分')\n",
    "count"
   ]
  },
  {
   "cell_type": "markdown",
   "metadata": {},
   "source": [
    "# 栗饅頭問題一般化　関数作成"
   ]
  },
  {
   "cell_type": "code",
   "execution_count": 22,
   "metadata": {},
   "outputs": [],
   "source": [
    "#関数\n",
    "#引数の説明: volume_to_fill_with(5分毎に倍増するもの), volume_to_be_filled(満たされるもの)\n",
    "\n",
    "def time_to_fill(volume_to_fill_with, volume_to_be_filled,time_to_multiply=5):\n",
    "    #物体の増加によって到達する体積のリスト\n",
    "    volume_list = [volume_to_fill_with]\n",
    "\n",
    "    #増殖した回数\n",
    "    count = 0\n",
    "    \n",
    "    #初期のボリュームを設定\n",
    "    volume_n = volume_to_fill_with \n",
    "    \n",
    "    \n",
    "    #増殖を繰り返し、体積をリストに挿入\n",
    "    while volume_n <= volume_to_be_filled:\n",
    "        count += 1\n",
    "        volume_n *= 2\n",
    "        volume_list.append(volume_n)\n",
    "    return  count, time_to_multiply * (count + 1),  volume_list\n"
   ]
  },
  {
   "cell_type": "code",
   "execution_count": 23,
   "metadata": {},
   "outputs": [],
   "source": [
    "# 栗饅頭と太陽系で検算（何分で太陽系が栗饅頭で満たされるか?）\n",
    "count, time, volume_list = time_to_fill(4/3*0.05**3*math.pi,4/3 * (25000 * 9.461e+15)**3 * math.pi)"
   ]
  },
  {
   "cell_type": "code",
   "execution_count": 16,
   "metadata": {},
   "outputs": [
    {
     "data": {
      "text/plain": [
       "1090"
      ]
     },
     "execution_count": 16,
     "metadata": {},
     "output_type": "execute_result"
    }
   ],
   "source": [
    "time"
   ]
  },
  {
   "cell_type": "markdown",
   "metadata": {},
   "source": [
    "# 栗饅頭が太陽系を満たす軌跡をグラフで可視化する"
   ]
  },
  {
   "cell_type": "code",
   "execution_count": 24,
   "metadata": {},
   "outputs": [
    {
     "data": {
      "text/plain": [
       "[0.0005235987755982989,\n",
       " 0.0010471975511965978,\n",
       " 0.0020943951023931957,\n",
       " 0.004188790204786391,\n",
       " 0.008377580409572783,\n",
       " 0.016755160819145565,\n",
       " 0.03351032163829113,\n",
       " 0.06702064327658226,\n",
       " 0.13404128655316452,\n",
       " 0.26808257310632905,\n",
       " 0.5361651462126581,\n",
       " 1.0723302924253162,\n",
       " 2.1446605848506324,\n",
       " 4.289321169701265,\n",
       " 8.57864233940253,\n",
       " 17.15728467880506,\n",
       " 34.31456935761012,\n",
       " 68.62913871522024,\n",
       " 137.25827743044047,\n",
       " 274.51655486088094,\n",
       " 549.0331097217619,\n",
       " 1098.0662194435238,\n",
       " 2196.1324388870476,\n",
       " 4392.264877774095,\n",
       " 8784.52975554819,\n",
       " 17569.05951109638,\n",
       " 35138.11902219276,\n",
       " 70276.23804438552,\n",
       " 140552.47608877104,\n",
       " 281104.9521775421,\n",
       " 562209.9043550842,\n",
       " 1124419.8087101683,\n",
       " 2248839.6174203367,\n",
       " 4497679.234840673,\n",
       " 8995358.469681347,\n",
       " 17990716.939362694,\n",
       " 35981433.87872539,\n",
       " 71962867.75745077,\n",
       " 143925735.51490155,\n",
       " 287851471.0298031,\n",
       " 575702942.0596062,\n",
       " 1151405884.1192124,\n",
       " 2302811768.238425,\n",
       " 4605623536.47685,\n",
       " 9211247072.9537,\n",
       " 18422494145.9074,\n",
       " 36844988291.8148,\n",
       " 73689976583.6296,\n",
       " 147379953167.2592,\n",
       " 294759906334.5184,\n",
       " 589519812669.0367,\n",
       " 1179039625338.0735,\n",
       " 2358079250676.147,\n",
       " 4716158501352.294,\n",
       " 9432317002704.588,\n",
       " 18864634005409.176,\n",
       " 37729268010818.35,\n",
       " 75458536021636.7,\n",
       " 150917072043273.4,\n",
       " 301834144086546.8,\n",
       " 603668288173093.6,\n",
       " 1207336576346187.2,\n",
       " 2414673152692374.5,\n",
       " 4829346305384749.0,\n",
       " 9658692610769498.0,\n",
       " 1.9317385221538996e+16,\n",
       " 3.863477044307799e+16,\n",
       " 7.726954088615598e+16,\n",
       " 1.5453908177231197e+17,\n",
       " 3.0907816354462394e+17,\n",
       " 6.181563270892479e+17,\n",
       " 1.2363126541784957e+18,\n",
       " 2.4726253083569915e+18,\n",
       " 4.945250616713983e+18,\n",
       " 9.890501233427966e+18,\n",
       " 1.978100246685593e+19,\n",
       " 3.956200493371186e+19,\n",
       " 7.912400986742373e+19,\n",
       " 1.5824801973484746e+20,\n",
       " 3.164960394696949e+20,\n",
       " 6.329920789393898e+20,\n",
       " 1.2659841578787796e+21,\n",
       " 2.5319683157575593e+21,\n",
       " 5.063936631515119e+21,\n",
       " 1.0127873263030237e+22,\n",
       " 2.0255746526060474e+22,\n",
       " 4.051149305212095e+22,\n",
       " 8.10229861042419e+22,\n",
       " 1.620459722084838e+23,\n",
       " 3.240919444169676e+23,\n",
       " 6.481838888339352e+23,\n",
       " 1.2963677776678704e+24,\n",
       " 2.5927355553357407e+24,\n",
       " 5.185471110671481e+24,\n",
       " 1.0370942221342963e+25,\n",
       " 2.0741884442685926e+25,\n",
       " 4.148376888537185e+25,\n",
       " 8.29675377707437e+25,\n",
       " 1.659350755414874e+26,\n",
       " 3.318701510829748e+26,\n",
       " 6.637403021659496e+26,\n",
       " 1.3274806043318992e+27,\n",
       " 2.6549612086637985e+27,\n",
       " 5.309922417327597e+27,\n",
       " 1.0619844834655194e+28,\n",
       " 2.123968966931039e+28,\n",
       " 4.247937933862078e+28,\n",
       " 8.495875867724155e+28,\n",
       " 1.699175173544831e+29,\n",
       " 3.398350347089662e+29,\n",
       " 6.796700694179324e+29,\n",
       " 1.3593401388358648e+30,\n",
       " 2.7186802776717296e+30,\n",
       " 5.437360555343459e+30,\n",
       " 1.0874721110686919e+31,\n",
       " 2.1749442221373837e+31,\n",
       " 4.349888444274767e+31,\n",
       " 8.699776888549535e+31,\n",
       " 1.739955377709907e+32,\n",
       " 3.479910755419814e+32,\n",
       " 6.959821510839628e+32,\n",
       " 1.3919643021679256e+33,\n",
       " 2.783928604335851e+33,\n",
       " 5.567857208671702e+33,\n",
       " 1.1135714417343405e+34,\n",
       " 2.227142883468681e+34,\n",
       " 4.454285766937362e+34,\n",
       " 8.908571533874724e+34,\n",
       " 1.7817143067749447e+35,\n",
       " 3.5634286135498895e+35,\n",
       " 7.126857227099779e+35,\n",
       " 1.4253714454199558e+36,\n",
       " 2.8507428908399116e+36,\n",
       " 5.701485781679823e+36,\n",
       " 1.1402971563359646e+37,\n",
       " 2.2805943126719293e+37,\n",
       " 4.561188625343859e+37,\n",
       " 9.122377250687717e+37,\n",
       " 1.8244754501375434e+38,\n",
       " 3.648950900275087e+38,\n",
       " 7.297901800550174e+38,\n",
       " 1.4595803601100347e+39,\n",
       " 2.9191607202200695e+39,\n",
       " 5.838321440440139e+39,\n",
       " 1.1676642880880278e+40,\n",
       " 2.3353285761760556e+40,\n",
       " 4.670657152352111e+40,\n",
       " 9.341314304704222e+40,\n",
       " 1.8682628609408445e+41,\n",
       " 3.736525721881689e+41,\n",
       " 7.473051443763378e+41,\n",
       " 1.4946102887526756e+42,\n",
       " 2.989220577505351e+42,\n",
       " 5.978441155010702e+42,\n",
       " 1.1956882310021405e+43,\n",
       " 2.391376462004281e+43,\n",
       " 4.782752924008562e+43,\n",
       " 9.565505848017124e+43,\n",
       " 1.9131011696034247e+44,\n",
       " 3.8262023392068494e+44,\n",
       " 7.652404678413699e+44,\n",
       " 1.5304809356827398e+45,\n",
       " 3.0609618713654796e+45,\n",
       " 6.121923742730959e+45,\n",
       " 1.2243847485461918e+46,\n",
       " 2.4487694970923836e+46,\n",
       " 4.897538994184767e+46,\n",
       " 9.795077988369535e+46,\n",
       " 1.959015597673907e+47,\n",
       " 3.918031195347814e+47,\n",
       " 7.836062390695628e+47,\n",
       " 1.5672124781391255e+48,\n",
       " 3.134424956278251e+48,\n",
       " 6.268849912556502e+48,\n",
       " 1.2537699825113004e+49,\n",
       " 2.507539965022601e+49,\n",
       " 5.015079930045202e+49,\n",
       " 1.0030159860090403e+50,\n",
       " 2.0060319720180807e+50,\n",
       " 4.012063944036161e+50,\n",
       " 8.024127888072323e+50,\n",
       " 1.6048255776144645e+51,\n",
       " 3.209651155228929e+51,\n",
       " 6.419302310457858e+51,\n",
       " 1.2838604620915716e+52,\n",
       " 2.5677209241831433e+52,\n",
       " 5.135441848366287e+52,\n",
       " 1.0270883696732573e+53,\n",
       " 2.0541767393465146e+53,\n",
       " 4.108353478693029e+53,\n",
       " 8.216706957386058e+53,\n",
       " 1.6433413914772117e+54,\n",
       " 3.2866827829544234e+54,\n",
       " 6.573365565908847e+54,\n",
       " 1.3146731131817694e+55,\n",
       " 2.6293462263635387e+55,\n",
       " 5.258692452727077e+55,\n",
       " 1.0517384905454155e+56,\n",
       " 2.103476981090831e+56,\n",
       " 4.206953962181662e+56,\n",
       " 8.413907924363324e+56,\n",
       " 1.6827815848726648e+57,\n",
       " 3.3655631697453296e+57,\n",
       " 6.731126339490659e+57,\n",
       " 1.3462252678981318e+58,\n",
       " 2.6924505357962636e+58,\n",
       " 5.384901071592527e+58,\n",
       " 1.0769802143185055e+59,\n",
       " 2.153960428637011e+59,\n",
       " 4.307920857274022e+59,\n",
       " 8.615841714548044e+59,\n",
       " 1.7231683429096087e+60,\n",
       " 3.4463366858192175e+60,\n",
       " 6.892673371638435e+60,\n",
       " 1.378534674327687e+61,\n",
       " 2.757069348655374e+61,\n",
       " 5.514138697310748e+61,\n",
       " 1.1028277394621496e+62]"
      ]
     },
     "execution_count": 24,
     "metadata": {},
     "output_type": "execute_result"
    }
   ],
   "source": [
    "# 栗饅頭の体積が格納されたリスト\n",
    "volume_list"
   ]
  },
  {
   "cell_type": "code",
   "execution_count": 26,
   "metadata": {},
   "outputs": [
    {
     "data": {
      "text/plain": [
       "[<matplotlib.lines.Line2D at 0x11e7f58d0>]"
      ]
     },
     "execution_count": 26,
     "metadata": {},
     "output_type": "execute_result"
    },
    {
     "data": {
      "image/png": "[encoded data removed]",
      "text/plain": [
       "<Figure size 432x288 with 1 Axes>"
      ]
     },
     "metadata": {
      "needs_background": "light"
     },
     "output_type": "display_data"
    }
   ],
   "source": [
    "import matplotlib.pyplot as plt\n",
    "\n",
    "x = [5 * i for i in range(count + 1)] # \n",
    "y = volume_list\n",
    "\n",
    "plt.xlabel(\"days\", color=\"navy\")\n",
    "plt.ylabel(\"cubic meter\", color=\"navy\")\n",
    "plt.title(\"Volume increase of Chestnut wharf\", color = \"navy\")\n",
    "plt.plot(x, y, color = \"red\")"
   ]
  },
  {
   "cell_type": "code",
   "execution_count": null,
   "metadata": {},
   "outputs": [],
   "source": []
  }
 ],
 "metadata": {
  "kernelspec": {
   "display_name": "Python 3",
   "language": "python",
   "name": "python3"
  },
  "language_info": {
   "codemirror_mode": {
    "name": "ipython",
    "version": 3
   },
   "file_extension": ".py",
   "mimetype": "text/x-python",
   "name": "python",
   "nbconvert_exporter": "python",
   "pygments_lexer": "ipython3",
   "version": "3.7.1"
  }
 },
 "nbformat": 4,
 "nbformat_minor": 2
}
