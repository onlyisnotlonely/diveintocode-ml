{
 "cells": [
  {
   "cell_type": "markdown",
   "metadata": {},
   "source": [
    "# WEEK1 曾呂利新左衛門問題"
   ]
  },
  {
   "cell_type": "markdown",
   "metadata": {},
   "source": [
    "# 100日目に受け取るコメの量を計算する"
   ]
  },
  {
   "cell_type": "code",
   "execution_count": 39,
   "metadata": {},
   "outputs": [
    {
     "name": "stdout",
     "output_type": "stream",
     "text": [
      "コメの数： 633,825,300,114,114,700,748,351,602,688粒\n"
     ]
    }
   ],
   "source": [
    "# 前提条件\n",
    "RICE_DAY1 = 1 #1日目に受け取るコメの量\n",
    "TOTAL_DAYS = 100 #コメを受け取る期間\n",
    "\n",
    "rice = RICE_DAY1*2**(TOTAL_DAYS -1) # 100日目に受け取るコメの量\n",
    "\n",
    "print(\"コメの数： {:,}粒\".format(rice))"
   ]
  },
  {
   "cell_type": "markdown",
   "metadata": {},
   "source": [
    "# 受け取るコメの量をグラフに可視化する"
   ]
  },
  {
   "cell_type": "code",
   "execution_count": 65,
   "metadata": {},
   "outputs": [],
   "source": [
    "#前提条件\n",
    "RICE_DAY0 = 1 #1日目に受け取るコメの量\n",
    "TOTAL_DAYS = 100 #コメを受け取る期間\n",
    "\n",
    "# n日目に受け取るコメの粒を格納するリスト（グラフ描画の引数に渡す）\n",
    "daily_rice = []\n",
    "\n",
    "#　過去にもらったコメの粒の累計（グラフ描画の引数に渡す）\n",
    "total_rice = []\n",
    "total_rice_count = 1\n",
    "\n",
    "# コメを受け取った日数\n",
    "days = []\n",
    "\n",
    "# 　1日目に受け取るコメの量を初期化\n",
    "rice = RICE_DAY0\n",
    "\n",
    "for i in range(1, TOTAL_DAYS+1):\n",
    "    days.append(i)\n",
    "    daily_rice.append(rice) # i日目にもらうコメの粒をリストに格納する\n",
    "    total_rice.append(total_rice_count) # i日目までに受け取ったコメの累計をリストに格納する \n",
    "    rice *=2 # i+1日目に受け取るコメの粒を求める\n",
    "    total_rice_count += rice # i+1日目までに受け取るコメの粒の累計を求める\n",
    "\n",
    "#daily_rice, total_rice\n",
    "\n",
    "# print(\"100日目に受け取るコメの粒： {:,}粒\".format(daily_rice[-1]))\n",
    "# print(\"100日目までに受け取るコメの累計： {:,}粒\".format(total_rice[-1]))"
   ]
  },
  {
   "cell_type": "markdown",
   "metadata": {},
   "source": [
    "＜1日に受け取るコメの量をグラフにする＞"
   ]
  },
  {
   "cell_type": "code",
   "execution_count": 66,
   "metadata": {},
   "outputs": [
    {
     "data": {
      "text/plain": [
       "[<matplotlib.lines.Line2D at 0x11fa45748>]"
      ]
     },
     "execution_count": 66,
     "metadata": {},
     "output_type": "execute_result"
    },
    {
     "data": {
      "image/png": "[encoded data removed]",
      "text/plain": [
       "<Figure size 432x288 with 1 Axes>"
      ]
     },
     "metadata": {
      "needs_background": "light"
     },
     "output_type": "display_data"
    }
   ],
   "source": [
    "import matplotlib.pyplot as plt\n",
    "%matplotlib inline\n",
    "\n",
    "# グラフの変数\n",
    "x = days\n",
    "y = daily_rice\n",
    "\n",
    "# 1日に受け取るコメの粒のグラフ\n",
    "plt.title(\"daily amount of rice\", color=\"navy\")\n",
    "plt.xlabel(\"days\", color=\"navy\")\n",
    "plt.ylabel(\"amount of rice\", color=\"navy\")\n",
    "plt.plot(x, y, color='red') # 「配列名」のところにlist型変数を入れる"
   ]
  },
  {
   "cell_type": "markdown",
   "metadata": {},
   "source": [
    "＜累計で受け取ったコメの量をグラフにする＞"
   ]
  },
  {
   "cell_type": "code",
   "execution_count": 67,
   "metadata": {},
   "outputs": [
    {
     "data": {
      "text/plain": [
       "[<matplotlib.lines.Line2D at 0x11faa04e0>]"
      ]
     },
     "execution_count": 67,
     "metadata": {},
     "output_type": "execute_result"
    },
    {
     "data": {
      "image/png": "[encoded data removed]",
      "text/plain": [
       "<Figure size 432x288 with 1 Axes>"
      ]
     },
     "metadata": {
      "needs_background": "light"
     },
     "output_type": "display_data"
    }
   ],
   "source": [
    "# グラフの変数\n",
    "x = days\n",
    "y = total_rice\n",
    "\n",
    "#1日当たりの過去のもらうコメの粒のグラフ\n",
    "plt.title(\"total amount of rice\", color = \"navy\")\n",
    "plt.xlabel(\"days\", color=\"navy\")\n",
    "plt.ylabel(\"amount of rice\", color=\"navy\")\n",
    "plt.plot(x, y, color='red') # 「配列名」のところにlist型変数を入れる"
   ]
  },
  {
   "cell_type": "markdown",
   "metadata": {},
   "source": [
    "# 受け取るコメの量を関数化する"
   ]
  },
  {
   "cell_type": "code",
   "execution_count": 68,
   "metadata": {},
   "outputs": [
    {
     "name": "stdout",
     "output_type": "stream",
     "text": [
      "100日目に受け取ったコメの粒：　633,825,300,114,114,700,748,351,602,688\n",
      "100日目までに受け取った累計のコメの粒：　1,267,650,600,228,229,401,496,703,205,375\n"
     ]
    }
   ],
   "source": [
    "def compute_sorori_shinzaemon(rice =1, day=100):\n",
    "\n",
    "    # n日目に受け取るコメの粒を格納するリスト（グラフ描画の引数に渡す）\n",
    "    list_n_grains = []\n",
    "    #　過去にもらったコメの粒の累計（グラフ描画の引数に渡す）\n",
    "    list_total_grains = []\n",
    "    total_grains_count = rice \n",
    "    \n",
    "    # 受け取った日数を格納するリスト（）\n",
    "    days = [] \n",
    "    \n",
    "    for i in range(1, day+1):\n",
    "        days.append(i)\n",
    "        list_n_grains.append(rice) #リストに入れる　1日にもらうコメの粒\n",
    "        list_total_grains.append(total_grains_count) #その日までにもらったコメの粒のリスト \n",
    "        rice *=2 # その日もらうコメの粒を計算 \n",
    "        total_grains_count += rice #その日までにもらったコメの数の累計を計算\n",
    "\n",
    "    return days, list_n_grains, list_total_grains\n",
    "\n",
    "\n",
    "days, list_n_grains, list_total_grains = compute_sorori_shinzaemon(day=100)\n",
    "\n",
    "print(\"{0}日目に受け取ったコメの粒：　{1:,}\".format(days[-1], list_n_grains[-1]))\n",
    "print(\"{0}日目までに受け取った累計のコメの粒：　{1:,}\".format(days[-1], list_total_grains[-1]))"
   ]
  },
  {
   "cell_type": "code",
   "execution_count": 70,
   "metadata": {},
   "outputs": [
    {
     "data": {
      "text/plain": [
       "[<matplotlib.lines.Line2D at 0x11fc2e978>]"
      ]
     },
     "execution_count": 70,
     "metadata": {},
     "output_type": "execute_result"
    },
    {
     "data": {
      "image/png": "[encoded data removed]",
      "text/plain": [
       "<Figure size 432x288 with 1 Axes>"
      ]
     },
     "metadata": {
      "needs_background": "light"
     },
     "output_type": "display_data"
    }
   ],
   "source": [
    "# グラフの変数\n",
    "x = days\n",
    "y = list_n_grains\n",
    "\n",
    "# 1日に受け取るコメの粒のグラフ\n",
    "plt.title(\"daily amount of rice\", color=\"navy\")\n",
    "plt.xlabel(\"days\", color=\"navy\")\n",
    "plt.ylabel(\"amount of rice\", color=\"navy\")\n",
    "plt.plot(x, y, color='red') # 「配列名」のところにlist型変数を入れる"
   ]
  },
  {
   "cell_type": "code",
   "execution_count": 71,
   "metadata": {},
   "outputs": [
    {
     "data": {
      "text/plain": [
       "[<matplotlib.lines.Line2D at 0x11fd5eb00>]"
      ]
     },
     "execution_count": 71,
     "metadata": {},
     "output_type": "execute_result"
    },
    {
     "data": {
      "image/png": "[encoded data removed]",
      "text/plain": [
       "<Figure size 432x288 with 1 Axes>"
      ]
     },
     "metadata": {
      "needs_background": "light"
     },
     "output_type": "display_data"
    }
   ],
   "source": [
    "# グラフの変数\n",
    "x = days\n",
    "y = list_total_grains\n",
    "\n",
    "#1日当たりの過去のもらうコメの粒のグラフ\n",
    "plt.title(\"total amount of rice\", color = \"navy\")\n",
    "plt.xlabel(\"days\", color=\"navy\")\n",
    "plt.ylabel(\"amount of rice\", color=\"navy\")\n",
    "plt.plot(x, y, color='red') # 「配列名」のところにlist型変数を入れる"
   ]
  },
  {
   "cell_type": "markdown",
   "metadata": {},
   "source": [
    "# 何人が何日生活できるコメの量か？"
   ]
  },
  {
   "cell_type": "code",
   "execution_count": 77,
   "metadata": {},
   "outputs": [
    {
     "name": "stdout",
     "output_type": "stream",
     "text": [
      "期間中にのコメの数： 1329227995784915872903807060280344575粒\n",
      "生活できる日数： 19,663,136,032,321,240,533,158,676,398,080日\n",
      "生活できる年数： 5.38716055680034e+28年\n"
     ]
    }
   ],
   "source": [
    "# 前提条件\n",
    "# 機械学習コースを受講する期間にもらえる米粒の数\n",
    "\n",
    "days, list_n_grains, list_total_grains = compute_sorori_shinzaemon(day=120)\n",
    "got_rice = list_total_grains[-1] # トータルで受け取ることができるコメの粒\n",
    "\n",
    "print(\"期間中にのコメの数： {}粒\".format(got_rice))\n",
    "\n",
    "#1日1人必要なコメの量（粒）\n",
    "needed_rice = 5200\n",
    "#受講している人数\n",
    "number_of_students = 13\n",
    "#1日に全員で必要となるコメの量\n",
    "minimun_rice = needed_rice * number_of_students\n",
    "\n",
    "#生活できる日数\n",
    "living_days = int(got_rice / minimun_rice)\n",
    "living_years = int(got_rice / minimun_rice)/365\n",
    "print(\"生活できる日数： {:,}日\".format(living_days))\n",
    "print(\"生活できる年数： {:,}年\".format(living_years))"
   ]
  },
  {
   "cell_type": "code",
   "execution_count": null,
   "metadata": {},
   "outputs": [],
   "source": []
  }
 ],
 "metadata": {
  "kernelspec": {
   "display_name": "Python 3",
   "language": "python",
   "name": "python3"
  },
  "language_info": {
   "codemirror_mode": {
    "name": "ipython",
    "version": 3
   },
   "file_extension": ".py",
   "mimetype": "text/x-python",
   "name": "python",
   "nbconvert_exporter": "python",
   "pygments_lexer": "ipython3",
   "version": "3.7.1"
  }
 },
 "nbformat": 4,
 "nbformat_minor": 2
}
