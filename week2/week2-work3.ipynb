{
 "cells": [
  {
   "cell_type": "markdown",
   "metadata": {},
   "source": [
    "# この課題の目的\n",
    "\n",
    "- 数式演算ライブラリのnumpyに慣れる\n",
    "\n",
    "\n",
    "- 機械学習に必須な行列演算に慣れる"
   ]
  },
  {
   "cell_type": "markdown",
   "metadata": {},
   "source": [
    "# 課題１：内積を手計算する\n",
    "\n",
    "以下のような行列A,Bに対して、行列の内積A＊Bを手計算で解きなさい。\n",
    "\n",
    "$$\n",
    " \\boldsymbol{A} = \n",
    "  \\left[\\begin{array}{cc}\n",
    "       -1&2&3 \\\\\n",
    "       4&-5&6 \\\\\n",
    "       7&8&-9 \\\\\n",
    "           \\end{array}\\right]           \n",
    "$$\n",
    "\n",
    "$$\n",
    " \\boldsymbol{B} = \n",
    "  \\left[\\begin{array}{cc}\n",
    "       0&2&1 \\\\\n",
    "       0&2&-8 \\\\\n",
    "       2&9&-1 \\\\\n",
    "           \\end{array}\\right]           \n",
    "$$\n",
    "\n"
   ]
  },
  {
   "cell_type": "markdown",
   "metadata": {},
   "source": [
    "手計算の結果、行列の内積A＊Bは以下の通り求められた。\n",
    "\n",
    "$$\n",
    "\\boldsymbol{A*B} = \n",
    "  \\left[\\begin{array}{cc}\n",
    "    6   & 29 & -20 \\\\\n",
    "    12  & 52 & 38\\\\\n",
    "    -18 & -51& -48\\\\\n",
    "      \\end{array}\\right]\n",
    "$$"
   ]
  },
  {
   "cell_type": "markdown",
   "metadata": {},
   "source": [
    "# 課題２：１次元配列の内積をfor文で計算する\n",
    "\n",
    "課題１と同じ行列A,Bに対して、\n",
    "\n",
    "- 行列Aの(0,0)の要素と行列Bの(0,1)の要素を掛け合わせる\n",
    "- 行列Aの(0,1)の要素と行列Bの(1,1)の要素を掛け合わせる\n",
    "- 行列Aの(0,2)の要素と行列Bの(2,1)の要素を掛け合わせる\n",
    "- それらの値を全て足し合わせる\n",
    "\n",
    "のフローをfor文を使って計算する。"
   ]
  },
  {
   "cell_type": "code",
   "execution_count": 3,
   "metadata": {},
   "outputs": [
    {
     "data": {
      "text/plain": [
       "6.0"
      ]
     },
     "execution_count": 3,
     "metadata": {},
     "output_type": "execute_result"
    }
   ],
   "source": [
    "# A*Bの(0,0)1を計算するコードを実装する\n",
    "\n",
    "import numpy as np\n",
    "\n",
    "# 行列を用意する\n",
    "A = np.array([[-1 , 2, 3], [4, -5, 6], [7, 8, -9]])\n",
    "B = np.array([[0, 2, 1],[0 ,2, -8],[2, 9, -1]])\n",
    "\n",
    "# 行列A＊Bの内積(inner_product)を格納する行列を作り、各成分を０で初期化する\n",
    "inner_product = np.zeros((3,3)) \n",
    "\n",
    "#  A*Bの(0,0)を計算する\n",
    "for i in range(3):\n",
    "    inner_product[0][0] += A[0][i] * B[i][0]\n",
    "\n",
    "#  計算結果を出力する\n",
    "inner_product[0][0]"
   ]
  },
  {
   "cell_type": "markdown",
   "metadata": {},
   "source": [
    "# 課題３：多次元配列の内積をfor文で計算する\n",
    "\n",
    "課題１と同じ行列A,Bについて、行列の内積A * Bをfor文を使って計算する。"
   ]
  },
  {
   "cell_type": "code",
   "execution_count": 5,
   "metadata": {},
   "outputs": [
    {
     "data": {
      "text/plain": [
       "array([[  6.,  29., -20.],\n",
       "       [ 12.,  52.,  38.],\n",
       "       [-18., -51., -48.]])"
      ]
     },
     "execution_count": 5,
     "metadata": {},
     "output_type": "execute_result"
    }
   ],
   "source": [
    "# 行列を用意する\n",
    "A = np.array([[-1 , 2, 3], [4, -5, 6], [7, 8, -9]])\n",
    "B = np.array([[0, 2, 1],[0 ,2, -8],[2, 9, -1]])\n",
    "\n",
    "# 行列A＊Bの内積(inner_product)を格納する行列を作り、各成分を０で初期化する\n",
    "inner_product = np.zeros((3,3))\n",
    "\n",
    "#  内積A*Bの(i,j)を計算する\n",
    "\n",
    "for column in range(3): # 行インデックス\n",
    "    for row in range(3): #  列インデックス\n",
    "        for num in range(3): # 積和\n",
    "            inner_product[column][row] += A[column][num] * B[num][row] # 出力はC[i][j]\n",
    "\n",
    "#  計算結果を出力する\n",
    "inner_product"
   ]
  },
  {
   "cell_type": "markdown",
   "metadata": {},
   "source": [
    "### 上記は以下の計算をfor文を用いて実行している\n",
    "\n",
    "```\n",
    "inner_product_AB[0][0] += A[0][i] * B[i][0]\n",
    "inner_product_AB[0][1] += A[0][i] * B[i][1]\n",
    "inner_product_AB[0][2] += A[0][i] * B[i][2]\n",
    "\n",
    "inner_product_AB[1][0] += A[1][i] * B[i][0]\n",
    "inner_product_AB[1][1] += A[1][i] * B[i][1]\n",
    "inner_product_AB[1][2] += A[1][i] * B[i][2]\n",
    "\n",
    "inner_product_AB[2][0] += A[2][i] * B[i][0]\n",
    "inner_product_AB[2][1] += A[2][i] * B[i][1]\n",
    "inner_product_AB[2][2] += A[2][i] * B[i][2]\n",
    "```\n",
    "\n",
    "<考え方のコツ>\n",
    "- 最初に出力であるinner_product[column][row]を書いておくと、計算で迷わなくなる。\n",
    "\n",
    "\n",
    "- 行列Aは行インデックスを動かすので、for文の中では**\"column\"**と表現する。\n",
    "\n",
    "\n",
    "- 行列Bは列インデックスを動かすので、for文の中では**\"row\"**と表現する。"
   ]
  },
  {
   "cell_type": "markdown",
   "metadata": {},
   "source": [
    "# 課題４：内積をnp.dotで計算する\n",
    "\n",
    " - numpyのdotメソッドを用いて内積A* Bを計算する。"
   ]
  },
  {
   "cell_type": "code",
   "execution_count": 6,
   "metadata": {},
   "outputs": [
    {
     "data": {
      "text/plain": [
       "array([[  6,  29, -20],\n",
       "       [ 12,  52,  38],\n",
       "       [-18, -51, -48]])"
      ]
     },
     "execution_count": 6,
     "metadata": {},
     "output_type": "execute_result"
    }
   ],
   "source": [
    "# 行列を用意する\n",
    "A = np.array([[-1 , 2, 3], [4, -5, 6], [7, 8, -9]])\n",
    "B = np.array([[0, 2, 1],[0 ,2, -8],[2, 9, -1]])\n",
    "\n",
    "# np.dotメソッドを用いて内積inner_product_AB = A*Bを計算する\n",
    "inner_product_AB = np.dot(A, B)\n",
    "\n",
    "#  計算結果を出力する\n",
    "inner_product_AB"
   ]
  },
  {
   "cell_type": "markdown",
   "metadata": {},
   "source": [
    "# 課題５：内積が計算できないときはどうするか？\n",
    "\n",
    "以下のような行列A,Bに対して、行列の内積A＊Bはエラーが出て計算できない。\n",
    "\n",
    "$$\n",
    " \\boldsymbol{A} = \n",
    "  \\left[\\begin{array}{cc}\n",
    "       -1&2&3 \\\\\n",
    "       4&-5&6 \\\\\n",
    "           \\end{array}\\right]           \n",
    "$$\n",
    "\n",
    "$$\n",
    " \\boldsymbol{B} = \n",
    "  \\left[\\begin{array}{cc}\n",
    "       9&8&7 \\\\\n",
    "       6&-5&4 \\\\\n",
    "           \\end{array}\\right]           \n",
    "$$\n",
    "\n",
    "- なぜエラーが出るのか理由を記載すること。\n",
    "\n",
    "- 行列A, Bのいずれかに処理を施し、内積を計算すること。\n"
   ]
  },
  {
   "cell_type": "markdown",
   "metadata": {},
   "source": [
    "### エラーが発生する理由 \n",
    "\n",
    " - 内積が計算できるためには、行列Aの列数と行列Bの列数が一致しなければならない。\n",
    " \n",
    "\n",
    " - 具体的には、行列Aがa × b行列、行列Bがb × c 行列の時、内積A * Bはa × c行列となる。 \n",
    " \n",
    "\n",
    " - 今回の例では行列Aが2×3行列、行列Bも2×3行列となっているため、内積が計算できない。\n",
    " \n",
    " \n",
    " - 内積を計算するためには行列Bを転置した転置行列$B^T$を求め、内積$A * B^T$を取れば良い。"
   ]
  },
  {
   "cell_type": "markdown",
   "metadata": {},
   "source": [
    "### 内積を求める"
   ]
  },
  {
   "cell_type": "code",
   "execution_count": 8,
   "metadata": {},
   "outputs": [
    {
     "data": {
      "text/plain": [
       "array([[28, -4],\n",
       "       [38, 73]])"
      ]
     },
     "execution_count": 8,
     "metadata": {},
     "output_type": "execute_result"
    }
   ],
   "source": [
    "# 行列を用意する\n",
    "A = np.array([[-1 , 2, 3], [4, -5, 6]])\n",
    "B = np.array([[9, 8, 7], [6 , -5, 4]])\n",
    "\n",
    "# Bの転置行列B_Tを求める\n",
    "\n",
    "B_T = B.T\n",
    "\n",
    "# 内積inner_product_ABを計算する\n",
    "inner_product_AB = np.dot(A, B_T)\n",
    "\n",
    "# 結果を出力する\n",
    "inner_product_AB"
   ]
  },
  {
   "cell_type": "markdown",
   "metadata": {},
   "source": [
    "# Week2の課題を通じて得られた学び\n",
    "\n",
    "以下に本課題を通じて得られた学びをまとめておきたい。\n",
    "\n",
    "- 新しい概念が出てきた時は、まず小さく具体的にシンプルに、手を動かしながら考える。\n",
    "\n",
    "\n",
    "- 手計算を何回かやってみることは重要。具体的な問題が解けると自信につながる。\n",
    "\n",
    "\n",
    "- いきなり抽象的に考えると思考停止、苦手意識につながるので、やめること。\n",
    "\n",
    "\n",
    "- 最初から細部にこだわることもやめる。まずは、全体像をざっくりつかむこと。\n",
    "\n",
    "\n",
    "- 簡単なこと、具体的なことを少しずつ積み重ねるがポジティブな感情の維持につながる。\n",
    "\n",
    "\n",
    "- 無意識に解けるレベルまで、具体的な問題を解くことを繰り返す。\n",
    "\n",
    "\n",
    "- 繰り返す中で法則性、共通性を感じ取れるようになってきたら、少し抽象化してみる。\n",
    "\n",
    "\n",
    "- 抽象化するとは、関数化できないか、繰り返し処理（for文、while文）できないか考える。\n",
    "\n",
    "\n",
    "- 抽象化するときは、出力（return）→入力（前提条件・引数）→プロセスの順番でコーディングする。\n",
    "\n",
    "\n",
    "- コーディングできたら、自分で具体的に解いた問題をコードを走らせてみる。\n",
    "\n",
    "\n",
    "- コードを実行した結果が、自分が手計算で解いた結果と一致しているか確かめる。\n",
    "\n",
    "\n",
    "- エラーメッセージが出ても気にしない。チャンスと捉えてエラーの内容を確認する。\n",
    "\n",
    "\n",
    "- エラーを調べて、一つずつ紐解いていてコードを修正していく。\n",
    "\n",
    "\n",
    "- 一旦、コードが完成したら、「もっとシンプルにできないか？」「他の人が見て分かりやすいか？」を考える。他の人の目線でレビューする。\n",
    "\n",
    "\n",
    "- 「レビュー → 修正」を繰り返して保存する。\n"
   ]
  },
  {
   "cell_type": "code",
   "execution_count": null,
   "metadata": {},
   "outputs": [],
   "source": []
  }
 ],
 "metadata": {
  "kernelspec": {
   "display_name": "Python 3",
   "language": "python",
   "name": "python3"
  },
  "language_info": {
   "codemirror_mode": {
    "name": "ipython",
    "version": 3
   },
   "file_extension": ".py",
   "mimetype": "text/x-python",
   "name": "python",
   "nbconvert_exporter": "python",
   "pygments_lexer": "ipython3",
   "version": "3.7.1"
  }
 },
 "nbformat": 4,
 "nbformat_minor": 2
}
