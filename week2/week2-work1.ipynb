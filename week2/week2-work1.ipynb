{
 "cells": [
  {
   "cell_type": "markdown",
   "metadata": {},
   "source": [
    "# 課題の目的\n",
    "\n",
    " - 数式演算ライプラリのnumpyに慣れる\n",
    " - 機械学習に必須な数学・統計用語に慣れる"
   ]
  },
  {
   "cell_type": "markdown",
   "metadata": {},
   "source": [
    "# 課題１：統計基礎用語の説明\n",
    "\n",
    " - 標準偏差について、分散との違いや関係性、どのような時に使う指標か整理する。\n",
    "\n",
    "\n",
    " - 共分散行列とは何か？\n",
    "\n",
    "\n",
    "- 1次元の正規分布と多次元の正規分布について整理する。特にどのような時に使うのか。"
   ]
  },
  {
   "cell_type": "markdown",
   "metadata": {},
   "source": [
    "### 標準偏差について\n",
    "\n",
    " - 標準偏差とは：一言で言えば**「データのバラつき（分布の裾野の広さ）」を測る尺度**。\n",
    " \n",
    " 以下、順を追って説明する。\n",
    "\n",
    "**1. 母集団(population)と標本(sample)について：**\n",
    " \n",
    "  - あるデータの分布を考えるとき、そのデータセットの範囲を理解する必要がある。\n",
    "  \n",
    " \n",
    "  - データ全体を「母集団」、母集団からランダムに抽出したデータの集合を「標本集団」と言う。\n",
    "  \n",
    "  \n",
    "  - 母集団は「有限母集団」と「無限母集団」に分かれる。\n",
    "  \n",
    "  \n",
    "    - 有限母集団は有限の要素からなる母集団。例えば、「日本に住む女性」が当てはまり、非常に多いが、数は有限であることから有限母集団となる。\n",
    "    \n",
    "    - 無限母集団は無限の要素からなる母集団。例えば、「サイコロを投げて出る目のデータ」が当てはまり、サイコロを投げる実験は無限に繰り返すことができるため、得られるデータに限りがない。\n",
    "  \n",
    "  \n",
    "   - 一般的に、集められたデータは標本（sample）であり、母集団が分からないことが多い。そのため基本統計量を求める際には、その集団が「母集団」「標本集団」のいずれなのか、念頭に置く必要がある。\n",
    " \n",
    " \n",
    "  - 以下では、「標本集団」を念頭に置いて、各統計量に関して説明する。\n",
    " \n",
    " \n",
    " **2. 平均(mean)について：**\n",
    " \n",
    " - 「平均」は基本統計量の１つで、「ある集団の値の総和を均等配分した値」を意味する。\n",
    " \n",
    " 具体的には次の数式により求まる。\n",
    "\n",
    "$$\n",
    "  　　mean = Σx_i / n （x_i:標本値、n：標本数）\n",
    " $$\n",
    " \n",
    " - 平均は「集団の値の中心を意味しない」ことに留意が必要。例えば、集団の中に外れ値（他の値と比較して極端に大きい、あるいは小さい値」が存在する場合、平均が極端に外れ値に近づいてしまう可能性がある。\n",
    " \n",
    " そのため、集団の値の中心を測る尺度としては、中央値（median）や最頻値（mode）のほうが適している。\n",
    " \n",
    " \n",
    "  - また、平均は複数の種類があり、上記の計算による平均値は「算術平均（相加平均）」と呼ばれる。\n",
    " \n",
    " 算術平均の他には、正数*xi*に対する「幾何平均（相乗平均）」があり、次の数式で求まる。\n",
    " \n",
    " $$\n",
    " 　　　mean = (x_1 x_2  ... x_i  ... x_n )^{1/n}（xi:標本値、n：標本数）\n",
    " $$\n",
    " \n",
    " 以降、特に断りがない場合、平均x_meanは「算術平均」を表すものとする。\n",
    " \n",
    " \n",
    " **3. 分散(variance)について：**\n",
    " \n",
    "  - 分散とは「データのバラつき」を測る基本統計量である。\n",
    "  \n",
    "  \n",
    "  - 具体的には「平均値と各データの差分の二乗和」として、次の数式により求まる。\n",
    " \n",
    " $$\n",
    " 　　　variance = 1/n * Σ（xi - xmean）^2 　(xi：標本値、n：標本数）\n",
    " $$\n",
    "\n",
    " \n",
    " **4. 標準偏差(standard deviation)について：**\n",
    " \n",
    " -  「ある分布の値のバラつき」を測る基本統計量として、分散が存在する。\n",
    "\n",
    "\n",
    " - 但し、分散の単位は、当該値の単位の二乗である点に留意が必要。値のバラつきの尺度（単位）を分布と揃えるためには平方根を取る必要がある。\n",
    "\n",
    "\n",
    " - 分散の平方根を標準偏差と呼び、具体的には以下の数式により求まる。\n",
    "\n",
    "   $$\n",
    " 　　　std = ±（variance）^{1/2}\n",
    "   $$ \n",
    " \n",
    " \n",
    "  - 尚、直観的に標準偏差は「平均値meanと各データxiの差分の総和」と捉えられそうだが、平均値の定義から、その総和は常にゼロとなるため、データのバラつきを測る尺度になり得ない。\n",
    " \n",
    " \n",
    " - そのため「データのバラつきの尺度」である分散の平方根として標準偏差が定義される。\n",
    " \n",
    " \n",
    " **5. 標準偏差と分散は、それぞれどのような時に用いるのか：**\n",
    " \n",
    " - 標準偏差の用途例：\n",
    " \n",
    " \n",
    " 　　1. 標準化（正規化）\n",
    "   \n",
    "    確率変数Xが平均値μ、分散σ**2の正規分布に従う時、以下を満たす確率変数Yは平均0、標準偏差1の標準正規分布に従う。\n",
    "    \n",
    "  $$\n",
    "    Y = (X - μ） / sigma （μ:平均値、sigma：標準偏差)\n",
    "  $$\n",
    " \n",
    " \n",
    "    標準化により、単位や平均値などが異なるデータ同士を単純比較することが出来る。\n",
    " \n",
    " \n",
    " 　　2. 信頼区間（例：工業製品の品質保証の目標設定等）\n",
    " \n",
    " 　　確率分布が正規分布に従う場合、以下の関係が成り立つ。\n",
    " \n",
    " 　　(平均 - 1* 標準偏差)〜(平均 + 1 * 標準偏差）の範囲にあるデータが含まれる確率 ≒ **68.3%**\n",
    " \n",
    " 　　(平均 - 2 * 標準偏差)〜(平均 + 2 * 標準偏差）の範囲にあるデータが含まれる確率 ≒ **95.3%**\n",
    " \n",
    " 　　(平均 - 3 * 標準偏差)〜(平均 + 3 * 標準偏差）の範囲にあるデータが含まれる確率 ≒ **99.7%**\n",
    " \n",
    "    上記の関係を用いると、（定量化出来る）品質が平均値から±3 * 標準偏差の範囲にある製品を合格品だと決めた場合、合格品となる確率は99.7%となることを意味する。\n",
    "    \n",
    "    大量に作られる工業製品の場合、良品率を100%とすることは極めて困難であるため、平均から±3* 標準偏差の範囲の品質に収めることを品質保証の目標とすることが一般的である。\n",
    "  \n",
    "  \n",
    " - 分散の用途例：\n",
    " \n",
    " 確率分布の定義に用いる。例えば、確率変数Zが平均μ、分散(sigma)**2の正規分布（ガウス分布）に従う時、正規分布の確率密度関数は以下の数式で定義される。\n",
    " \n",
    " $$\n",
    "　f(x) = 1/√2π(sigma) * exp^{-(x-μ)^2/2(sigma)^2}\n",
    " $$"
   ]
  },
  {
   "cell_type": "markdown",
   "metadata": {},
   "source": [
    "### 共分散行列とは何か？\n",
    "\n",
    " - 共分散（covariance）とは：\n",
    " \n",
    " \n",
    "    - 共分散とは2種類のデータの相関関係を示す指標で、以下の数式により求まる。\n",
    "   $$\n",
    "      covariance_{xy} = 1/n * Σ(x_i - x_{mean})(y_i - y_{mean})\n",
    "   $$\n",
    "     \n",
    "    - 共分散の値が、\n",
    "    \n",
    "      - 正ならば、変数は正の相関を持つ（一方の値が増加すると、一方の値も増加）。\n",
    "      - 負ならば、変数は負の相関を持つ（一方の値が増加すると、一方の値は減少）。\n",
    " \n",
    " - 共分散行列とは：\n",
    " \n",
    " n個の確率変数X1, X2,...Xi, Xj,...Xnに対して、共分散行列Σは、対角成分にXの分散sigma2を、非対角成分に共分散$Sigma_{ij}$を並べた行列を指す。\n",
    " \n",
    "$$\n",
    "    \\boldsymbol{Sigma} =\n",
    "        \\left[\\begin{array}{ccc}\n",
    "            sigma^2_{1} & \\cdots & sigma_{1n} \\\\\n",
    "            \\vdots  & \\ddots & \\vdots \\\\\n",
    "            sigma_{n1} & \\cdots & sigma^2_{n} \\\\\n",
    "        \\end{array}\\right]\n",
    "$$\n",
    "\n",
    "\n",
    " "
   ]
  },
  {
   "cell_type": "markdown",
   "metadata": {},
   "source": [
    "### 1次元の正規分布と多次元の正規分布について\n",
    "\n",
    "- 正規分布とは何か：\n",
    "\n",
    " 以下の確率密度関数で定義される確率分布。左右対称の形をしており、横軸は確率変数を、縦軸は確率密度を表す。\n",
    " \n",
    " $$\n",
    "　f(x) = 1/√2π(sigma) * exp^{-(x-μ)^2/2(sigma)^2}  (-∞ < x < ∞)\n",
    " $$\n",
    "\n",
    "\n",
    "- 正規分布の次元とは何か：\n",
    "\n",
    "正規分布の\n",
    "\n",
    "- 1次元の正規分布と多次元の正規分布の違い、及び利用シーンについて：\n",
    "\n"
   ]
  },
  {
   "cell_type": "markdown",
   "metadata": {},
   "source": [
    "\n",
    "# 課題２：データ点の作成\n",
    "\n",
    "2次元正規分布を用いて、中心(平均)が(-3,0)と(0,-3)、共分散行列が以下で表現される確率分布から生成されるデータ点を500個ずつ作成せよ。\n",
    "\n",
    "$$\n",
    "\\boldsymbol{Sigma} =\n",
    "   \\left[\\begin{array}{cc}\n",
    "            1.0  & 0.8 \\\\\n",
    "             0.8 & 1.0 \\\\\n",
    "        \\end{array}\\right]\n",
    "$$\n",
    "\n",
    "\n",
    "\n",
    "\n",
    "その際、片方の500個のデータにはdata1、もう片方の500個のデータにはdata2と名付けて作成せよ。"
   ]
  },
  {
   "cell_type": "code",
   "execution_count": 1,
   "metadata": {},
   "outputs": [],
   "source": [
    "import numpy as np\n",
    "\n",
    "# 前提条件\n",
    "mu1 = [-3, 0] # 平均（-3, 0）\n",
    "mu2 = [0, -3] # 平均(0, -3)\n",
    "\n",
    "sigma = [[1.0, 0.8],[0.8, 1.0]] # 共分散行列\n",
    "\n",
    "# 2次元正規乱数を500個ずつ生成し、data1, data2に格納する\n",
    "\n",
    "data1 = np.random.multivariate_normal(mu1, sigma, 500)\n",
    "data2 = np.random.multivariate_normal(mu2, sigma, 500)\n",
    "\n",
    "# data1, data2を出力\n",
    "# data1\n",
    "# data2"
   ]
  },
  {
   "cell_type": "markdown",
   "metadata": {},
   "source": [
    "# 課題３：データ点へのラベル付け\n",
    "\n",
    "課題２で作成した500個×2のデータに対してラベル付けをする。（割り当てるラベルは、簡単に0と1とすること）"
   ]
  },
  {
   "cell_type": "code",
   "execution_count": 2,
   "metadata": {
    "scrolled": true
   },
   "outputs": [
    {
     "data": {
      "text/plain": [
       "array([[-2.49479148,  0.03318651,  1.        ],\n",
       "       [-3.05966687, -1.34919611,  1.        ],\n",
       "       [-0.35190009,  2.39397014,  1.        ],\n",
       "       ...,\n",
       "       [-1.94822485, -4.07651223,  0.        ],\n",
       "       [-0.50707315, -3.96821178,  0.        ],\n",
       "       [-0.91117414, -4.55609251,  0.        ]])"
      ]
     },
     "execution_count": 2,
     "metadata": {},
     "output_type": "execute_result"
    }
   ],
   "source": [
    "# data1, data2を結合する\n",
    "\n",
    "data = np.concatenate([data1, data2]) # data1, data2が結合された配列\n",
    "#len(data)  #要素数1000\n",
    "\n",
    "# ラベルを生成（1〜500行目までは0, 501〜1000行目までは1を割り当てる）\n",
    "label_0 = np.array([0 for i in range(500)])\n",
    "label_1 = np.array([1 for i in range(500)])\n",
    "\n",
    "label = np.concatenate([label_1, label_0])  # ラベルのデータ\n",
    "# len(label) # 要素数1000\n",
    "\n",
    "# labelを列方向に連結し、データをラベル付する\n",
    "labeled_data = np.column_stack([data, label])\n",
    "labeled_data\n"
   ]
  },
  {
   "cell_type": "markdown",
   "metadata": {},
   "source": [
    "# 課題４：正しくラベル付されているか見てみる\n",
    "\n",
    "matplotlibを用いてデータセットを可視化する。"
   ]
  },
  {
   "cell_type": "code",
   "execution_count": 3,
   "metadata": {},
   "outputs": [
    {
     "data": {
      "image/png": "[encoded data removed]",
      "text/plain": [
       "<Figure size 432x288 with 1 Axes>"
      ]
     },
     "metadata": {
      "needs_background": "light"
     },
     "output_type": "display_data"
    }
   ],
   "source": [
    "import matplotlib.pyplot as plt\n",
    "%matplotlib inline\n",
    "\n",
    "# 散布図にプロットするデータセットを作成する\n",
    "x_1 = labeled_data[0:500, 0:1]\n",
    "y_1 = labeled_data[0:500, 1:2]\n",
    "\n",
    "x_0 = labeled_data[501:1000, 0:1]\n",
    "y_0 = labeled_data[501:1000, 1:2]\n",
    "\n",
    "# グラフを作成する\n",
    "\n",
    "plt.xlabel(\"x\", color = \"navy\")\n",
    "plt.ylabel(\"y\", color = \"navy\", rotation=0)\n",
    "plt.title(\"Sample Data Set from Two Gaussian normal distribution\", color = \"navy\")\n",
    "\n",
    "plt.scatter(x_1, y_1, s=50, c=\"navy\", marker = \"o\")\n",
    "plt.scatter(x_0, y_0, s=50, c=\"y\", marker = \"o\")\n",
    "plt.show()"
   ]
  },
  {
   "cell_type": "markdown",
   "metadata": {},
   "source": [
    "### 本課題を通じての学び\n",
    "\n",
    "- Numpy配列のスライスの基本に触れた。\n",
    "\n",
    "- 今後は、条件を指定してスライスする方法に関して理解を深めていきたい。"
   ]
  }
 ],
 "metadata": {
  "kernelspec": {
   "display_name": "Python 3",
   "language": "python",
   "name": "python3"
  },
  "language_info": {
   "codemirror_mode": {
    "name": "ipython",
    "version": 3
   },
   "file_extension": ".py",
   "mimetype": "text/x-python",
   "name": "python",
   "nbconvert_exporter": "python",
   "pygments_lexer": "ipython3",
   "version": "3.7.1"
  }
 },
 "nbformat": 4,
 "nbformat_minor": 2
}
