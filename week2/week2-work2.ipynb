{
 "cells": [
  {
   "cell_type": "markdown",
   "metadata": {},
   "source": [
    "# 課題の目的\n",
    "\n",
    "- 数式演算ライブラリのNumPyに慣れる。\n",
    "\n",
    "\n",
    "- 機械学習に必須な微分について理解する。"
   ]
  },
  {
   "cell_type": "markdown",
   "metadata": {},
   "source": [
    "# 課題１：1次元配列を作成する\n",
    "\n",
    "0~1の範囲で0.01ごとにデータをNumPy配列で作成する。"
   ]
  },
  {
   "cell_type": "code",
   "execution_count": 18,
   "metadata": {},
   "outputs": [
    {
     "name": "stdout",
     "output_type": "stream",
     "text": [
      "<class 'numpy.ndarray'>\n",
      "\n",
      "[0.   0.01 0.02 0.03 0.04 0.05 0.06 0.07 0.08 0.09 0.1  0.11 0.12 0.13\n",
      " 0.14 0.15 0.16 0.17 0.18 0.19 0.2  0.21 0.22 0.23 0.24 0.25 0.26 0.27\n",
      " 0.28 0.29 0.3  0.31 0.32 0.33 0.34 0.35 0.36 0.37 0.38 0.39 0.4  0.41\n",
      " 0.42 0.43 0.44 0.45 0.46 0.47 0.48 0.49 0.5  0.51 0.52 0.53 0.54 0.55\n",
      " 0.56 0.57 0.58 0.59 0.6  0.61 0.62 0.63 0.64 0.65 0.66 0.67 0.68 0.69\n",
      " 0.7  0.71 0.72 0.73 0.74 0.75 0.76 0.77 0.78 0.79 0.8  0.81 0.82 0.83\n",
      " 0.84 0.85 0.86 0.87 0.88 0.89 0.9  0.91 0.92 0.93 0.94 0.95 0.96 0.97\n",
      " 0.98 0.99 1.  ]\n"
     ]
    }
   ],
   "source": [
    "import numpy as np\n",
    "\n",
    "# 配列xを作成する\n",
    "x = np.arange(0, 1.01, 0.01) # 終点に1を含めるため、第二引数を1.01とした\n",
    "\n",
    "# xを出力する\n",
    "print(type(x))\n",
    "print(\"\")\n",
    "print(x)"
   ]
  },
  {
   "cell_type": "markdown",
   "metadata": {},
   "source": [
    "# 課題２：２次元配列を作成する\n",
    "\n",
    "- xの範囲を[0,1]、xの刻み幅を0.01としてyの値を計算する。\n",
    "\n",
    "\n",
    "- 計算結果をNumPy配列の0列目にx、1列目にyの値がくるように2次元のarrayで表現する。\n",
    "\n",
    "\n",
    "- 計算する際は、上の【課題1】で作成したNumPy配列を用いること。"
   ]
  },
  {
   "cell_type": "code",
   "execution_count": 125,
   "metadata": {},
   "outputs": [
    {
     "name": "stdout",
     "output_type": "stream",
     "text": [
      "データ型：<class 'numpy.ndarray'>\n",
      "\n",
      "[1.    1.005 1.01  1.015 1.02  1.025 1.03  1.035 1.04  1.045 1.05  1.055\n",
      " 1.06  1.065 1.07  1.075 1.08  1.085 1.09  1.095 1.1   1.105 1.11  1.115\n",
      " 1.12  1.125 1.13  1.135 1.14  1.145 1.15  1.155 1.16  1.165 1.17  1.175\n",
      " 1.18  1.185 1.19  1.195 1.2   1.205 1.21  1.215 1.22  1.225 1.23  1.235\n",
      " 1.24  1.245 1.25  1.255 1.26  1.265 1.27  1.275 1.28  1.285 1.29  1.295\n",
      " 1.3   1.305 1.31  1.315 1.32  1.325 1.33  1.335 1.34  1.345 1.35  1.355\n",
      " 1.36  1.365 1.37  1.375 1.38  1.385 1.39  1.395 1.4   1.405 1.41  1.415\n",
      " 1.42  1.425 1.43  1.435 1.44  1.445 1.45  1.455 1.46  1.465 1.47  1.475\n",
      " 1.48  1.485 1.49  1.495 1.5  ]\n",
      "\n",
      "配列x, yを横方向に連結する\n",
      "次元数：2\n",
      "\n",
      "試しに0番目の成分の0列目の値を取得する\n",
      "0.0\n",
      "配列xの0番目の要素0であることを確認できた\n",
      "\n",
      "試しに0番目の成分の1列目の値を取得する\n",
      "1.0\n",
      "配列yの0番目の要素1であることを確認できた\n"
     ]
    }
   ],
   "source": [
    "# 配列xの各オフセットに対して、y　＝ (1/2) * x + 1を計算し、Numpy配列に格納する\n",
    "y = np.array([1/2 * x + 1 for x in x])\n",
    "\n",
    "# yを出力する\n",
    "print(\"データ型：\" + str(type(y)))\n",
    "print(\"\")\n",
    "print(y)\n",
    "print(\"\")\n",
    "\n",
    "# Numpy配列x, yを横方向に連結する（column_stack([x, y])） # 引数はlist型,\n",
    "data = np.column_stack([x, y])\n",
    "\n",
    "# 連結した配列を出力する\n",
    "print(\"配列x, yを横方向に連結する\")\n",
    "print(\"次元数：\" + str(data.ndim)) # 次元数が2であることを確認\n",
    "print(\"\")\n",
    "\n",
    "print(\"試しに0番目の成分の0列目の値を取得する\")\n",
    "print(data[0][0])\n",
    "print(\"配列xの0番目の要素0であることを確認できた\")\n",
    "print(\"\")\n",
    "\n",
    "print(\"試しに0番目の成分の1列目の値を取得する\")\n",
    "print(data[0][1])\n",
    "print(\"配列yの0番目の要素1であることを確認できた\")\n",
    "#print(data_column_stack) # 連結した配列を出力\n"
   ]
  },
  {
   "cell_type": "markdown",
   "metadata": {},
   "source": [
    "# 課題２.５：他の方法で配列を結合してみる\n",
    "\n",
    "- 課題2ではcolumn_stack()を用いてNumpy配列を結合した。\n",
    "\n",
    "\n",
    "- 調べて見たところ、他にも配列の結合方法があったため、いくつか試してみることとした。\n",
    "\n",
    "\n",
    "      1. 縦方向の結合：vstack(), row_stack()\n",
    "\n",
    "      2. 横方向の結合：hstack(), column_stack()\n",
    "\n",
    "      3. 深さ方向（axis=2）の結合：dstack()\n",
    "\n",
    "      4. 軸を指定した結合：np.concatenate() / 軸指定オプションのaxisはデフォルトが0"
   ]
  },
  {
   "cell_type": "code",
   "execution_count": 49,
   "metadata": {},
   "outputs": [
    {
     "name": "stdout",
     "output_type": "stream",
     "text": [
      "data_vstack\n",
      "次元数：2\n",
      "[[0.    0.01  0.02  0.03  0.04  0.05  0.06  0.07  0.08  0.09  0.1   0.11\n",
      "  0.12  0.13  0.14  0.15  0.16  0.17  0.18  0.19  0.2   0.21  0.22  0.23\n",
      "  0.24  0.25  0.26  0.27  0.28  0.29  0.3   0.31  0.32  0.33  0.34  0.35\n",
      "  0.36  0.37  0.38  0.39  0.4   0.41  0.42  0.43  0.44  0.45  0.46  0.47\n",
      "  0.48  0.49  0.5   0.51  0.52  0.53  0.54  0.55  0.56  0.57  0.58  0.59\n",
      "  0.6   0.61  0.62  0.63  0.64  0.65  0.66  0.67  0.68  0.69  0.7   0.71\n",
      "  0.72  0.73  0.74  0.75  0.76  0.77  0.78  0.79  0.8   0.81  0.82  0.83\n",
      "  0.84  0.85  0.86  0.87  0.88  0.89  0.9   0.91  0.92  0.93  0.94  0.95\n",
      "  0.96  0.97  0.98  0.99  1.   ]\n",
      " [1.    1.005 1.01  1.015 1.02  1.025 1.03  1.035 1.04  1.045 1.05  1.055\n",
      "  1.06  1.065 1.07  1.075 1.08  1.085 1.09  1.095 1.1   1.105 1.11  1.115\n",
      "  1.12  1.125 1.13  1.135 1.14  1.145 1.15  1.155 1.16  1.165 1.17  1.175\n",
      "  1.18  1.185 1.19  1.195 1.2   1.205 1.21  1.215 1.22  1.225 1.23  1.235\n",
      "  1.24  1.245 1.25  1.255 1.26  1.265 1.27  1.275 1.28  1.285 1.29  1.295\n",
      "  1.3   1.305 1.31  1.315 1.32  1.325 1.33  1.335 1.34  1.345 1.35  1.355\n",
      "  1.36  1.365 1.37  1.375 1.38  1.385 1.39  1.395 1.4   1.405 1.41  1.415\n",
      "  1.42  1.425 1.43  1.435 1.44  1.445 1.45  1.455 1.46  1.465 1.47  1.475\n",
      "  1.48  1.485 1.49  1.495 1.5  ]]\n",
      "\n",
      "data_row_stack\n",
      "次元数：2\n",
      "[[0.    0.01  0.02  0.03  0.04  0.05  0.06  0.07  0.08  0.09  0.1   0.11\n",
      "  0.12  0.13  0.14  0.15  0.16  0.17  0.18  0.19  0.2   0.21  0.22  0.23\n",
      "  0.24  0.25  0.26  0.27  0.28  0.29  0.3   0.31  0.32  0.33  0.34  0.35\n",
      "  0.36  0.37  0.38  0.39  0.4   0.41  0.42  0.43  0.44  0.45  0.46  0.47\n",
      "  0.48  0.49  0.5   0.51  0.52  0.53  0.54  0.55  0.56  0.57  0.58  0.59\n",
      "  0.6   0.61  0.62  0.63  0.64  0.65  0.66  0.67  0.68  0.69  0.7   0.71\n",
      "  0.72  0.73  0.74  0.75  0.76  0.77  0.78  0.79  0.8   0.81  0.82  0.83\n",
      "  0.84  0.85  0.86  0.87  0.88  0.89  0.9   0.91  0.92  0.93  0.94  0.95\n",
      "  0.96  0.97  0.98  0.99  1.   ]\n",
      " [1.    1.005 1.01  1.015 1.02  1.025 1.03  1.035 1.04  1.045 1.05  1.055\n",
      "  1.06  1.065 1.07  1.075 1.08  1.085 1.09  1.095 1.1   1.105 1.11  1.115\n",
      "  1.12  1.125 1.13  1.135 1.14  1.145 1.15  1.155 1.16  1.165 1.17  1.175\n",
      "  1.18  1.185 1.19  1.195 1.2   1.205 1.21  1.215 1.22  1.225 1.23  1.235\n",
      "  1.24  1.245 1.25  1.255 1.26  1.265 1.27  1.275 1.28  1.285 1.29  1.295\n",
      "  1.3   1.305 1.31  1.315 1.32  1.325 1.33  1.335 1.34  1.345 1.35  1.355\n",
      "  1.36  1.365 1.37  1.375 1.38  1.385 1.39  1.395 1.4   1.405 1.41  1.415\n",
      "  1.42  1.425 1.43  1.435 1.44  1.445 1.45  1.455 1.46  1.465 1.47  1.475\n",
      "  1.48  1.485 1.49  1.495 1.5  ]]\n"
     ]
    }
   ],
   "source": [
    "# 縦方向の結合\n",
    "\n",
    "data_vstack = np.vstack([x, y])\n",
    "data_row_stack = np.row_stack([x, y])\n",
    "\n",
    "# 出力\n",
    "print(\"data_vstack\")\n",
    "print(\"次元数：\" + str(data_vstack.ndim))\n",
    "print(data_vstack)\n",
    "print(\"\")\n",
    "print(\"data_row_stack\")\n",
    "print(\"次元数：\" + str(data_row_stack.ndim))\n",
    "print(data_row_stack)"
   ]
  },
  {
   "cell_type": "code",
   "execution_count": 69,
   "metadata": {},
   "outputs": [
    {
     "name": "stdout",
     "output_type": "stream",
     "text": [
      "data_hstack\n",
      "\n",
      "次元数：1\n",
      "\n",
      "[0.    0.01  0.02  0.03  0.04  0.05  0.06  0.07  0.08  0.09  0.1   0.11\n",
      " 0.12  0.13  0.14  0.15  0.16  0.17  0.18  0.19  0.2   0.21  0.22  0.23\n",
      " 0.24  0.25  0.26  0.27  0.28  0.29  0.3   0.31  0.32  0.33  0.34  0.35\n",
      " 0.36  0.37  0.38  0.39  0.4   0.41  0.42  0.43  0.44  0.45  0.46  0.47\n",
      " 0.48  0.49  0.5   0.51  0.52  0.53  0.54  0.55  0.56  0.57  0.58  0.59\n",
      " 0.6   0.61  0.62  0.63  0.64  0.65  0.66  0.67  0.68  0.69  0.7   0.71\n",
      " 0.72  0.73  0.74  0.75  0.76  0.77  0.78  0.79  0.8   0.81  0.82  0.83\n",
      " 0.84  0.85  0.86  0.87  0.88  0.89  0.9   0.91  0.92  0.93  0.94  0.95\n",
      " 0.96  0.97  0.98  0.99  1.    1.    1.005 1.01  1.015 1.02  1.025 1.03\n",
      " 1.035 1.04  1.045 1.05  1.055 1.06  1.065 1.07  1.075 1.08  1.085 1.09\n",
      " 1.095 1.1   1.105 1.11  1.115 1.12  1.125 1.13  1.135 1.14  1.145 1.15\n",
      " 1.155 1.16  1.165 1.17  1.175 1.18  1.185 1.19  1.195 1.2   1.205 1.21\n",
      " 1.215 1.22  1.225 1.23  1.235 1.24  1.245 1.25  1.255 1.26  1.265 1.27\n",
      " 1.275 1.28  1.285 1.29  1.295 1.3   1.305 1.31  1.315 1.32  1.325 1.33\n",
      " 1.335 1.34  1.345 1.35  1.355 1.36  1.365 1.37  1.375 1.38  1.385 1.39\n",
      " 1.395 1.4   1.405 1.41  1.415 1.42  1.425 1.43  1.435 1.44  1.445 1.45\n",
      " 1.455 1.46  1.465 1.47  1.475 1.48  1.485 1.49  1.495 1.5  ]\n",
      "\n",
      "次元数が1であり、column_stackと結合の仕方が異なっている。\n",
      "配列xの最後の要素の次から配列yの要素を順に追加している。\n"
     ]
    }
   ],
   "source": [
    "# 横方向の結合\n",
    "data_hstack = np.hstack([x, y])\n",
    "\n",
    "# 結合した配列を出力する\n",
    "print(\"data_hstack\")\n",
    "\n",
    "print(\"\")\n",
    "print(\"次元数：\" + str(data_hstack.ndim))\n",
    "\n",
    "print(\"\")\n",
    "print(data_hstack)\n",
    "\n",
    "print(\"\")\n",
    "print(\"次元数が1であり、column_stackと結合の仕方が異なっている。\")\n",
    "print(\"配列xの最後の要素の次から配列yの要素を順に追加している。\")"
   ]
  },
  {
   "cell_type": "markdown",
   "metadata": {},
   "source": [
    "# 課題３：勾配を求める\n",
    "\n",
    "- （yの変化量）÷ （xの変化量）を用いて、各x座標における勾配を求める。\n",
    "\n",
    "\n",
    "- 【課題1】で作成したNumPy配列を用いて計算する。(1次元のlist等に変換しないこと)"
   ]
  },
  {
   "cell_type": "code",
   "execution_count": 135,
   "metadata": {},
   "outputs": [
    {
     "name": "stdout",
     "output_type": "stream",
     "text": [
      "x = 1.0における勾配を計算する\n",
      "x = 1.0における勾配:0.4999999999999889\n",
      "x = 1.0における勾配をslopeに追加\n",
      "\n",
      "勾配\n",
      "勾配の要素数：101\n",
      "[0.01 0.03 0.05 0.07 0.09 0.11 0.13 0.15 0.17 0.19 0.21 0.23 0.25 0.27\n",
      " 0.29 0.31 0.33 0.35 0.37 0.39 0.41 0.43 0.45 0.47 0.49 0.51 0.53 0.55\n",
      " 0.57 0.59 0.61 0.63 0.65 0.67 0.69 0.71 0.73 0.75 0.77 0.79 0.81 0.83\n",
      " 0.85 0.87 0.89 0.91 0.93 0.95 0.97 0.99 1.01 1.03 1.05 1.07 1.09 1.11\n",
      " 1.13 1.15 1.17 1.19 1.21 1.23 1.25 1.27 1.29 1.31 1.33 1.35 1.37 1.39\n",
      " 1.41 1.43 1.45 1.47 1.49 1.51 1.53 1.55 1.57 1.59 1.61 1.63 1.65 1.67\n",
      " 1.69 1.71 1.73 1.75 1.77 1.79 1.81 1.83 1.85 1.87 1.89 1.91 1.93 1.95\n",
      " 1.97 1.99 0.5 ]\n"
     ]
    }
   ],
   "source": [
    "#  (yの変化量)　÷（xの変化量） を用いて、各x座標における勾配を求め、Numpy配列に格納する\n",
    "\n",
    "slope = np.array([(data[i+1][1] - data[i][1])/(data[i+1][0] - data[i][0]) for i in range(len(data)-1)])\n",
    "\n",
    "# x = 1.0における勾配を計算する\n",
    "print(\"x = 1.0における勾配を計算する\")\n",
    "slope_added = ((1/2)*1.01+1 - 1.5) / (1.01 -1.0)\n",
    "slope_added = np.array(slope_added)\n",
    "print(\"x = 1.0における勾配:{}\".format(slope_added))\n",
    "print(\"x = 1.0における勾配をslopeに追加\")\n",
    "print(\"\")\n",
    "\n",
    "# 計算した勾配をNumpy配列に格納する\n",
    "slope = np.hstack([slope, slope_added])\n",
    "\n",
    "# 勾配を出力する\n",
    "print(\"勾配\")\n",
    "print(\"勾配の要素数：{}\".format(len(slope)))\n",
    "print(slope)\n"
   ]
  },
  {
   "cell_type": "markdown",
   "metadata": {},
   "source": [
    "### x,yの変化量を個別に求める方法も試してみた"
   ]
  },
  {
   "cell_type": "code",
   "execution_count": 136,
   "metadata": {},
   "outputs": [
    {
     "name": "stdout",
     "output_type": "stream",
     "text": [
      "diff_xの要素数：100、diff_yの要素数：100\n",
      "\n",
      "diff_x：xの変化量\n",
      "[0.01 0.01 0.01 0.01 0.01 0.01 0.01 0.01 0.01 0.01 0.01 0.01 0.01 0.01\n",
      " 0.01 0.01 0.01 0.01 0.01 0.01 0.01 0.01 0.01 0.01 0.01 0.01 0.01 0.01\n",
      " 0.01 0.01 0.01 0.01 0.01 0.01 0.01 0.01 0.01 0.01 0.01 0.01 0.01 0.01\n",
      " 0.01 0.01 0.01 0.01 0.01 0.01 0.01 0.01 0.01 0.01 0.01 0.01 0.01 0.01\n",
      " 0.01 0.01 0.01 0.01 0.01 0.01 0.01 0.01 0.01 0.01 0.01 0.01 0.01 0.01\n",
      " 0.01 0.01 0.01 0.01 0.01 0.01 0.01 0.01 0.01 0.01 0.01 0.01 0.01 0.01\n",
      " 0.01 0.01 0.01 0.01 0.01 0.01 0.01 0.01 0.01 0.01 0.01 0.01 0.01 0.01\n",
      " 0.01 0.01]\n",
      "\n",
      "diff_y：yの変化量\n",
      "[0.0001 0.0003 0.0005 0.0007 0.0009 0.0011 0.0013 0.0015 0.0017 0.0019\n",
      " 0.0021 0.0023 0.0025 0.0027 0.0029 0.0031 0.0033 0.0035 0.0037 0.0039\n",
      " 0.0041 0.0043 0.0045 0.0047 0.0049 0.0051 0.0053 0.0055 0.0057 0.0059\n",
      " 0.0061 0.0063 0.0065 0.0067 0.0069 0.0071 0.0073 0.0075 0.0077 0.0079\n",
      " 0.0081 0.0083 0.0085 0.0087 0.0089 0.0091 0.0093 0.0095 0.0097 0.0099\n",
      " 0.0101 0.0103 0.0105 0.0107 0.0109 0.0111 0.0113 0.0115 0.0117 0.0119\n",
      " 0.0121 0.0123 0.0125 0.0127 0.0129 0.0131 0.0133 0.0135 0.0137 0.0139\n",
      " 0.0141 0.0143 0.0145 0.0147 0.0149 0.0151 0.0153 0.0155 0.0157 0.0159\n",
      " 0.0161 0.0163 0.0165 0.0167 0.0169 0.0171 0.0173 0.0175 0.0177 0.0179\n",
      " 0.0181 0.0183 0.0185 0.0187 0.0189 0.0191 0.0193 0.0195 0.0197 0.0199]\n",
      "\n",
      "勾配を計算し、Numpy配列に格納する\n",
      "x = 1.0における勾配を計算する\n",
      "x = 1.0における勾配:0.4999999999999889\n",
      "x = 1.0における勾配をslopeに追加\n",
      "\n",
      "勾配\n",
      "勾配の要素数：101\n",
      "[0.01 0.03 0.05 0.07 0.09 0.11 0.13 0.15 0.17 0.19 0.21 0.23 0.25 0.27\n",
      " 0.29 0.31 0.33 0.35 0.37 0.39 0.41 0.43 0.45 0.47 0.49 0.51 0.53 0.55\n",
      " 0.57 0.59 0.61 0.63 0.65 0.67 0.69 0.71 0.73 0.75 0.77 0.79 0.81 0.83\n",
      " 0.85 0.87 0.89 0.91 0.93 0.95 0.97 0.99 1.01 1.03 1.05 1.07 1.09 1.11\n",
      " 1.13 1.15 1.17 1.19 1.21 1.23 1.25 1.27 1.29 1.31 1.33 1.35 1.37 1.39\n",
      " 1.41 1.43 1.45 1.47 1.49 1.51 1.53 1.55 1.57 1.59 1.61 1.63 1.65 1.67\n",
      " 1.69 1.71 1.73 1.75 1.77 1.79 1.81 1.83 1.85 1.87 1.89 1.91 1.93 1.95\n",
      " 1.97 1.99 0.5 ]\n"
     ]
    }
   ],
   "source": [
    "#  配列x, yについて、それぞれの変化量（要素の差分）を計算し、Numpy配列に格納する\n",
    "\n",
    "diff_x = np.array([x[i+1] - x[i] for i in range(len(x)-1)])  # xの変化量のNumpy配列\n",
    "diff_y = np.array([y[i+1] - y[i] for i in range(len(y)-1)]) # yの変化量のNumpy配列\n",
    "\n",
    "# 要素数を確認する\n",
    "print(\"diff_xの要素数：{0}、diff_yの要素数：{1}\".format(len(diff_x), len(diff_y)))\n",
    "print(\"\")\n",
    "\n",
    "# 出力する\n",
    "print(\"diff_x：xの変化量\")\n",
    "print(diff_x)\n",
    "print(\"\")\n",
    "\n",
    "print(\"diff_y：yの変化量\")\n",
    "print(diff_y)\n",
    "print(\"\")\n",
    "\n",
    "# 勾配を計算し、Numpy配列に格納する\n",
    "print(\"勾配を計算し、Numpy配列に格納する\")\n",
    "slope = np.array([diff_y / diff_x for diff_x, diff_y in zip(diff_x, diff_y)])\n",
    "\n",
    "# x = 1.0における勾配を計算する\n",
    "print(\"x = 1.0における勾配を計算する\")\n",
    "slope_added = ((1/2)*1.01+1 - 1.5) / (1.01 -1.0) # x = 1.01におけるyを求めておく\n",
    "slope_added = np.array(slope_added)\n",
    "print(\"x = 1.0における勾配:{}\".format(slope_added))\n",
    "print(\"x = 1.0における勾配をslopeに追加\")\n",
    "print(\"\")\n",
    "\n",
    "# 計算した勾配をNumpy配列に格納する\n",
    "slope = np.hstack([slope, slope_added])\n",
    "\n",
    "# 勾配を出力する\n",
    "print(\"勾配\")\n",
    "print(\"勾配の要素数：{}\".format(len(slope)))\n",
    "print(slope)"
   ]
  },
  {
   "cell_type": "markdown",
   "metadata": {},
   "source": [
    "# 課題４：配列、勾配、グラフを作成する\n",
    "\n",
    "- y = x^2について考える。\n",
    "\n",
    "\n",
    "- 課題２、課題３と同様に２次元配列を作成し、勾配を求める。\n",
    "\n",
    "\n",
    "- 求めた勾配をMatplotlibを用いてグラフに描画する。"
   ]
  },
  {
   "cell_type": "code",
   "execution_count": 137,
   "metadata": {},
   "outputs": [
    {
     "name": "stdout",
     "output_type": "stream",
     "text": [
      "x = 1.0における勾配を計算する\n",
      "x = 1.0における勾配:2.009999999999999\n",
      "x = 1.0における勾配をslopeに追加\n",
      "\n",
      "勾配\n",
      "勾配の要素数：101\n",
      "[0.01 0.03 0.05 0.07 0.09 0.11 0.13 0.15 0.17 0.19 0.21 0.23 0.25 0.27\n",
      " 0.29 0.31 0.33 0.35 0.37 0.39 0.41 0.43 0.45 0.47 0.49 0.51 0.53 0.55\n",
      " 0.57 0.59 0.61 0.63 0.65 0.67 0.69 0.71 0.73 0.75 0.77 0.79 0.81 0.83\n",
      " 0.85 0.87 0.89 0.91 0.93 0.95 0.97 0.99 1.01 1.03 1.05 1.07 1.09 1.11\n",
      " 1.13 1.15 1.17 1.19 1.21 1.23 1.25 1.27 1.29 1.31 1.33 1.35 1.37 1.39\n",
      " 1.41 1.43 1.45 1.47 1.49 1.51 1.53 1.55 1.57 1.59 1.61 1.63 1.65 1.67\n",
      " 1.69 1.71 1.73 1.75 1.77 1.79 1.81 1.83 1.85 1.87 1.89 1.91 1.93 1.95\n",
      " 1.97 1.99 2.01]\n"
     ]
    }
   ],
   "source": [
    "# 配列xを作成する\n",
    "x = np.arange(0, 1.01, 0.01) # 終点に1を含めるため、第二引数を1.01とした\n",
    "\n",
    "# 配列xの各オフセットに対して、y　＝ x^2を計算し、Numpy配列に格納する\n",
    "y = np.array([x**2 for x in x])\n",
    "\n",
    "# Numpy配列x, yを横方向に連結する（column_stack([x, y])） # 引数はlist型,\n",
    "data = np.column_stack([x, y])\n",
    "\n",
    "#  (yの変化量)　÷（xの変化量） を用いて、各x座標における勾配を求め、Numpy配列に格納する\n",
    "\n",
    "slope = np.array([(data[i+1][1] - data[i][1])/(data[i+1][0] - data[i][0]) for i in range(len(data)-1)])\n",
    "\n",
    "# x = 1.0における勾配を計算する\n",
    "print(\"x = 1.0における勾配を計算する\")\n",
    "slope_added = (1.01**2 - 1) / (1.01 -1.0)\n",
    "slope_added = np.array(slope_added)\n",
    "print(\"x = 1.0における勾配:{}\".format(slope_added))\n",
    "print(\"x = 1.0における勾配をslopeに追加\")\n",
    "print(\"\")\n",
    "\n",
    "# 計算した勾配をNumpy配列に格納する\n",
    "slope = np.hstack([slope, slope_added])\n",
    "\n",
    "# 勾配を出力する\n",
    "print(\"勾配\")\n",
    "print(\"勾配の要素数：{}\".format(len(slope)))\n",
    "print(slope)"
   ]
  },
  {
   "cell_type": "code",
   "execution_count": 148,
   "metadata": {},
   "outputs": [
    {
     "data": {
      "text/plain": [
       "[<matplotlib.lines.Line2D at 0x11d830d68>]"
      ]
     },
     "execution_count": 148,
     "metadata": {},
     "output_type": "execute_result"
    },
    {
     "data": {
      "image/png": "[encoded data removed]",
      "text/plain": [
       "<Figure size 432x288 with 1 Axes>"
      ]
     },
     "metadata": {
      "needs_background": "light"
     },
     "output_type": "display_data"
    }
   ],
   "source": [
    "# グラフで可視化する\n",
    "import matplotlib.pyplot as plt\n",
    "\n",
    "x = x\n",
    "y = slope\n",
    "\n",
    "plt.xlabel(\"x\", color = \"navy\")\n",
    "plt.ylabel(\"y\", color = \"navy\", rotation=0)\n",
    "plt.title(\"Slope of a function(y = x^2)\" , color = \"navy\")\n",
    "plt.plot(x, y, color = \"red\")"
   ]
  },
  {
   "cell_type": "markdown",
   "metadata": {},
   "source": [
    "# 課題５：最小値の求め方を説明する\n",
    "\n",
    "- 勾配を使用してy = x^2の最小値を求める方法を説明する。\n",
    "\n",
    "\n",
    "- 説明には勾配降下法というワードを使用して記述すること。\n",
    "\n",
    "\n",
    "- 実装ではなく、アルゴリズムのフローチャートを記述する。図でも文章でもOK."
   ]
  },
  {
   "cell_type": "markdown",
   "metadata": {},
   "source": [
    "# 関数の最小値の求め方\n",
    "\n",
    "＜関数$y=x^2$が$x = a$で最小値を取る時、以下が成り立つ。＞\n",
    "\n",
    "  - $x < a$ ：勾配(slope)の値はマイナス\n",
    "  - $x = a$ ：勾配(slope)の値はゼロ\n",
    "  - $x > a$ ：勾配(slope)の値はプラス\n",
    "\n",
    "上記の性質を利用して、最小値を求めるアルゴリズム（勾配降下法）を以下に記述する。\n",
    "\n",
    "\n",
    "1. 微小量$delta$(例えば、0.001)、パラメータ$α(0<α<1)$を定義する。（$α$：学習率）\n",
    "\n",
    "\n",
    "2. 関数$y=f(x)$の定義域（$a < x < b$）内で、$x$の初期値$x_0$を定義し、$x_0$における$y$の値$y_0(=f(x_0))$を計算する。\n",
    "\n",
    "\n",
    "3. $x_0$に$delta$を加算した値$x_{delta0}$における$y$の値$y_{delta0}(=f(x_{delta０}))$を求める。\n",
    "\n",
    "\n",
    "4. $x = x_0$における勾配$slope_0$を計算する。具体的には、$slope_0 = (y_{delta0} - y_0) / (x_{delta0} - x_0)$\n",
    "\n",
    "\n",
    "5. $x_1 = x_0 - α * slope_0$として、$x$の値を更新する。\n",
    "\n",
    "\n",
    "6. 以降、上記3〜5を繰り返せば、xの値が$y = f(x)$の値が最小となる$x^*$に収束していく。"
   ]
  },
  {
   "cell_type": "markdown",
   "metadata": {},
   "source": [
    "# 課題６：最小値を求める\n",
    "\n",
    "- $y = x^2 + 5x$の最小値を微分法を使って求める。"
   ]
  },
  {
   "cell_type": "markdown",
   "metadata": {},
   "source": [
    "関数$y = x^2 + 5x$を$x$について微分すれば、導関数y'が以下の通り求められる。\n",
    "\n",
    "$$\n",
    " y' = 2x + 5\n",
    "$$\n",
    "\n",
    "$y'=0$となる時、すなわち$x = -5/2$の時、関数の値が最小となる。\n",
    "\n",
    "よって、最小値$y_{min} = (-5/2)^2 + 5 * (-5/2) = -25/4$"
   ]
  }
 ],
 "metadata": {
  "kernelspec": {
   "display_name": "Python 3",
   "language": "python",
   "name": "python3"
  },
  "language_info": {
   "codemirror_mode": {
    "name": "ipython",
    "version": 3
   },
   "file_extension": ".py",
   "mimetype": "text/x-python",
   "name": "python",
   "nbconvert_exporter": "python",
   "pygments_lexer": "ipython3",
   "version": "3.7.1"
  }
 },
 "nbformat": 4,
 "nbformat_minor": 2
}
