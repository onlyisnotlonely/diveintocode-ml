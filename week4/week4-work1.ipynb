{
 "cells": [
  {
   "cell_type": "markdown",
   "metadata": {},
   "source": [
    "# Week4授業前課題1 アヤメを分類しよう"
   ]
  },
  {
   "cell_type": "markdown",
   "metadata": {},
   "source": [
    "# 課題の目的\n",
    "\n",
    "- 教師あり学習（分類問題）の概観を知る\n",
    "- scikit-laernを使い分類を行えるようにする\n",
    "- 手法の簡単な比較をする"
   ]
  },
  {
   "attachments": {
    "image.png": {
     "image/png": "[encoded data removed]"
    }
   },
   "cell_type": "markdown",
   "metadata": {},
   "source": [
    "# 全体像\n",
    "\n",
    "![image.png](attachment:image.png)\n",
    "\n",
    "[画像元：DeepAge 人工知能の今と一歩先を発信するメディア](https://deepage.net/features/pandas-numpy.html#pandas%E3%81%AF%E6%89%B1%E3%81%86%E3%83%87%E3%83%BC%E3%82%BF%E3%81%8C%E5%B9%85%E5%BA%83%E3%81%84)"
   ]
  },
  {
   "cell_type": "markdown",
   "metadata": {},
   "source": [
    "# アヤメの分類\n",
    "\n",
    "Week3で使用したirisデータセットを使い、分類問題を解く練習を行う。\n",
    "\n",
    "irisデータセットはカナダのガスペ半島のある牧草地で同じ日に採取された以下の3種類のアヤメ、合計150本のデータ。\n",
    "\n",
    "Iris setosa - Wikipedia\n",
    "Iris virgicolor - Wikipedia\n",
    "Iris virginica - Wikipedia\n",
    "\n",
    "4種類の特徴量（説明変数）からアヤメの種類を推測する問題（分類問題）を設定する。\n",
    "\n",
    "＜今回使う手法の一覧＞\n",
    "\n",
    "scikit-laernを使い以下の手法で学習と推定を行う。（ライブラリを使えばどれも気軽に利用できることや、手法毎の結果に違いがあることを簡単に確認する）\n",
    "\n",
    "- 最近傍法\n",
    "- ロジスティック回帰\n",
    "- SVM\n",
    "- 決定木\n",
    "- ランダムフォレスト\n"
   ]
  },
  {
   "cell_type": "markdown",
   "metadata": {},
   "source": [
    "# 分類問題の流れ\n",
    "\n",
    "まず、最近傍法を例に分類問題を解く基本的な流れを紹介します。課題の後半ではこれを参考に他の手法にも適用してもらいます。この流れについては後々より深く学び、実践していきます。今回の課題では大まかな流れの把握を行ってください。"
   ]
  },
  {
   "cell_type": "markdown",
   "metadata": {},
   "source": [
    "# 【課題1】練習のために特徴量とカテゴリを選択\n",
    "\n",
    "選び方は合計18通りありますが、以下の組み合わせで練習することにします。irisデータセットをWeek3同様に取得した後、データフレームからこれらを抜き出してください。\n",
    "\n",
    "- virgicolorとvirginica\n",
    "- sepal_lengthとpetal_length"
   ]
  },
  {
   "cell_type": "code",
   "execution_count": 556,
   "metadata": {
    "scrolled": true
   },
   "outputs": [],
   "source": [
    "import numpy as np\n",
    "import pandas as pd\n",
    "import seaborn as sns\n",
    "import matplotlib.pyplot as plt\n",
    "import sklearn\n",
    "\n",
    "#help(sklearn) # ライブラリ情報を表示\n",
    "#dir(sklearn) # モジュールの一覧を表示 （importエラーが発生した時やモジュール名を簡単に確認したいときに便利）\n",
    "#dir(sklearn.datasets)\n",
    "#dir(sklearn.datasets.load_iris)"
   ]
  },
  {
   "cell_type": "code",
   "execution_count": 557,
   "metadata": {
    "scrolled": true
   },
   "outputs": [
    {
     "data": {
      "text/html": [
       "<div>\n",
       "<style scoped>\n",
       "    .dataframe tbody tr th:only-of-type {\n",
       "        vertical-align: middle;\n",
       "    }\n",
       "\n",
       "    .dataframe tbody tr th {\n",
       "        vertical-align: top;\n",
       "    }\n",
       "\n",
       "    .dataframe thead th {\n",
       "        text-align: right;\n",
       "    }\n",
       "</style>\n",
       "<table border=\"1\" class=\"dataframe\">\n",
       "  <thead>\n",
       "    <tr style=\"text-align: right;\">\n",
       "      <th></th>\n",
       "      <th>sepal length (cm)</th>\n",
       "      <th>sepal width (cm)</th>\n",
       "      <th>petal length (cm)</th>\n",
       "      <th>petal width (cm)</th>\n",
       "      <th>target</th>\n",
       "    </tr>\n",
       "  </thead>\n",
       "  <tbody>\n",
       "    <tr>\n",
       "      <th>0</th>\n",
       "      <td>5.1</td>\n",
       "      <td>3.5</td>\n",
       "      <td>1.4</td>\n",
       "      <td>0.2</td>\n",
       "      <td>0</td>\n",
       "    </tr>\n",
       "    <tr>\n",
       "      <th>1</th>\n",
       "      <td>4.9</td>\n",
       "      <td>3.0</td>\n",
       "      <td>1.4</td>\n",
       "      <td>0.2</td>\n",
       "      <td>0</td>\n",
       "    </tr>\n",
       "    <tr>\n",
       "      <th>2</th>\n",
       "      <td>4.7</td>\n",
       "      <td>3.2</td>\n",
       "      <td>1.3</td>\n",
       "      <td>0.2</td>\n",
       "      <td>0</td>\n",
       "    </tr>\n",
       "    <tr>\n",
       "      <th>3</th>\n",
       "      <td>4.6</td>\n",
       "      <td>3.1</td>\n",
       "      <td>1.5</td>\n",
       "      <td>0.2</td>\n",
       "      <td>0</td>\n",
       "    </tr>\n",
       "    <tr>\n",
       "      <th>4</th>\n",
       "      <td>5.0</td>\n",
       "      <td>3.6</td>\n",
       "      <td>1.4</td>\n",
       "      <td>0.2</td>\n",
       "      <td>0</td>\n",
       "    </tr>\n",
       "    <tr>\n",
       "      <th>5</th>\n",
       "      <td>5.4</td>\n",
       "      <td>3.9</td>\n",
       "      <td>1.7</td>\n",
       "      <td>0.4</td>\n",
       "      <td>0</td>\n",
       "    </tr>\n",
       "    <tr>\n",
       "      <th>6</th>\n",
       "      <td>4.6</td>\n",
       "      <td>3.4</td>\n",
       "      <td>1.4</td>\n",
       "      <td>0.3</td>\n",
       "      <td>0</td>\n",
       "    </tr>\n",
       "    <tr>\n",
       "      <th>7</th>\n",
       "      <td>5.0</td>\n",
       "      <td>3.4</td>\n",
       "      <td>1.5</td>\n",
       "      <td>0.2</td>\n",
       "      <td>0</td>\n",
       "    </tr>\n",
       "    <tr>\n",
       "      <th>8</th>\n",
       "      <td>4.4</td>\n",
       "      <td>2.9</td>\n",
       "      <td>1.4</td>\n",
       "      <td>0.2</td>\n",
       "      <td>0</td>\n",
       "    </tr>\n",
       "    <tr>\n",
       "      <th>9</th>\n",
       "      <td>4.9</td>\n",
       "      <td>3.1</td>\n",
       "      <td>1.5</td>\n",
       "      <td>0.1</td>\n",
       "      <td>0</td>\n",
       "    </tr>\n",
       "    <tr>\n",
       "      <th>10</th>\n",
       "      <td>5.4</td>\n",
       "      <td>3.7</td>\n",
       "      <td>1.5</td>\n",
       "      <td>0.2</td>\n",
       "      <td>0</td>\n",
       "    </tr>\n",
       "    <tr>\n",
       "      <th>11</th>\n",
       "      <td>4.8</td>\n",
       "      <td>3.4</td>\n",
       "      <td>1.6</td>\n",
       "      <td>0.2</td>\n",
       "      <td>0</td>\n",
       "    </tr>\n",
       "    <tr>\n",
       "      <th>12</th>\n",
       "      <td>4.8</td>\n",
       "      <td>3.0</td>\n",
       "      <td>1.4</td>\n",
       "      <td>0.1</td>\n",
       "      <td>0</td>\n",
       "    </tr>\n",
       "    <tr>\n",
       "      <th>13</th>\n",
       "      <td>4.3</td>\n",
       "      <td>3.0</td>\n",
       "      <td>1.1</td>\n",
       "      <td>0.1</td>\n",
       "      <td>0</td>\n",
       "    </tr>\n",
       "    <tr>\n",
       "      <th>14</th>\n",
       "      <td>5.8</td>\n",
       "      <td>4.0</td>\n",
       "      <td>1.2</td>\n",
       "      <td>0.2</td>\n",
       "      <td>0</td>\n",
       "    </tr>\n",
       "    <tr>\n",
       "      <th>15</th>\n",
       "      <td>5.7</td>\n",
       "      <td>4.4</td>\n",
       "      <td>1.5</td>\n",
       "      <td>0.4</td>\n",
       "      <td>0</td>\n",
       "    </tr>\n",
       "    <tr>\n",
       "      <th>16</th>\n",
       "      <td>5.4</td>\n",
       "      <td>3.9</td>\n",
       "      <td>1.3</td>\n",
       "      <td>0.4</td>\n",
       "      <td>0</td>\n",
       "    </tr>\n",
       "    <tr>\n",
       "      <th>17</th>\n",
       "      <td>5.1</td>\n",
       "      <td>3.5</td>\n",
       "      <td>1.4</td>\n",
       "      <td>0.3</td>\n",
       "      <td>0</td>\n",
       "    </tr>\n",
       "    <tr>\n",
       "      <th>18</th>\n",
       "      <td>5.7</td>\n",
       "      <td>3.8</td>\n",
       "      <td>1.7</td>\n",
       "      <td>0.3</td>\n",
       "      <td>0</td>\n",
       "    </tr>\n",
       "    <tr>\n",
       "      <th>19</th>\n",
       "      <td>5.1</td>\n",
       "      <td>3.8</td>\n",
       "      <td>1.5</td>\n",
       "      <td>0.3</td>\n",
       "      <td>0</td>\n",
       "    </tr>\n",
       "    <tr>\n",
       "      <th>20</th>\n",
       "      <td>5.4</td>\n",
       "      <td>3.4</td>\n",
       "      <td>1.7</td>\n",
       "      <td>0.2</td>\n",
       "      <td>0</td>\n",
       "    </tr>\n",
       "    <tr>\n",
       "      <th>21</th>\n",
       "      <td>5.1</td>\n",
       "      <td>3.7</td>\n",
       "      <td>1.5</td>\n",
       "      <td>0.4</td>\n",
       "      <td>0</td>\n",
       "    </tr>\n",
       "    <tr>\n",
       "      <th>22</th>\n",
       "      <td>4.6</td>\n",
       "      <td>3.6</td>\n",
       "      <td>1.0</td>\n",
       "      <td>0.2</td>\n",
       "      <td>0</td>\n",
       "    </tr>\n",
       "    <tr>\n",
       "      <th>23</th>\n",
       "      <td>5.1</td>\n",
       "      <td>3.3</td>\n",
       "      <td>1.7</td>\n",
       "      <td>0.5</td>\n",
       "      <td>0</td>\n",
       "    </tr>\n",
       "    <tr>\n",
       "      <th>24</th>\n",
       "      <td>4.8</td>\n",
       "      <td>3.4</td>\n",
       "      <td>1.9</td>\n",
       "      <td>0.2</td>\n",
       "      <td>0</td>\n",
       "    </tr>\n",
       "    <tr>\n",
       "      <th>25</th>\n",
       "      <td>5.0</td>\n",
       "      <td>3.0</td>\n",
       "      <td>1.6</td>\n",
       "      <td>0.2</td>\n",
       "      <td>0</td>\n",
       "    </tr>\n",
       "    <tr>\n",
       "      <th>26</th>\n",
       "      <td>5.0</td>\n",
       "      <td>3.4</td>\n",
       "      <td>1.6</td>\n",
       "      <td>0.4</td>\n",
       "      <td>0</td>\n",
       "    </tr>\n",
       "    <tr>\n",
       "      <th>27</th>\n",
       "      <td>5.2</td>\n",
       "      <td>3.5</td>\n",
       "      <td>1.5</td>\n",
       "      <td>0.2</td>\n",
       "      <td>0</td>\n",
       "    </tr>\n",
       "    <tr>\n",
       "      <th>28</th>\n",
       "      <td>5.2</td>\n",
       "      <td>3.4</td>\n",
       "      <td>1.4</td>\n",
       "      <td>0.2</td>\n",
       "      <td>0</td>\n",
       "    </tr>\n",
       "    <tr>\n",
       "      <th>29</th>\n",
       "      <td>4.7</td>\n",
       "      <td>3.2</td>\n",
       "      <td>1.6</td>\n",
       "      <td>0.2</td>\n",
       "      <td>0</td>\n",
       "    </tr>\n",
       "    <tr>\n",
       "      <th>...</th>\n",
       "      <td>...</td>\n",
       "      <td>...</td>\n",
       "      <td>...</td>\n",
       "      <td>...</td>\n",
       "      <td>...</td>\n",
       "    </tr>\n",
       "    <tr>\n",
       "      <th>120</th>\n",
       "      <td>6.9</td>\n",
       "      <td>3.2</td>\n",
       "      <td>5.7</td>\n",
       "      <td>2.3</td>\n",
       "      <td>2</td>\n",
       "    </tr>\n",
       "    <tr>\n",
       "      <th>121</th>\n",
       "      <td>5.6</td>\n",
       "      <td>2.8</td>\n",
       "      <td>4.9</td>\n",
       "      <td>2.0</td>\n",
       "      <td>2</td>\n",
       "    </tr>\n",
       "    <tr>\n",
       "      <th>122</th>\n",
       "      <td>7.7</td>\n",
       "      <td>2.8</td>\n",
       "      <td>6.7</td>\n",
       "      <td>2.0</td>\n",
       "      <td>2</td>\n",
       "    </tr>\n",
       "    <tr>\n",
       "      <th>123</th>\n",
       "      <td>6.3</td>\n",
       "      <td>2.7</td>\n",
       "      <td>4.9</td>\n",
       "      <td>1.8</td>\n",
       "      <td>2</td>\n",
       "    </tr>\n",
       "    <tr>\n",
       "      <th>124</th>\n",
       "      <td>6.7</td>\n",
       "      <td>3.3</td>\n",
       "      <td>5.7</td>\n",
       "      <td>2.1</td>\n",
       "      <td>2</td>\n",
       "    </tr>\n",
       "    <tr>\n",
       "      <th>125</th>\n",
       "      <td>7.2</td>\n",
       "      <td>3.2</td>\n",
       "      <td>6.0</td>\n",
       "      <td>1.8</td>\n",
       "      <td>2</td>\n",
       "    </tr>\n",
       "    <tr>\n",
       "      <th>126</th>\n",
       "      <td>6.2</td>\n",
       "      <td>2.8</td>\n",
       "      <td>4.8</td>\n",
       "      <td>1.8</td>\n",
       "      <td>2</td>\n",
       "    </tr>\n",
       "    <tr>\n",
       "      <th>127</th>\n",
       "      <td>6.1</td>\n",
       "      <td>3.0</td>\n",
       "      <td>4.9</td>\n",
       "      <td>1.8</td>\n",
       "      <td>2</td>\n",
       "    </tr>\n",
       "    <tr>\n",
       "      <th>128</th>\n",
       "      <td>6.4</td>\n",
       "      <td>2.8</td>\n",
       "      <td>5.6</td>\n",
       "      <td>2.1</td>\n",
       "      <td>2</td>\n",
       "    </tr>\n",
       "    <tr>\n",
       "      <th>129</th>\n",
       "      <td>7.2</td>\n",
       "      <td>3.0</td>\n",
       "      <td>5.8</td>\n",
       "      <td>1.6</td>\n",
       "      <td>2</td>\n",
       "    </tr>\n",
       "    <tr>\n",
       "      <th>130</th>\n",
       "      <td>7.4</td>\n",
       "      <td>2.8</td>\n",
       "      <td>6.1</td>\n",
       "      <td>1.9</td>\n",
       "      <td>2</td>\n",
       "    </tr>\n",
       "    <tr>\n",
       "      <th>131</th>\n",
       "      <td>7.9</td>\n",
       "      <td>3.8</td>\n",
       "      <td>6.4</td>\n",
       "      <td>2.0</td>\n",
       "      <td>2</td>\n",
       "    </tr>\n",
       "    <tr>\n",
       "      <th>132</th>\n",
       "      <td>6.4</td>\n",
       "      <td>2.8</td>\n",
       "      <td>5.6</td>\n",
       "      <td>2.2</td>\n",
       "      <td>2</td>\n",
       "    </tr>\n",
       "    <tr>\n",
       "      <th>133</th>\n",
       "      <td>6.3</td>\n",
       "      <td>2.8</td>\n",
       "      <td>5.1</td>\n",
       "      <td>1.5</td>\n",
       "      <td>2</td>\n",
       "    </tr>\n",
       "    <tr>\n",
       "      <th>134</th>\n",
       "      <td>6.1</td>\n",
       "      <td>2.6</td>\n",
       "      <td>5.6</td>\n",
       "      <td>1.4</td>\n",
       "      <td>2</td>\n",
       "    </tr>\n",
       "    <tr>\n",
       "      <th>135</th>\n",
       "      <td>7.7</td>\n",
       "      <td>3.0</td>\n",
       "      <td>6.1</td>\n",
       "      <td>2.3</td>\n",
       "      <td>2</td>\n",
       "    </tr>\n",
       "    <tr>\n",
       "      <th>136</th>\n",
       "      <td>6.3</td>\n",
       "      <td>3.4</td>\n",
       "      <td>5.6</td>\n",
       "      <td>2.4</td>\n",
       "      <td>2</td>\n",
       "    </tr>\n",
       "    <tr>\n",
       "      <th>137</th>\n",
       "      <td>6.4</td>\n",
       "      <td>3.1</td>\n",
       "      <td>5.5</td>\n",
       "      <td>1.8</td>\n",
       "      <td>2</td>\n",
       "    </tr>\n",
       "    <tr>\n",
       "      <th>138</th>\n",
       "      <td>6.0</td>\n",
       "      <td>3.0</td>\n",
       "      <td>4.8</td>\n",
       "      <td>1.8</td>\n",
       "      <td>2</td>\n",
       "    </tr>\n",
       "    <tr>\n",
       "      <th>139</th>\n",
       "      <td>6.9</td>\n",
       "      <td>3.1</td>\n",
       "      <td>5.4</td>\n",
       "      <td>2.1</td>\n",
       "      <td>2</td>\n",
       "    </tr>\n",
       "    <tr>\n",
       "      <th>140</th>\n",
       "      <td>6.7</td>\n",
       "      <td>3.1</td>\n",
       "      <td>5.6</td>\n",
       "      <td>2.4</td>\n",
       "      <td>2</td>\n",
       "    </tr>\n",
       "    <tr>\n",
       "      <th>141</th>\n",
       "      <td>6.9</td>\n",
       "      <td>3.1</td>\n",
       "      <td>5.1</td>\n",
       "      <td>2.3</td>\n",
       "      <td>2</td>\n",
       "    </tr>\n",
       "    <tr>\n",
       "      <th>142</th>\n",
       "      <td>5.8</td>\n",
       "      <td>2.7</td>\n",
       "      <td>5.1</td>\n",
       "      <td>1.9</td>\n",
       "      <td>2</td>\n",
       "    </tr>\n",
       "    <tr>\n",
       "      <th>143</th>\n",
       "      <td>6.8</td>\n",
       "      <td>3.2</td>\n",
       "      <td>5.9</td>\n",
       "      <td>2.3</td>\n",
       "      <td>2</td>\n",
       "    </tr>\n",
       "    <tr>\n",
       "      <th>144</th>\n",
       "      <td>6.7</td>\n",
       "      <td>3.3</td>\n",
       "      <td>5.7</td>\n",
       "      <td>2.5</td>\n",
       "      <td>2</td>\n",
       "    </tr>\n",
       "    <tr>\n",
       "      <th>145</th>\n",
       "      <td>6.7</td>\n",
       "      <td>3.0</td>\n",
       "      <td>5.2</td>\n",
       "      <td>2.3</td>\n",
       "      <td>2</td>\n",
       "    </tr>\n",
       "    <tr>\n",
       "      <th>146</th>\n",
       "      <td>6.3</td>\n",
       "      <td>2.5</td>\n",
       "      <td>5.0</td>\n",
       "      <td>1.9</td>\n",
       "      <td>2</td>\n",
       "    </tr>\n",
       "    <tr>\n",
       "      <th>147</th>\n",
       "      <td>6.5</td>\n",
       "      <td>3.0</td>\n",
       "      <td>5.2</td>\n",
       "      <td>2.0</td>\n",
       "      <td>2</td>\n",
       "    </tr>\n",
       "    <tr>\n",
       "      <th>148</th>\n",
       "      <td>6.2</td>\n",
       "      <td>3.4</td>\n",
       "      <td>5.4</td>\n",
       "      <td>2.3</td>\n",
       "      <td>2</td>\n",
       "    </tr>\n",
       "    <tr>\n",
       "      <th>149</th>\n",
       "      <td>5.9</td>\n",
       "      <td>3.0</td>\n",
       "      <td>5.1</td>\n",
       "      <td>1.8</td>\n",
       "      <td>2</td>\n",
       "    </tr>\n",
       "  </tbody>\n",
       "</table>\n",
       "<p>150 rows × 5 columns</p>\n",
       "</div>"
      ],
      "text/plain": [
       "     sepal length (cm)  sepal width (cm)  petal length (cm)  petal width (cm)  \\\n",
       "0                  5.1               3.5                1.4               0.2   \n",
       "1                  4.9               3.0                1.4               0.2   \n",
       "2                  4.7               3.2                1.3               0.2   \n",
       "3                  4.6               3.1                1.5               0.2   \n",
       "4                  5.0               3.6                1.4               0.2   \n",
       "5                  5.4               3.9                1.7               0.4   \n",
       "6                  4.6               3.4                1.4               0.3   \n",
       "7                  5.0               3.4                1.5               0.2   \n",
       "8                  4.4               2.9                1.4               0.2   \n",
       "9                  4.9               3.1                1.5               0.1   \n",
       "10                 5.4               3.7                1.5               0.2   \n",
       "11                 4.8               3.4                1.6               0.2   \n",
       "12                 4.8               3.0                1.4               0.1   \n",
       "13                 4.3               3.0                1.1               0.1   \n",
       "14                 5.8               4.0                1.2               0.2   \n",
       "15                 5.7               4.4                1.5               0.4   \n",
       "16                 5.4               3.9                1.3               0.4   \n",
       "17                 5.1               3.5                1.4               0.3   \n",
       "18                 5.7               3.8                1.7               0.3   \n",
       "19                 5.1               3.8                1.5               0.3   \n",
       "20                 5.4               3.4                1.7               0.2   \n",
       "21                 5.1               3.7                1.5               0.4   \n",
       "22                 4.6               3.6                1.0               0.2   \n",
       "23                 5.1               3.3                1.7               0.5   \n",
       "24                 4.8               3.4                1.9               0.2   \n",
       "25                 5.0               3.0                1.6               0.2   \n",
       "26                 5.0               3.4                1.6               0.4   \n",
       "27                 5.2               3.5                1.5               0.2   \n",
       "28                 5.2               3.4                1.4               0.2   \n",
       "29                 4.7               3.2                1.6               0.2   \n",
       "..                 ...               ...                ...               ...   \n",
       "120                6.9               3.2                5.7               2.3   \n",
       "121                5.6               2.8                4.9               2.0   \n",
       "122                7.7               2.8                6.7               2.0   \n",
       "123                6.3               2.7                4.9               1.8   \n",
       "124                6.7               3.3                5.7               2.1   \n",
       "125                7.2               3.2                6.0               1.8   \n",
       "126                6.2               2.8                4.8               1.8   \n",
       "127                6.1               3.0                4.9               1.8   \n",
       "128                6.4               2.8                5.6               2.1   \n",
       "129                7.2               3.0                5.8               1.6   \n",
       "130                7.4               2.8                6.1               1.9   \n",
       "131                7.9               3.8                6.4               2.0   \n",
       "132                6.4               2.8                5.6               2.2   \n",
       "133                6.3               2.8                5.1               1.5   \n",
       "134                6.1               2.6                5.6               1.4   \n",
       "135                7.7               3.0                6.1               2.3   \n",
       "136                6.3               3.4                5.6               2.4   \n",
       "137                6.4               3.1                5.5               1.8   \n",
       "138                6.0               3.0                4.8               1.8   \n",
       "139                6.9               3.1                5.4               2.1   \n",
       "140                6.7               3.1                5.6               2.4   \n",
       "141                6.9               3.1                5.1               2.3   \n",
       "142                5.8               2.7                5.1               1.9   \n",
       "143                6.8               3.2                5.9               2.3   \n",
       "144                6.7               3.3                5.7               2.5   \n",
       "145                6.7               3.0                5.2               2.3   \n",
       "146                6.3               2.5                5.0               1.9   \n",
       "147                6.5               3.0                5.2               2.0   \n",
       "148                6.2               3.4                5.4               2.3   \n",
       "149                5.9               3.0                5.1               1.8   \n",
       "\n",
       "     target  \n",
       "0         0  \n",
       "1         0  \n",
       "2         0  \n",
       "3         0  \n",
       "4         0  \n",
       "5         0  \n",
       "6         0  \n",
       "7         0  \n",
       "8         0  \n",
       "9         0  \n",
       "10        0  \n",
       "11        0  \n",
       "12        0  \n",
       "13        0  \n",
       "14        0  \n",
       "15        0  \n",
       "16        0  \n",
       "17        0  \n",
       "18        0  \n",
       "19        0  \n",
       "20        0  \n",
       "21        0  \n",
       "22        0  \n",
       "23        0  \n",
       "24        0  \n",
       "25        0  \n",
       "26        0  \n",
       "27        0  \n",
       "28        0  \n",
       "29        0  \n",
       "..      ...  \n",
       "120       2  \n",
       "121       2  \n",
       "122       2  \n",
       "123       2  \n",
       "124       2  \n",
       "125       2  \n",
       "126       2  \n",
       "127       2  \n",
       "128       2  \n",
       "129       2  \n",
       "130       2  \n",
       "131       2  \n",
       "132       2  \n",
       "133       2  \n",
       "134       2  \n",
       "135       2  \n",
       "136       2  \n",
       "137       2  \n",
       "138       2  \n",
       "139       2  \n",
       "140       2  \n",
       "141       2  \n",
       "142       2  \n",
       "143       2  \n",
       "144       2  \n",
       "145       2  \n",
       "146       2  \n",
       "147       2  \n",
       "148       2  \n",
       "149       2  \n",
       "\n",
       "[150 rows x 5 columns]"
      ]
     },
     "execution_count": 557,
     "metadata": {},
     "output_type": "execute_result"
    }
   ],
   "source": [
    "# データをインポートする\n",
    "from sklearn.datasets import load_iris\n",
    "\n",
    "# データを読み込む\n",
    "iris = load_iris()\n",
    "#iris\n",
    "\n",
    "# pandasのデータフレーム形式に変換\n",
    "df = pd.DataFrame(iris.data, columns = iris.feature_names)\n",
    "df[\"target\"] = iris.target # targetの列を追加\n",
    "\n",
    "# データを出力する（target= 0:\"setosa\", 1: \"versicolor\", 2:\"virginica\"）\n",
    "df"
   ]
  },
  {
   "cell_type": "code",
   "execution_count": 558,
   "metadata": {},
   "outputs": [],
   "source": [
    "# 列名を取得する（復習）\n",
    "column_list = df.columns\n",
    "\n",
    "#column_list # index(['sepal length (cm)', 'sepal width (cm)', 'petal length (cm)', 'petal width (cm)', 'target'], dtype='object')\n",
    "# type(column_list) # pandas.core.indexes.base.index\n",
    "# column_list[0]\n",
    "# type(column_list[0]) # str"
   ]
  },
  {
   "cell_type": "code",
   "execution_count": 559,
   "metadata": {},
   "outputs": [],
   "source": [
    "# versinica(target: 1)とversicolor(target:2)を抜き出す\n",
    "# sepal_lengthとpetal_lengthを抜き出す\n",
    "\n",
    "new_df = df[df[\"target\"] != 0].loc[:, [\"sepal length (cm)\", \"petal length (cm)\", \"target\"]]\n",
    "#new_df"
   ]
  },
  {
   "cell_type": "code",
   "execution_count": 560,
   "metadata": {},
   "outputs": [
    {
     "data": {
      "text/html": [
       "<div>\n",
       "<style scoped>\n",
       "    .dataframe tbody tr th:only-of-type {\n",
       "        vertical-align: middle;\n",
       "    }\n",
       "\n",
       "    .dataframe tbody tr th {\n",
       "        vertical-align: top;\n",
       "    }\n",
       "\n",
       "    .dataframe thead th {\n",
       "        text-align: right;\n",
       "    }\n",
       "</style>\n",
       "<table border=\"1\" class=\"dataframe\">\n",
       "  <thead>\n",
       "    <tr style=\"text-align: right;\">\n",
       "      <th></th>\n",
       "      <th>sepal length (cm)</th>\n",
       "      <th>petal length (cm)</th>\n",
       "      <th>target</th>\n",
       "    </tr>\n",
       "  </thead>\n",
       "  <tbody>\n",
       "    <tr>\n",
       "      <th>50</th>\n",
       "      <td>7.0</td>\n",
       "      <td>4.7</td>\n",
       "      <td>1</td>\n",
       "    </tr>\n",
       "    <tr>\n",
       "      <th>51</th>\n",
       "      <td>6.4</td>\n",
       "      <td>4.5</td>\n",
       "      <td>1</td>\n",
       "    </tr>\n",
       "    <tr>\n",
       "      <th>52</th>\n",
       "      <td>6.9</td>\n",
       "      <td>4.9</td>\n",
       "      <td>1</td>\n",
       "    </tr>\n",
       "    <tr>\n",
       "      <th>53</th>\n",
       "      <td>5.5</td>\n",
       "      <td>4.0</td>\n",
       "      <td>1</td>\n",
       "    </tr>\n",
       "    <tr>\n",
       "      <th>54</th>\n",
       "      <td>6.5</td>\n",
       "      <td>4.6</td>\n",
       "      <td>1</td>\n",
       "    </tr>\n",
       "  </tbody>\n",
       "</table>\n",
       "</div>"
      ],
      "text/plain": [
       "    sepal length (cm)  petal length (cm)  target\n",
       "50                7.0                4.7       1\n",
       "51                6.4                4.5       1\n",
       "52                6.9                4.9       1\n",
       "53                5.5                4.0       1\n",
       "54                6.5                4.6       1"
      ]
     },
     "execution_count": 560,
     "metadata": {},
     "output_type": "execute_result"
    }
   ],
   "source": [
    "new_df.head()"
   ]
  },
  {
   "cell_type": "code",
   "execution_count": 561,
   "metadata": {},
   "outputs": [
    {
     "name": "stdout",
     "output_type": "stream",
     "text": [
      "<class 'pandas.core.frame.DataFrame'>\n",
      "Int64Index: 100 entries, 50 to 149\n",
      "Data columns (total 3 columns):\n",
      "sepal length (cm)    100 non-null float64\n",
      "petal length (cm)    100 non-null float64\n",
      "target               100 non-null int64\n",
      "dtypes: float64(2), int64(1)\n",
      "memory usage: 3.1 KB\n"
     ]
    }
   ],
   "source": [
    "new_df.info()"
   ]
  },
  {
   "cell_type": "code",
   "execution_count": 562,
   "metadata": {},
   "outputs": [
    {
     "data": {
      "text/html": [
       "<div>\n",
       "<style scoped>\n",
       "    .dataframe tbody tr th:only-of-type {\n",
       "        vertical-align: middle;\n",
       "    }\n",
       "\n",
       "    .dataframe tbody tr th {\n",
       "        vertical-align: top;\n",
       "    }\n",
       "\n",
       "    .dataframe thead th {\n",
       "        text-align: right;\n",
       "    }\n",
       "</style>\n",
       "<table border=\"1\" class=\"dataframe\">\n",
       "  <thead>\n",
       "    <tr style=\"text-align: right;\">\n",
       "      <th></th>\n",
       "      <th>sepal length (cm)</th>\n",
       "      <th>petal length (cm)</th>\n",
       "      <th>target</th>\n",
       "    </tr>\n",
       "  </thead>\n",
       "  <tbody>\n",
       "    <tr>\n",
       "      <th>count</th>\n",
       "      <td>100.000000</td>\n",
       "      <td>100.000000</td>\n",
       "      <td>100.000000</td>\n",
       "    </tr>\n",
       "    <tr>\n",
       "      <th>mean</th>\n",
       "      <td>6.262000</td>\n",
       "      <td>4.906000</td>\n",
       "      <td>1.500000</td>\n",
       "    </tr>\n",
       "    <tr>\n",
       "      <th>std</th>\n",
       "      <td>0.662834</td>\n",
       "      <td>0.825578</td>\n",
       "      <td>0.502519</td>\n",
       "    </tr>\n",
       "    <tr>\n",
       "      <th>min</th>\n",
       "      <td>4.900000</td>\n",
       "      <td>3.000000</td>\n",
       "      <td>1.000000</td>\n",
       "    </tr>\n",
       "    <tr>\n",
       "      <th>25%</th>\n",
       "      <td>5.800000</td>\n",
       "      <td>4.375000</td>\n",
       "      <td>1.000000</td>\n",
       "    </tr>\n",
       "    <tr>\n",
       "      <th>50%</th>\n",
       "      <td>6.300000</td>\n",
       "      <td>4.900000</td>\n",
       "      <td>1.500000</td>\n",
       "    </tr>\n",
       "    <tr>\n",
       "      <th>75%</th>\n",
       "      <td>6.700000</td>\n",
       "      <td>5.525000</td>\n",
       "      <td>2.000000</td>\n",
       "    </tr>\n",
       "    <tr>\n",
       "      <th>max</th>\n",
       "      <td>7.900000</td>\n",
       "      <td>6.900000</td>\n",
       "      <td>2.000000</td>\n",
       "    </tr>\n",
       "  </tbody>\n",
       "</table>\n",
       "</div>"
      ],
      "text/plain": [
       "       sepal length (cm)  petal length (cm)      target\n",
       "count         100.000000         100.000000  100.000000\n",
       "mean            6.262000           4.906000    1.500000\n",
       "std             0.662834           0.825578    0.502519\n",
       "min             4.900000           3.000000    1.000000\n",
       "25%             5.800000           4.375000    1.000000\n",
       "50%             6.300000           4.900000    1.500000\n",
       "75%             6.700000           5.525000    2.000000\n",
       "max             7.900000           6.900000    2.000000"
      ]
     },
     "execution_count": 562,
     "metadata": {},
     "output_type": "execute_result"
    }
   ],
   "source": [
    "new_df.describe()"
   ]
  },
  {
   "cell_type": "markdown",
   "metadata": {},
   "source": [
    "# 【問題2】データの分析\n",
    "\n",
    "抜き出したデータの散布図と箱ひげ図（boxplot）、バイオリン図（violinplot）を表示する。"
   ]
  },
  {
   "cell_type": "code",
   "execution_count": 563,
   "metadata": {},
   "outputs": [
    {
     "name": "stderr",
     "output_type": "stream",
     "text": [
      "/anaconda3/lib/python3.7/site-packages/scipy/stats/stats.py:1713: FutureWarning: Using a non-tuple sequence for multidimensional indexing is deprecated; use `arr[tuple(seq)]` instead of `arr[seq]`. In the future this will be interpreted as an array index, `arr[np.array(seq)]`, which will result either in an error or a different result.\n",
      "  return np.add.reduce(sorted[indexer] * weights, axis=axis) / sumval\n",
      "/anaconda3/lib/python3.7/site-packages/statsmodels/nonparametric/kde.py:488: RuntimeWarning: invalid value encountered in true_divide\n",
      "  binned = fast_linbin(X, a, b, gridsize) / (delta * nobs)\n",
      "/anaconda3/lib/python3.7/site-packages/statsmodels/nonparametric/kdetools.py:34: RuntimeWarning: invalid value encountered in double_scalars\n",
      "  FAC1 = 2*(np.pi*bw/RANGE)**2\n",
      "/anaconda3/lib/python3.7/site-packages/numpy/core/fromnumeric.py:83: RuntimeWarning: invalid value encountered in reduce\n",
      "  return ufunc.reduce(obj, axis, dtype, out, **passkwargs)\n"
     ]
    },
    {
     "data": {
      "text/plain": [
       "<seaborn.axisgrid.PairGrid at 0x1a2539ada0>"
      ]
     },
     "execution_count": 563,
     "metadata": {},
     "output_type": "execute_result"
    },
    {
     "data": {
      "image/png": "[encoded data removed]",
      "text/plain": [
       "<Figure size 582.375x540 with 12 Axes>"
      ]
     },
     "metadata": {
      "needs_background": "light"
     },
     "output_type": "display_data"
    }
   ],
   "source": [
    "# 散布図を表示する(target = 1:\"versica\", 2:\"versicolor\")\n",
    "sns.pairplot(new_df, hue = \"target\")"
   ]
  },
  {
   "cell_type": "code",
   "execution_count": 564,
   "metadata": {
    "scrolled": true
   },
   "outputs": [
    {
     "data": {
      "text/plain": [
       "<matplotlib.axes._subplots.AxesSubplot at 0x1a271aea58>"
      ]
     },
     "execution_count": 564,
     "metadata": {},
     "output_type": "execute_result"
    },
    {
     "data": {
      "image/png": "[encoded data removed]",
      "text/plain": [
       "<Figure size 432x288 with 1 Axes>"
      ]
     },
     "metadata": {
      "needs_background": "light"
     },
     "output_type": "display_data"
    }
   ],
   "source": [
    "# sepal_lengthの箱ひげ図を表示する(target = 1:\"versica\", 2:\"versicolor\")\n",
    "sns.boxplot(x = \"target\", y = \"sepal length (cm)\", hue = \"target\", data=new_df)"
   ]
  },
  {
   "cell_type": "code",
   "execution_count": 565,
   "metadata": {},
   "outputs": [
    {
     "data": {
      "text/plain": [
       "<matplotlib.axes._subplots.AxesSubplot at 0x1a27273ba8>"
      ]
     },
     "execution_count": 565,
     "metadata": {},
     "output_type": "execute_result"
    },
    {
     "data": {
      "image/png": "[encoded data removed]",
      "text/plain": [
       "<Figure size 432x288 with 1 Axes>"
      ]
     },
     "metadata": {
      "needs_background": "light"
     },
     "output_type": "display_data"
    }
   ],
   "source": [
    "# petal_lengthの箱ひげ図を表示する(target = 1:\"versica\", 2:\"versicolor\")\n",
    "sns.boxplot(x = \"target\", y = \"petal length (cm)\", hue = \"target\", data=new_df)"
   ]
  },
  {
   "cell_type": "code",
   "execution_count": 566,
   "metadata": {},
   "outputs": [
    {
     "data": {
      "text/plain": [
       "<matplotlib.axes._subplots.AxesSubplot at 0x1a2544c320>"
      ]
     },
     "execution_count": 566,
     "metadata": {},
     "output_type": "execute_result"
    },
    {
     "data": {
      "image/png": "[encoded data removed]",
      "text/plain": [
       "<Figure size 432x288 with 1 Axes>"
      ]
     },
     "metadata": {
      "needs_background": "light"
     },
     "output_type": "display_data"
    }
   ],
   "source": [
    "# sepal_lengthのバイオリン図を表示する(target = 1:\"versica\", 2:\"versicolor\")\n",
    "sns.violinplot(x = \"target\", y = \"sepal length (cm)\", hue = \"target\", data=new_df)"
   ]
  },
  {
   "cell_type": "code",
   "execution_count": 567,
   "metadata": {},
   "outputs": [
    {
     "data": {
      "text/plain": [
       "<matplotlib.axes._subplots.AxesSubplot at 0x1a254bf198>"
      ]
     },
     "execution_count": 567,
     "metadata": {},
     "output_type": "execute_result"
    },
    {
     "data": {
      "image/png": "[encoded data removed]",
      "text/plain": [
       "<Figure size 432x288 with 1 Axes>"
      ]
     },
     "metadata": {
      "needs_background": "light"
     },
     "output_type": "display_data"
    }
   ],
   "source": [
    "# petal_lengthのバイオリン図を表示する(target = 1:\"versica\", 2:\"versicolor\")\n",
    "sns.violinplot(x = \"target\", y = \"petal length (cm)\", hue = \"target\", data=new_df)"
   ]
  },
  {
   "cell_type": "markdown",
   "metadata": {},
   "source": [
    "# 【問題3】前処理・学習用データと検証用データの分割\n",
    "\n",
    "\n",
    "- 前処理の一貫として、学習用（train）データと検証用（validation）データの分割を行う。\n",
    "\n",
    "- 今回は学習用データ75%、検証用データ25%として分割する。\n",
    "\n",
    "- scikit-learnのtrain_test_splitが利用すること。\n",
    "\n",
    "  [sklearn.model_selection.train_test_split — scikit-learn 0.20.0 documentation](https://scikit-learn.org/stable/modules/generated/sklearn.model_selection.train_test_split.html)\n",
    "\n",
    "＜注意点＞\n",
    "\n",
    "- データの分析まではPandasのDataFrame型を使用したが、scikit-learnはNumPyのndarray型を想定して作られている。\n",
    "\n",
    "- この段階でndarrayへの変換を行い、**特徴量（説明変数）をX**、**正解（目的変数）をy**というndarrayに格納する。\n",
    "\n",
    "＜データを分割する理由＞\n",
    "\n",
    "- 分類問題の目的は未知のデータを正しく分類すること。\n",
    "\n",
    "- その目的が達成できているかを確認するため、実際には答えの分かっているデータの一部を学習には使わず残しておく。\n",
    "\n",
    "- 学習に使用していないデータで推定を行い、そこから求めた指標値によって検証する。\n",
    "\n",
    "- 学習に使うデータを学習用データ、検証に使うデータが検証用データで、一般的に7対3から8対2程度の割合とする。"
   ]
  },
  {
   "cell_type": "code",
   "execution_count": 568,
   "metadata": {},
   "outputs": [],
   "source": [
    "# DataFrame形式からndarray型に変換し、説明変数Xに格納する\n",
    "\n",
    "X = new_df[[\"sepal length (cm)\", \"petal length (cm)\"]].values # 説明変数の配列（\"sepal lengh\", \"petal length\"）\n",
    "\n",
    "# type(X) # データ型が\"numpy.ndarray\"であることを確認した\n",
    "# X.ndim # 次元数２\n",
    "# X.shape # 形状（100, 2）\n",
    "# X.size # サイズ 200"
   ]
  },
  {
   "cell_type": "code",
   "execution_count": 569,
   "metadata": {},
   "outputs": [],
   "source": [
    "# DataFrame形式からndarray型に変換し、目的変数yに格納する\n",
    "#　のちにKNeighbor_Classifierに１次元配列を渡すことが求められたので、この時点で１次元配列に変換した\n",
    "\n",
    "y = np.ravel(new_df[[\"target\"]].values)\n",
    "\n",
    "# type(y) # データ型が\"numpy.ndarray\"であることを確認した\n",
    "# y.ndim # 次元数２\n",
    "# y.shape # 形状（100, 1）\n",
    "# y.size # サイズ 100"
   ]
  },
  {
   "cell_type": "code",
   "execution_count": 570,
   "metadata": {},
   "outputs": [],
   "source": [
    "# モジュールをインポートする\n",
    "from sklearn.model_selection import train_test_split\n",
    "\n",
    "# 学習用データ、検証用データを作成する(データを読み込む度に前提条件が変わらないようにため、random_state = 1とする)\n",
    "\n",
    "X_train, X_test, y_train, y_test = train_test_split(X, y, test_size= 0.25, random_state=1)"
   ]
  },
  {
   "cell_type": "code",
   "execution_count": 571,
   "metadata": {},
   "outputs": [
    {
     "name": "stdout",
     "output_type": "stream",
     "text": [
      "X_trainの次元数：2\n",
      "X_trainの形状：(75, 2)\n",
      "X_trainのサイズ：150\n",
      "\n",
      "X_testの次元数：2\n",
      "X_testの形状：(25, 2)\n",
      "X_testのサイズ：50\n",
      "\n",
      "サイズ２００のデータセットが75%：25%の割合で分割され、学習用データと検証用データが作成されていることを確認できた。\n"
     ]
    }
   ],
   "source": [
    "# 分割されたデータの中身を確認しておく\n",
    "print(\"X_trainの次元数：{}\".format(X_train.ndim))\n",
    "print(\"X_trainの形状：{}\".format(X_train.shape))\n",
    "print(\"X_trainのサイズ：{}\".format(X_train.size))\n",
    "\n",
    "print(\"\")\n",
    "\n",
    "print(\"X_testの次元数：{}\".format(X_test.ndim))\n",
    "print(\"X_testの形状：{}\".format(X_test.shape))\n",
    "print(\"X_testのサイズ：{}\".format(X_test.size))\n",
    "\n",
    "print(\"\")\n",
    "\n",
    "print(\"サイズ２００のデータセットが75%：25%の割合で分割され、学習用データと検証用データが作成されていることを確認できた。\")"
   ]
  },
  {
   "cell_type": "code",
   "execution_count": 572,
   "metadata": {},
   "outputs": [
    {
     "name": "stdout",
     "output_type": "stream",
     "text": [
      "y_trainの次元数：1\n",
      "y_trainの形状：(75,)\n",
      "y_trainのサイズ：75\n",
      "\n",
      "y_testの次元数：1\n",
      "y_testの形状：(25,)\n",
      "y_testのサイズ：25\n",
      "\n",
      "サイズ２００のデータセットが75%：25%の割合で分割され、学習用データと検証用データが作成されていることを確認できた。\n"
     ]
    }
   ],
   "source": [
    "# 分割されたデータの中身を確認しておく\n",
    "print(\"y_trainの次元数：{}\".format(y_train.ndim))\n",
    "print(\"y_trainの形状：{}\".format(y_train.shape))\n",
    "print(\"y_trainのサイズ：{}\".format(y_train.size))\n",
    "\n",
    "print(\"\")\n",
    "\n",
    "print(\"y_testの次元数：{}\".format(y_test.ndim))\n",
    "print(\"y_testの形状：{}\".format(y_test.shape))\n",
    "print(\"y_testのサイズ：{}\".format(y_test.size))\n",
    "\n",
    "print(\"\")\n",
    "\n",
    "print(\"サイズ２００のデータセットが75%：25%の割合で分割され、学習用データと検証用データが作成されていることを確認できた。\")"
   ]
  },
  {
   "cell_type": "markdown",
   "metadata": {},
   "source": [
    "# 【問題3】前処理・標準化\n",
    "\n",
    "- 分類精度をあげるための加工を行う。\n",
    "\n",
    "- 手法ごとに適切な方法は異なるが、ここでは一例として標準化を行う。\n",
    "\n",
    "- scikit-learnに用意されている標準化を行うライブラリを用いて標準化する。\n",
    "\n",
    "  [sklearn.preprocessing.StandardScaler — scikit-learn 0.20.2 documentation](https://scikit-learn.org/stable/modules/generated/sklearn.preprocessing.StandardScaler.html)\n",
    "\n",
    "＜注意点＞\n",
    "\n",
    "1. 標準化は学習用のデータでfitを行い、学習用、検証用双方のデータにtransformを行う。\n",
    "2. 検証用データは学習の段階には存在しない未知のデータの代わりなので、標準化のための平均や標準偏差の計算に使ってはいけない。"
   ]
  },
  {
   "cell_type": "code",
   "execution_count": 573,
   "metadata": {},
   "outputs": [
    {
     "name": "stdout",
     "output_type": "stream",
     "text": [
      "sepal_length, petal_lengthの標準化に用いる平均値: [6.28266667 4.892     ]\n",
      "sepal_length, petal_lengthの標準化に用いる分散: [0.41316622 0.69380267]\n"
     ]
    }
   ],
   "source": [
    "# モジュールをインポートする\n",
    "#dir(sklearn) # モジュールの一覧からPreprocessingを発見\n",
    "# dir(sklearn.preprocessing) # モジュールの一覧からStandardScalerを発見\n",
    "from sklearn.preprocessing import StandardScaler\n",
    "\n",
    "# データを標準化する\n",
    "data = X_train # 標準化の対象は学習用データ\n",
    "\n",
    "# インスタンスを生成 \n",
    "scaler = StandardScaler() # StandardScaler(copy=True, with_mean=True, with_std=True)\n",
    "# dir(scaler) # scalerに含まれるmethod、attributesを確認\n",
    "\n",
    "# StandardScaler()に学習用データをfitさせる（＝ 標準化に用いる平均値、標準偏差を算出する）\n",
    "scaler.fit(data)\n",
    "\n",
    "# 標準化に用いる平均、分散（つまり、標準偏差）の値\n",
    "print(\"sepal_length, petal_lengthの標準化に用いる平均値: {}\".format(scaler.mean_))\n",
    "print(\"sepal_length, petal_lengthの標準化に用いる分散: {}\".format(scaler.var_))\n",
    "\n",
    "# 学習用データ、検証用データを標準化（.transform）する\n",
    "X_train = scaler.transform(X_train) # 学習用データを標準化する\n",
    "X_test = scaler.transform(X_test) # 検証用データを標準化する"
   ]
  },
  {
   "cell_type": "markdown",
   "metadata": {},
   "source": [
    "# 【問題4】学習と推定\n",
    "\n",
    "- 最近傍法（k-nearest neighbors, k-nn）で学習を行う。\n",
    "- scikit-learnの公式ドキュメントのExamplesを参考に、k-nnの学習を行う。（入力値は学習用データ）\n",
    "\n",
    "  [sklearn.neighbors.KNeighborsClassifier — scikit-learn 0.20.2 documentation](https://scikit-learn.org/stable/modules/generated/sklearn.neighbors.KNeighborsClassifier.html#sklearn.neighbors.KNeighborsClassifier)\n",
    "\n",
    "\n",
    "- 学習が終わった後、検証用データをpredictメソッドに入力し、推定を行う。\n",
    "\n",
    "- パラメータが複数あるが、今はそれらの理解を重視せず、最も基本的な要素として、n_neighborsの数があるため、これは複数試すこと。\n",
    "\n",
    "- デフォルトの5、および1と3を最低限行う（5の場合を5-nn、3の場合を3-nnのように呼び出す）"
   ]
  },
  {
   "cell_type": "code",
   "execution_count": 574,
   "metadata": {},
   "outputs": [
    {
     "data": {
      "text/plain": [
       "array([[2],\n",
       "       [2],\n",
       "       [2],\n",
       "       [2],\n",
       "       [2],\n",
       "       [1],\n",
       "       [1],\n",
       "       [2],\n",
       "       [2],\n",
       "       [2],\n",
       "       [2],\n",
       "       [1],\n",
       "       [1],\n",
       "       [2],\n",
       "       [2],\n",
       "       [1],\n",
       "       [1],\n",
       "       [1],\n",
       "       [2],\n",
       "       [1],\n",
       "       [1],\n",
       "       [2],\n",
       "       [2],\n",
       "       [2],\n",
       "       [1]])"
      ]
     },
     "execution_count": 574,
     "metadata": {},
     "output_type": "execute_result"
    }
   ],
   "source": [
    "from sklearn.neighbors import KNeighborsClassifier\n",
    "\n",
    "# n_neighborsをデフォルト（= 5）として、インスタンスを生成する\n",
    "neigh_5 = KNeighborsClassifier()\n",
    "#type(neigh) # sklearn.neighbors.classification.KNeighborsClassifier\n",
    "\n",
    "# 標準化した学習用データをfitさせる\n",
    "neigh_5.fit(X_train, y_train)\n",
    "\n",
    "# 検証用データを用いて、目的変数の分類を予測する\n",
    "y_predict_nn_5 = neigh_5.predict(X_test)\n",
    "y_predict_nn_5.reshape(len(y_predict_nn_5),1)"
   ]
  },
  {
   "cell_type": "code",
   "execution_count": 575,
   "metadata": {},
   "outputs": [
    {
     "data": {
      "text/plain": [
       "array([[2],\n",
       "       [2],\n",
       "       [2],\n",
       "       [2],\n",
       "       [2],\n",
       "       [1],\n",
       "       [1],\n",
       "       [2],\n",
       "       [2],\n",
       "       [2],\n",
       "       [2],\n",
       "       [1],\n",
       "       [1],\n",
       "       [2],\n",
       "       [2],\n",
       "       [1],\n",
       "       [1],\n",
       "       [1],\n",
       "       [2],\n",
       "       [1],\n",
       "       [1],\n",
       "       [1],\n",
       "       [2],\n",
       "       [2],\n",
       "       [1]])"
      ]
     },
     "execution_count": 575,
     "metadata": {},
     "output_type": "execute_result"
    }
   ],
   "source": [
    "# n_neighborsを1として、インスタンスを生成する\n",
    "neigh_1 = KNeighborsClassifier(n_neighbors = 1)\n",
    "#type(neigh) # sklearn.neighbors.classification.KNeighborsClassifier\n",
    "\n",
    "# 標準化した学習用データをfitさせる\n",
    "neigh_1.fit(X_train, y_train) \n",
    "\n",
    "# 検証用データを用いて、目的変数の分類を予測する\n",
    "y_predict_nn_1 = neigh_1.predict(X_test)\n",
    "y_predict_nn_1.reshape(len(y_predict_nn_1),1)"
   ]
  },
  {
   "cell_type": "code",
   "execution_count": 576,
   "metadata": {},
   "outputs": [
    {
     "data": {
      "text/plain": [
       "array([[2],\n",
       "       [2],\n",
       "       [2],\n",
       "       [2],\n",
       "       [2],\n",
       "       [1],\n",
       "       [1],\n",
       "       [2],\n",
       "       [2],\n",
       "       [2],\n",
       "       [2],\n",
       "       [1],\n",
       "       [1],\n",
       "       [2],\n",
       "       [2],\n",
       "       [1],\n",
       "       [1],\n",
       "       [1],\n",
       "       [2],\n",
       "       [1],\n",
       "       [1],\n",
       "       [2],\n",
       "       [2],\n",
       "       [2],\n",
       "       [1]])"
      ]
     },
     "execution_count": 576,
     "metadata": {},
     "output_type": "execute_result"
    }
   ],
   "source": [
    "# n_neighborsを3として、インスタンスを生成する\n",
    "neigh_3 = KNeighborsClassifier(n_neighbors = 3)\n",
    "#type(neigh) # sklearn.neighbors.classification.KNeighborsClassifier\n",
    "\n",
    "# 標準化した学習用データをfitさせる\n",
    "neigh_3.fit(X_train, y_train) \n",
    "\n",
    "# 検証用データを用いて、目的変数の分類を予測する\n",
    "y_predict_nn_3 = neigh_3.predict(X_test)\n",
    "y_predict_nn_3.reshape(len(y_predict_nn_3),1)"
   ]
  },
  {
   "cell_type": "code",
   "execution_count": 577,
   "metadata": {
    "scrolled": true
   },
   "outputs": [
    {
     "data": {
      "text/plain": [
       "array([[2],\n",
       "       [2],\n",
       "       [2],\n",
       "       [2],\n",
       "       [2],\n",
       "       [1],\n",
       "       [1],\n",
       "       [2],\n",
       "       [2],\n",
       "       [2],\n",
       "       [2],\n",
       "       [1],\n",
       "       [1],\n",
       "       [2],\n",
       "       [2],\n",
       "       [1],\n",
       "       [1],\n",
       "       [1],\n",
       "       [2],\n",
       "       [1],\n",
       "       [1],\n",
       "       [2],\n",
       "       [2],\n",
       "       [2],\n",
       "       [1]])"
      ]
     },
     "execution_count": 577,
     "metadata": {},
     "output_type": "execute_result"
    }
   ],
   "source": [
    "# n_neighborsを7として、インスタンスを生成する\n",
    "neigh_7 = KNeighborsClassifier(n_neighbors = 7)\n",
    "#type(neigh) # sklearn.neighbors.classification.KNeighborsClassifier\n",
    "\n",
    "# 標準化した学習用データをfitさせる\n",
    "neigh_7.fit(X_train, y_train) \n",
    "\n",
    "# 検証用データを用いて、目的変数の分類を予測する\n",
    "y_predict_nn_7 = neigh_7.predict(X_test)\n",
    "y_predict_nn_7.reshape(len(y_predict_nn_7),1)"
   ]
  },
  {
   "cell_type": "code",
   "execution_count": 578,
   "metadata": {
    "scrolled": true
   },
   "outputs": [
    {
     "data": {
      "text/plain": [
       "array([[2],\n",
       "       [2],\n",
       "       [2],\n",
       "       [2],\n",
       "       [2],\n",
       "       [1],\n",
       "       [1],\n",
       "       [2],\n",
       "       [2],\n",
       "       [2],\n",
       "       [2],\n",
       "       [1],\n",
       "       [1],\n",
       "       [2],\n",
       "       [2],\n",
       "       [1],\n",
       "       [1],\n",
       "       [1],\n",
       "       [2],\n",
       "       [1],\n",
       "       [1],\n",
       "       [2],\n",
       "       [2],\n",
       "       [2],\n",
       "       [1]])"
      ]
     },
     "execution_count": 578,
     "metadata": {},
     "output_type": "execute_result"
    }
   ],
   "source": [
    "# n_neighborsを9として、インスタンスを生成する\n",
    "neigh_9 = KNeighborsClassifier(n_neighbors = 9)\n",
    "#type(neigh) # sklearn.neighbors.classification.KNeighborsClassifier\n",
    "\n",
    "# 標準化した学習用データをfitさせる\n",
    "neigh_9.fit(X_train, y_train) \n",
    "\n",
    "# 検証用データを用いて、目的変数の分類を予測する\n",
    "y_predict_nn_9 = neigh_9.predict(X_test)\n",
    "y_predict_nn_9.reshape(len(y_predict_nn_9),1)"
   ]
  },
  {
   "cell_type": "code",
   "execution_count": 579,
   "metadata": {},
   "outputs": [
    {
     "data": {
      "text/plain": [
       "array([[2],\n",
       "       [2],\n",
       "       [2],\n",
       "       [2],\n",
       "       [2],\n",
       "       [1],\n",
       "       [1],\n",
       "       [2],\n",
       "       [2],\n",
       "       [2],\n",
       "       [2],\n",
       "       [1],\n",
       "       [1],\n",
       "       [2],\n",
       "       [2],\n",
       "       [1],\n",
       "       [1],\n",
       "       [1],\n",
       "       [2],\n",
       "       [1],\n",
       "       [1],\n",
       "       [1],\n",
       "       [2],\n",
       "       [2],\n",
       "       [1]])"
      ]
     },
     "execution_count": 579,
     "metadata": {},
     "output_type": "execute_result"
    }
   ],
   "source": [
    "# n_neighborsを11として、インスタンスを生成する\n",
    "neigh_11 = KNeighborsClassifier(n_neighbors = 11)\n",
    "#type(neigh) # sklearn.neighbors.classification.KNeighborsClassifier\n",
    "\n",
    "# 標準化した学習用データをfitさせる\n",
    "neigh_11.fit(X_train, y_train) \n",
    "\n",
    "# 検証用データを用いて、目的変数の分類を予測する\n",
    "y_predict_nn_11 = neigh_11.predict(X_test)\n",
    "y_predict_nn_11.reshape(len(y_predict_nn_11),1)"
   ]
  },
  {
   "cell_type": "code",
   "execution_count": 580,
   "metadata": {},
   "outputs": [
    {
     "data": {
      "text/html": [
       "<div>\n",
       "<style scoped>\n",
       "    .dataframe tbody tr th:only-of-type {\n",
       "        vertical-align: middle;\n",
       "    }\n",
       "\n",
       "    .dataframe tbody tr th {\n",
       "        vertical-align: top;\n",
       "    }\n",
       "\n",
       "    .dataframe thead th {\n",
       "        text-align: right;\n",
       "    }\n",
       "</style>\n",
       "<table border=\"1\" class=\"dataframe\">\n",
       "  <thead>\n",
       "    <tr style=\"text-align: right;\">\n",
       "      <th></th>\n",
       "      <th>y_test</th>\n",
       "    </tr>\n",
       "  </thead>\n",
       "  <tbody>\n",
       "    <tr>\n",
       "      <th>0</th>\n",
       "      <td>2</td>\n",
       "    </tr>\n",
       "    <tr>\n",
       "      <th>1</th>\n",
       "      <td>2</td>\n",
       "    </tr>\n",
       "    <tr>\n",
       "      <th>2</th>\n",
       "      <td>1</td>\n",
       "    </tr>\n",
       "    <tr>\n",
       "      <th>3</th>\n",
       "      <td>2</td>\n",
       "    </tr>\n",
       "    <tr>\n",
       "      <th>4</th>\n",
       "      <td>2</td>\n",
       "    </tr>\n",
       "    <tr>\n",
       "      <th>5</th>\n",
       "      <td>1</td>\n",
       "    </tr>\n",
       "    <tr>\n",
       "      <th>6</th>\n",
       "      <td>1</td>\n",
       "    </tr>\n",
       "    <tr>\n",
       "      <th>7</th>\n",
       "      <td>2</td>\n",
       "    </tr>\n",
       "    <tr>\n",
       "      <th>8</th>\n",
       "      <td>2</td>\n",
       "    </tr>\n",
       "    <tr>\n",
       "      <th>9</th>\n",
       "      <td>2</td>\n",
       "    </tr>\n",
       "    <tr>\n",
       "      <th>10</th>\n",
       "      <td>2</td>\n",
       "    </tr>\n",
       "    <tr>\n",
       "      <th>11</th>\n",
       "      <td>1</td>\n",
       "    </tr>\n",
       "    <tr>\n",
       "      <th>12</th>\n",
       "      <td>2</td>\n",
       "    </tr>\n",
       "    <tr>\n",
       "      <th>13</th>\n",
       "      <td>2</td>\n",
       "    </tr>\n",
       "    <tr>\n",
       "      <th>14</th>\n",
       "      <td>2</td>\n",
       "    </tr>\n",
       "    <tr>\n",
       "      <th>15</th>\n",
       "      <td>1</td>\n",
       "    </tr>\n",
       "    <tr>\n",
       "      <th>16</th>\n",
       "      <td>1</td>\n",
       "    </tr>\n",
       "    <tr>\n",
       "      <th>17</th>\n",
       "      <td>1</td>\n",
       "    </tr>\n",
       "    <tr>\n",
       "      <th>18</th>\n",
       "      <td>2</td>\n",
       "    </tr>\n",
       "    <tr>\n",
       "      <th>19</th>\n",
       "      <td>1</td>\n",
       "    </tr>\n",
       "    <tr>\n",
       "      <th>20</th>\n",
       "      <td>1</td>\n",
       "    </tr>\n",
       "    <tr>\n",
       "      <th>21</th>\n",
       "      <td>2</td>\n",
       "    </tr>\n",
       "    <tr>\n",
       "      <th>22</th>\n",
       "      <td>2</td>\n",
       "    </tr>\n",
       "    <tr>\n",
       "      <th>23</th>\n",
       "      <td>2</td>\n",
       "    </tr>\n",
       "    <tr>\n",
       "      <th>24</th>\n",
       "      <td>1</td>\n",
       "    </tr>\n",
       "  </tbody>\n",
       "</table>\n",
       "</div>"
      ],
      "text/plain": [
       "    y_test\n",
       "0        2\n",
       "1        2\n",
       "2        1\n",
       "3        2\n",
       "4        2\n",
       "5        1\n",
       "6        1\n",
       "7        2\n",
       "8        2\n",
       "9        2\n",
       "10       2\n",
       "11       1\n",
       "12       2\n",
       "13       2\n",
       "14       2\n",
       "15       1\n",
       "16       1\n",
       "17       1\n",
       "18       2\n",
       "19       1\n",
       "20       1\n",
       "21       2\n",
       "22       2\n",
       "23       2\n",
       "24       1"
      ]
     },
     "execution_count": 580,
     "metadata": {},
     "output_type": "execute_result"
    }
   ],
   "source": [
    "#  目的変数の予測値と正解ラベルを比較し、正解率を求める\n",
    "#data_y = [y_test, y_predict_nn_1, y_predict_nn_3, y_predict_nn_5, y_predict_nn_7, y_predict_nn_9, y_predict_nn_11]\n",
    "#columns = [\"y_test\", \"y_predict_nn_1\",\"y_predict_nn_3\",\"y_predict_nn_5\",\"y_predict_nn_7\", \"y_predict_nn_9\", \"y_predict_nn_11\"]\n",
    "columns = [\"y_predict_nn_1\",\"y_predict_nn_3\",\"y_predict_nn_5\",\"y_predict_nn_7\", \"y_predict_nn_9\", \"y_predict_nn_11\"]\n",
    "data_y = [y_predict_nn_1, y_predict_nn_3, y_predict_nn_5, y_predict_nn_7, y_predict_nn_9, y_predict_nn_11]\n",
    "\n",
    "y_predict_nn_1.reshape(25,1)\n",
    "df_predict = pd.DataFrame(data = y_test, columns = [\"y_test\"])\n",
    "#df_predict\n",
    "#y_test.shape\n",
    "df_predict\n"
   ]
  },
  {
   "cell_type": "markdown",
   "metadata": {},
   "source": [
    "# 【問題5】評価\n",
    "\n",
    "検証用データの特徴量を入力して得られた推定値と、検証用データの正解値の近さを計算し、学習したモデルを評価する。\n",
    "\n",
    "- 2値分類を評価するための指標値には accuracy、precision、recall、f値 がある。\n",
    "- scikit-learnから値を計算し、それぞれの意味について簡単に調査してマークダウンでまとめる。\n",
    "\n",
    " [sklearn.metrics.accuracy_score — scikit-learn 0.20.2 documentation](https://scikit-learn.org/stable/modules/generated/sklearn.metrics.accuracy_score.html)\n",
    "\n",
    " [sklearn.metrics.precision_score — scikit-learn 0.20.2 documentation](https://scikit-learn.org/stable/modules/generated/sklearn.metrics.precision_score.html#sklearn.metrics.precision_score)\n",
    "\n",
    " [sklearn.metrics.recall_score — scikit-learn 0.20.2 documentation](https://scikit-learn.org/stable/modules/generated/sklearn.metrics.recall_score.html#sklearn.metrics.recall_score)\n",
    "\n",
    " [sklearn.metrics.f1_score — scikit-learn 0.20.2 documentation](https://scikit-learn.org/stable/modules/generated/sklearn.metrics.f1_score.html#sklearn.metrics.f1_score)\n",
    "\n",
    "\n",
    "precision、recall、f値を計算する背景にはTrue Positive、True Negative、False Positive、False Negativeがある。\n",
    "\n",
    "- 混合行列（この4種類を計算し表示）をscikit-learnを使い表示する。\n",
    "\n",
    "[sklearn.metrics.confusion_matrix — scikit-learn 0.20.2 documentation](https://scikit-learn.org/stable/modules/generated/sklearn.metrics.confusion_matrix.html#sklearn.metrics.confusion_matrix)"
   ]
  },
  {
   "cell_type": "code",
   "execution_count": 581,
   "metadata": {
    "scrolled": true
   },
   "outputs": [
    {
     "name": "stdout",
     "output_type": "stream",
     "text": [
      "accuracy_score : 0.92\n",
      "precision_score : 0.9\n",
      "recall_score : 0.9\n",
      "f1_score : 0.9\n"
     ]
    }
   ],
   "source": [
    "#dir(sklearn)\n",
    "#dir(sklearn.metrics)\n",
    "from sklearn.metrics import accuracy_score, precision_score, recall_score, f1_score\n",
    "\n",
    "# 比較対象となる予測値と正解レベルを用意する\n",
    "y_true = y_test\n",
    "y_pred = y_predict_nn_5\n",
    "\n",
    "print(\"accuracy_score : {}\".format(accuracy_score(y_true, y_pred)))\n",
    "print(\"precision_score : {}\".format(precision_score(y_true, y_pred)))\n",
    "print(\"recall_score : {}\".format(recall_score(y_true, y_pred)))\n",
    "print(\"f1_score : {}\".format(f1_score(y_true, y_pred)))"
   ]
  },
  {
   "cell_type": "code",
   "execution_count": 582,
   "metadata": {},
   "outputs": [
    {
     "name": "stdout",
     "output_type": "stream",
     "text": [
      "              precision    recall  f1-score   support\n",
      "\n",
      "           1       0.90      0.90      0.90        10\n",
      "           2       0.93      0.93      0.93        15\n",
      "\n",
      "   micro avg       0.92      0.92      0.92        25\n",
      "   macro avg       0.92      0.92      0.92        25\n",
      "weighted avg       0.92      0.92      0.92        25\n",
      "\n"
     ]
    }
   ],
   "source": [
    "from sklearn.metrics import classification_report\n",
    "\n",
    "print(classification_report(y_test, y_predict_nn_5))"
   ]
  },
  {
   "cell_type": "code",
   "execution_count": 583,
   "metadata": {},
   "outputs": [
    {
     "name": "stdout",
     "output_type": "stream",
     "text": [
      "アヤメの分類に関する混同行列\n",
      "\n",
      "[[ 9  1]\n",
      " [ 1 14]]\n"
     ]
    }
   ],
   "source": [
    "# 混同行列を表示する\n",
    "from sklearn.metrics import confusion_matrix\n",
    "\n",
    "print(\"アヤメの分類に関する混同行列\")\n",
    "print(\"\")\n",
    "print(confusion_matrix(y_true, y_pred))"
   ]
  },
  {
   "attachments": {
    "image.png": {
     "image/png": "[encoded data removed]"
    }
   },
   "cell_type": "markdown",
   "metadata": {},
   "source": [
    "###  accuracy、precision、recall、f値\n",
    "\n",
    "#### ＜用語の説明＞\n",
    "\n",
    "下図の通り、予測値と正解の組み合わせにより、真陽性(True Positive)、偽陽性(False Positive)、偽陰性(False Negative)、真陰性(True Negative)に分類される。\n",
    "\n",
    "![image.png](attachment:image.png)\n",
    "\n",
    "#### ＜指標の説明＞\n",
    "- Accuracy（正解率）\n",
    "  - 予測値全体と実際の正解ラベルがどの程度一致するか判断する指標。\n",
    "  - 正解ラベルの値が、正が1%で負が99%のような場合、すべてのデータを不正解と予測するデータがある場合、99%の精度を持つモデルと評価されてしまうため、accuracyだけでモデルの精度を判断しないよう留意が必要。\n",
    "\n",
    "\n",
    "- Precision（適合率）\n",
    "  - tp /（tp + fp)で算出される。(tpは真陽性の数、fpは偽陽性の数)\n",
    "  - 適合率は1と推定したもののうち、実際に1であるものの割合\n",
    "  - 偽陽性を低く抑えることを目的とする場合には適合率が高いモデルを採用する。\n",
    "  - 犯罪の検挙を例にすると、一般市民を冤罪で逮捕してしまう率を低く抑えることができる。\n",
    "\n",
    "\n",
    "- Recall（再現率）\n",
    "  - tp /（tp + fn）で算出される。(tp：真陽性の数、fn：偽陰性の数）\n",
    "  - 再現率は実際に1であるもののうち、1と推定されたものの割合 \n",
    "\n",
    "\n",
    "- f値（F-measure）\n",
    "  - 適合率と再現率がトレードオフの関係にあることを踏まえて調和平均をとった指標。\n",
    "  - $2 * Recall * Precision / (Recall + Precision) $"
   ]
  },
  {
   "cell_type": "markdown",
   "metadata": {},
   "source": [
    "# 【問題6】可視化\n",
    "\n",
    "評価の一貫として可視化を行う。\n",
    "\n",
    "- 今回の場合2次元の特徴量で分類を行ったため、散布図で可視化が可能。\n",
    "- どう分割するかという決定領域を描く関数をを利用して可視化する。"
   ]
  },
  {
   "cell_type": "code",
   "execution_count": 584,
   "metadata": {},
   "outputs": [],
   "source": [
    "import matplotlib.pyplot as plt\n",
    "from matplotlib.colors import ListedColormap\n",
    "import matplotlib.patches as mpatches\n",
    "\n",
    "def decision_region(X_train, y_train, model, step=0.01, title='decision region', xlabel='xlabel', ylabel='ylabel', target_names=['versicolor', 'virginica']):\n",
    "    \"\"\"\n",
    "    2値分類を2次元の特徴量で学習したモデルの決定領域を描く。\n",
    "    背景の色が学習したモデルによる推定値から描画される。\n",
    "    散布図の点は学習用データである。\n",
    "\n",
    "    Parameters\n",
    "    ----------------\n",
    "    X_train : ndarray, shape(n_samples, 2)\n",
    "        学習用データの特徴量\n",
    "    y_train : ndarray, shape(n_samples,)\n",
    "        学習用データの正解値\n",
    "    model : object\n",
    "        学習したモデルのインスンタスを入れる\n",
    "    step : float, (default : 0.1)\n",
    "        推定値を計算する間隔を設定する\n",
    "    title : str\n",
    "        グラフのタイトルの文章を与える\n",
    "    xlabel, ylabel : str\n",
    "        軸ラベルの文章を与える\n",
    "    target_names= : list of str\n",
    "        凡例の一覧を与える\n",
    "    \"\"\"\n",
    "    # setting\n",
    "    scatter_color = ['red', 'blue']\n",
    "    contourf_color = ['pink', 'skyblue']\n",
    "    n_class = 2\n",
    "\n",
    "    # pred\n",
    "    mesh_f0, mesh_f1  = np.meshgrid(np.arange(np.min(X_train[:,0])-0.5, np.max(X_train[:,0])+0.5, step), np.arange(np.min(X_train[:,1])-0.5, np.max(X_train[:,1])+0.5, step))\n",
    "    mesh = np.c_[np.ravel(mesh_f0),np.ravel(mesh_f1)]\n",
    "    pred = model.predict(mesh).reshape(mesh_f0.shape)\n",
    "\n",
    "    # plot\n",
    "    plt.title(title)\n",
    "    plt.xlabel(xlabel)\n",
    "    plt.ylabel(ylabel)\n",
    "    plt.contourf(mesh_f0, mesh_f1, pred, n_class-1, cmap=ListedColormap(contourf_color))\n",
    "    plt.contour(mesh_f0, mesh_f1, pred, n_class-1, colors='y', linewidths=3, alpha=0.5)\n",
    "    for i, target in enumerate(set(y_train)):\n",
    "        plt.scatter(X_train[y_train==target][:, 0], X_train[y_train==target][:, 1], s=80, color=scatter_color[i], label=target_names[i], marker='o')\n",
    "    patches = [mpatches.Patch(color=scatter_color[i], label=target_names[i]) for i in range(n_class)]\n",
    "    plt.legend(handles=patches)\n",
    "    plt.legend()\n",
    "    plt.show()"
   ]
  },
  {
   "cell_type": "code",
   "execution_count": 585,
   "metadata": {},
   "outputs": [
    {
     "data": {
      "image/png": "[encoded data removed]",
      "text/plain": [
       "<Figure size 432x288 with 1 Axes>"
      ]
     },
     "metadata": {
      "needs_background": "light"
     },
     "output_type": "display_data"
    }
   ],
   "source": [
    "# 可視化\n",
    "decision_region(X_train, y_train, neigh_5, xlabel = \"sepal_lengh\", ylabel=\"petal_length\")"
   ]
  },
  {
   "cell_type": "markdown",
   "metadata": {},
   "source": [
    "# 【問題7】他の手法の学習\n",
    "\n",
    "- 以下の全ての手法について学習・推定・評価・可視化を行い、指標値を１つの表にまとめる。\n",
    "\n",
    "- その表と決定領域を利用して結果を簡単に考察し、どの手法がどの指標値が良かったかや、どういった決定領域になっていたかを述べること。\n",
    "  - 最近傍法\n",
    "  - ロジスティック回帰\n",
    "  - SVM\n",
    "  - 決定木\n",
    "  - ランダムフォレスト\n",
    "\n",
    "公式ドキュメントへのリンクは以下。（本来はそれぞれパラメータをチューニングするべきだが、まずはデフォルトで実行する）\n",
    "\n",
    " [sklearn.neighbors.KNeighborsClassifier — scikit-learn 0.20.2 documentation](https://scikit-learn.org/stable/modules/generated/sklearn.neighbors.KNeighborsClassifier.html#sklearn.neighbors.KNeighborsClassifier)\n",
    "\n",
    "[sklearn.linear_model.LogisticRegression — scikit-learn 0.20.2](https://scikit-learn.org/stable/modules/generated/sklearn.linear_model.LogisticRegression.html)\n",
    "\n",
    "[sklearn.svm.SVC — scikit-learn 0.20.2 documentation](https://scikit-learn.org/stable/modules/generated/sklearn.svm.SVC.html#sklearn.svm.SVC)\n",
    "\n",
    "[sklearn.tree.DecisionTreeClassifier — scikit-learn 0.20.2 documentation](https://scikit-learn.org/stable/modules/generated/sklearn.tree.DecisionTreeClassifier.html#sklearn.tree.DecisionTreeClassifier)\n",
    "\n",
    "[sklearn.ensemble.RandomForestClassifier — scikit-learn 0.20.2 documentation](https://scikit-learn.org/stable/modules/generated/sklearn.ensemble.RandomForestClassifier.html#sklearn.ensemble.RandomForestClassifier)"
   ]
  },
  {
   "cell_type": "code",
   "execution_count": 586,
   "metadata": {},
   "outputs": [
    {
     "name": "stdout",
     "output_type": "stream",
     "text": [
      "[2 2 2 2 2 1 1 2 2 2 2 1 1 2 2 1 1 1 2 1 1 2 2 2 1]\n",
      "accuracy_score : 0.92\n",
      "precision_score : 0.9\n",
      "recall_score : 0.9\n",
      "f1_score : 0.9\n"
     ]
    }
   ],
   "source": [
    "# 最近傍法\n",
    "from sklearn.neighbors import KNeighborsClassifier\n",
    "from sklearn.metrics import accuracy_score, precision_score, recall_score, f1_score\n",
    "\n",
    "# インスタンスの生成\n",
    "clf_KN = KNeighborsClassifier()\n",
    "\n",
    "# フィッティング\n",
    "clf_KN.fit(X_train, y_train)\n",
    "\n",
    "# テストデータを用いた予測、スコアの算出\n",
    "y_pred_KN = clf_KN.predict(X_test)\n",
    "accu_KN = accuracy_score(y_true, y_pred_KN)\n",
    "prec_KN = precision_score(y_true, y_pred_KN)\n",
    "rec_KN = recall_score(y_true, y_pred_KN)\n",
    "f1_KN = f1_score(y_true, y_pred_KN)\n",
    "\n",
    "# 出力\n",
    "print(y_pred_KN)\n",
    "print(\"accuracy_score : {}\".format(accu_KN))\n",
    "print(\"precision_score : {}\".format(prec_KN))\n",
    "print(\"recall_score : {}\".format(rec_KN))\n",
    "print(\"f1_score : {}\".format(f1_KN))"
   ]
  },
  {
   "cell_type": "code",
   "execution_count": 587,
   "metadata": {},
   "outputs": [
    {
     "data": {
      "image/png": "[encoded data removed]",
      "text/plain": [
       "<Figure size 432x288 with 1 Axes>"
      ]
     },
     "metadata": {
      "needs_background": "light"
     },
     "output_type": "display_data"
    }
   ],
   "source": [
    "# 可視化\n",
    "decision_region(X_train, y_train, clf_KN , xlabel = \"sepal_lengh\", ylabel=\"petal_length\")"
   ]
  },
  {
   "cell_type": "code",
   "execution_count": 588,
   "metadata": {},
   "outputs": [
    {
     "name": "stdout",
     "output_type": "stream",
     "text": [
      "[2 2 2 2 2 1 1 2 2 2 2 1 1 2 2 1 1 1 2 1 1 2 2 2 1]\n",
      "accuracy_score : 0.88\n",
      "precision_score : 0.8181818181818182\n",
      "recall_score : 0.9\n",
      "f1_score : 0.8571428571428572\n"
     ]
    },
    {
     "name": "stderr",
     "output_type": "stream",
     "text": [
      "/anaconda3/lib/python3.7/site-packages/sklearn/linear_model/logistic.py:433: FutureWarning: Default solver will be changed to 'lbfgs' in 0.22. Specify a solver to silence this warning.\n",
      "  FutureWarning)\n"
     ]
    }
   ],
   "source": [
    "# ロジスティック回帰\n",
    "from sklearn.linear_model import LogisticRegression\n",
    "from sklearn.metrics import accuracy_score, precision_score, recall_score, f1_score\n",
    "\n",
    "# インスタンスの生成\n",
    "clf_LR = LogisticRegression(random_state = 0)\n",
    "\n",
    "# フィッティング\n",
    "clf_LR.fit(X_train, y_train)\n",
    "\n",
    "# テストデータを用いた予測、スコアの算出\n",
    "y_pred_LR = clf_LR.predict(X_test)\n",
    "accu_LR = accuracy_score(y_true, y_pred_LR)\n",
    "prec_LR = precision_score(y_true, y_pred_LR)\n",
    "rec_LR = recall_score(y_true, y_pred_LR)\n",
    "f1_LR = f1_score(y_true, y_pred_LR)\n",
    "\n",
    "# 出力\n",
    "print(y_pred_KN)\n",
    "print(\"accuracy_score : {}\".format(accu_LR))\n",
    "print(\"precision_score : {}\".format(prec_LR))\n",
    "print(\"recall_score : {}\".format(rec_LR))\n",
    "print(\"f1_score : {}\".format(f1_LR))"
   ]
  },
  {
   "cell_type": "code",
   "execution_count": 589,
   "metadata": {},
   "outputs": [
    {
     "data": {
      "image/png": "[encoded data removed]",
      "text/plain": [
       "<Figure size 432x288 with 1 Axes>"
      ]
     },
     "metadata": {
      "needs_background": "light"
     },
     "output_type": "display_data"
    }
   ],
   "source": [
    "# 可視化\n",
    "decision_region(X_train, y_train, clf_LR, xlabel = \"sepal_lengh\", ylabel=\"petal_length\")"
   ]
  },
  {
   "cell_type": "code",
   "execution_count": 590,
   "metadata": {
    "scrolled": true
   },
   "outputs": [
    {
     "name": "stdout",
     "output_type": "stream",
     "text": [
      "[2 2 2 2 2 1 1 2 2 2 2 1 1 2 2 1 1 1 2 1 1 2 2 2 1]\n",
      "accuracy_score : 0.92\n",
      "precision_score : 0.9\n",
      "recall_score : 0.9\n",
      "f1_score : 0.9\n"
     ]
    }
   ],
   "source": [
    "# SupportVectorMachine\n",
    "\n",
    "from sklearn.svm import SVC\n",
    "from sklearn.metrics import accuracy_score, precision_score, recall_score, f1_score\n",
    "\n",
    "# インスタンスの生成\n",
    "clf_svm = SVC()\n",
    "\n",
    "# フィッティング\n",
    "clf_svm.fit(X_train, y_train)\n",
    "\n",
    "# テストデータを用いた予測\n",
    "# テストデータを用いた予測、スコアの算出\n",
    "y_pred_svm = clf_svm.predict(X_test)\n",
    "accu_svm = accuracy_score(y_true, y_pred_svm)\n",
    "prec_svm = precision_score(y_true, y_pred_svm)\n",
    "rec_svm = recall_score(y_true, y_pred_svm)\n",
    "f1_svm = f1_score(y_true, y_pred_svm)\n",
    "\n",
    "# 出力\n",
    "print(y_pred_SVM)\n",
    "print(\"accuracy_score : {}\".format(accu_svm))\n",
    "print(\"precision_score : {}\".format(prec_svm))\n",
    "print(\"recall_score : {}\".format(rec_svm))\n",
    "print(\"f1_score : {}\".format(f1_svm))"
   ]
  },
  {
   "cell_type": "code",
   "execution_count": 591,
   "metadata": {},
   "outputs": [
    {
     "data": {
      "image/png": "[encoded data removed]",
      "text/plain": [
       "<Figure size 432x288 with 1 Axes>"
      ]
     },
     "metadata": {
      "needs_background": "light"
     },
     "output_type": "display_data"
    }
   ],
   "source": [
    "# 可視化\n",
    "decision_region(X_train, y_train, clf_svm, xlabel = \"sepal_lengh\", ylabel=\"petal_length\")"
   ]
  },
  {
   "cell_type": "code",
   "execution_count": 592,
   "metadata": {},
   "outputs": [
    {
     "name": "stdout",
     "output_type": "stream",
     "text": [
      "[2 2 2 2 2 1 1 2 2 2 2 1 1 2 2 1 1 1 2 1 1 2 2 2 1]\n",
      "accuracy_score : 0.88\n",
      "precision_score : 0.8181818181818182\n",
      "recall_score : 0.9\n",
      "f1_score : 0.8571428571428572\n"
     ]
    }
   ],
   "source": [
    "# 決定木(Decision Tree Classifier)\n",
    "\n",
    "from sklearn.model_selection import cross_val_score\n",
    "from sklearn.tree import DecisionTreeClassifier\n",
    "from sklearn.metrics import accuracy_score, precision_score, recall_score, f1_score\n",
    "\n",
    "# インスタンスの生成\n",
    "clf_DT = DecisionTreeClassifier(random_state = 0)\n",
    "\n",
    "# フィッティング\n",
    "clf_DT.fit(X_train, y_train)\n",
    "\n",
    "# テストデータを用いた予測\n",
    "# テストデータを用いた予測、スコアの算出\n",
    "y_pred_DT = clf_DT.predict(X_test)\n",
    "accu_DT = accuracy_score(y_true, y_pred_DT)\n",
    "prec_DT = precision_score(y_true, y_pred_DT)\n",
    "rec_DT = recall_score(y_true, y_pred_DT)\n",
    "f1_DT = f1_score(y_true, y_pred_DT)\n",
    "\n",
    "# 出力\n",
    "print(y_pred_KN)\n",
    "print(\"accuracy_score : {}\".format(accu_DT))\n",
    "print(\"precision_score : {}\".format(prec_DT))\n",
    "print(\"recall_score : {}\".format(rec_DT))\n",
    "print(\"f1_score : {}\".format(f1_DT))"
   ]
  },
  {
   "cell_type": "code",
   "execution_count": 593,
   "metadata": {},
   "outputs": [
    {
     "data": {
      "image/png": "[encoded data removed]",
      "text/plain": [
       "<Figure size 432x288 with 1 Axes>"
      ]
     },
     "metadata": {
      "needs_background": "light"
     },
     "output_type": "display_data"
    }
   ],
   "source": [
    "# 可視化\n",
    "decision_region(X_train, y_train, clf_DT, xlabel = \"sepal_lengh\", ylabel=\"petal_length\")"
   ]
  },
  {
   "cell_type": "code",
   "execution_count": 594,
   "metadata": {
    "scrolled": true
   },
   "outputs": [
    {
     "name": "stdout",
     "output_type": "stream",
     "text": [
      "[2 2 2 2 2 1 1 2 2 2 2 1 1 2 2 1 1 1 2 1 1 1 2 2 1]\n",
      "accuracy_score : 0.88\n",
      "precision_score : 0.8181818181818182\n",
      "recall_score : 0.9\n",
      "f1_score : 0.8571428571428572\n"
     ]
    },
    {
     "name": "stderr",
     "output_type": "stream",
     "text": [
      "/anaconda3/lib/python3.7/site-packages/sklearn/ensemble/forest.py:246: FutureWarning: The default value of n_estimators will change from 10 in version 0.20 to 100 in 0.22.\n",
      "  \"10 in version 0.20 to 100 in 0.22.\", FutureWarning)\n"
     ]
    }
   ],
   "source": [
    "# ランダムフォレスト\n",
    "from sklearn.ensemble import RandomForestClassifier\n",
    "from sklearn.metrics import accuracy_score, precision_score, recall_score, f1_score\n",
    "\n",
    "# インスタンスの生成\n",
    "clf_RF = RandomForestClassifier()\n",
    "\n",
    "# フィッティング\n",
    "clf_RF.fit(X_train, y_train)\n",
    "\n",
    "# テストデータを用いた予測\n",
    "# テストデータを用いた予測、スコアの算出\n",
    "y_pred_RF = clf_RF.predict(X_test)\n",
    "accu_RF = accuracy_score(y_true, y_pred_RF)\n",
    "prec_RF = precision_score(y_true, y_pred_RF)\n",
    "rec_RF = recall_score(y_true, y_pred_RF)\n",
    "f1_RF = f1_score(y_true, y_pred_RF)\n",
    "\n",
    "# 出力\n",
    "print(y_pred_RF)\n",
    "print(\"accuracy_score : {}\".format(accu_RF))\n",
    "print(\"precision_score : {}\".format(prec_RF))\n",
    "print(\"recall_score : {}\".format(rec_RF))\n",
    "print(\"f1_score : {}\".format(f1_RF))"
   ]
  },
  {
   "cell_type": "code",
   "execution_count": 595,
   "metadata": {},
   "outputs": [
    {
     "data": {
      "image/png": "[encoded data removed]",
      "text/plain": [
       "<Figure size 432x288 with 1 Axes>"
      ]
     },
     "metadata": {
      "needs_background": "light"
     },
     "output_type": "display_data"
    }
   ],
   "source": [
    "# 可視化\n",
    "decision_region(X_train, y_train, clf_RF, xlabel = \"sepal_lengh\", ylabel=\"petal_length\")"
   ]
  },
  {
   "cell_type": "markdown",
   "metadata": {},
   "source": []
  },
  {
   "cell_type": "code",
   "execution_count": 638,
   "metadata": {
    "scrolled": false
   },
   "outputs": [
    {
     "data": {
      "text/html": [
       "<div>\n",
       "<style scoped>\n",
       "    .dataframe tbody tr th:only-of-type {\n",
       "        vertical-align: middle;\n",
       "    }\n",
       "\n",
       "    .dataframe tbody tr th {\n",
       "        vertical-align: top;\n",
       "    }\n",
       "\n",
       "    .dataframe thead th {\n",
       "        text-align: right;\n",
       "    }\n",
       "</style>\n",
       "<table border=\"1\" class=\"dataframe\">\n",
       "  <thead>\n",
       "    <tr style=\"text-align: right;\">\n",
       "      <th></th>\n",
       "      <th>KNeighborsClassifier</th>\n",
       "      <th>LogisticRegression</th>\n",
       "      <th>SVM</th>\n",
       "      <th>DecisionTreeClassifier</th>\n",
       "      <th>RandomForestClassifier</th>\n",
       "    </tr>\n",
       "  </thead>\n",
       "  <tbody>\n",
       "    <tr>\n",
       "      <th>accuracy</th>\n",
       "      <td>0.92</td>\n",
       "      <td>0.880000</td>\n",
       "      <td>0.92</td>\n",
       "      <td>0.880000</td>\n",
       "      <td>0.880000</td>\n",
       "    </tr>\n",
       "    <tr>\n",
       "      <th>precision_score</th>\n",
       "      <td>0.90</td>\n",
       "      <td>0.818182</td>\n",
       "      <td>0.90</td>\n",
       "      <td>0.818182</td>\n",
       "      <td>0.818182</td>\n",
       "    </tr>\n",
       "    <tr>\n",
       "      <th>recall_score</th>\n",
       "      <td>0.90</td>\n",
       "      <td>0.900000</td>\n",
       "      <td>0.90</td>\n",
       "      <td>0.900000</td>\n",
       "      <td>0.900000</td>\n",
       "    </tr>\n",
       "    <tr>\n",
       "      <th>f1_score</th>\n",
       "      <td>0.90</td>\n",
       "      <td>0.857143</td>\n",
       "      <td>0.90</td>\n",
       "      <td>0.857143</td>\n",
       "      <td>0.857143</td>\n",
       "    </tr>\n",
       "  </tbody>\n",
       "</table>\n",
       "</div>"
      ],
      "text/plain": [
       "                 KNeighborsClassifier  LogisticRegression   SVM  \\\n",
       "accuracy                         0.92            0.880000  0.92   \n",
       "precision_score                  0.90            0.818182  0.90   \n",
       "recall_score                     0.90            0.900000  0.90   \n",
       "f1_score                         0.90            0.857143  0.90   \n",
       "\n",
       "                 DecisionTreeClassifier  RandomForestClassifier  \n",
       "accuracy                       0.880000                0.880000  \n",
       "precision_score                0.818182                0.818182  \n",
       "recall_score                   0.900000                0.900000  \n",
       "f1_score                       0.857143                0.857143  "
      ]
     },
     "execution_count": 638,
     "metadata": {},
     "output_type": "execute_result"
    }
   ],
   "source": [
    "# スコアリングを表にまとめる\n",
    "\n",
    "# 行、列の名称を作成\n",
    "index = np.array([\"accuracy\", \"precision_score\", \"recall_score\", \"f1_score\"])\n",
    "columns = np.array([\"KNeighborsClassifier\", \"LogisticRegression\",\"SVM\", \"DecisionTreeClassifier\", \"RandomForestClassifier\"])\n",
    "\n",
    "# 各手法によるスコアリング結果をNumpy配列で整理する\n",
    "accuracy = np.array([accu_KN, accu_LR, accu_SVM, accu_DT, accu_RF])\n",
    "precision_score = np.array([prec_KN, prec_LR, prec_SVM, prec_DT, prec_RF])\n",
    "recall_score = np.array([rec_KN, rec_LR, rec_SVM, rec_DT, rec_RF])\n",
    "f1_score = np.array([f1_KN, f1_LR, f1_SVM, f1_DT, f1_RF])\n",
    "\n",
    "score = np.array([accuracy, precision_score, recall_score, f1_score])\n",
    "\n",
    "# データフレームにまとめて表示する\n",
    "score_matrix = pd.DataFrame(score, index = index, columns = columns)\n",
    "score_matrix"
   ]
  },
  {
   "cell_type": "markdown",
   "metadata": {},
   "source": [
    "### 各手法のスコアリング、分類方法に対する考察\n",
    "\n",
    "1. 今回の評価では、KNeigbourClassifier、およびSVMによる分類精度が高かった。\n",
    "\n",
    "\n",
    "2. 散布図を見ると、以下の通り、分類の境界線が線形、非線形に分かれていることが確認される。\n",
    "\n",
    "  - 線形：ロジスティック回帰\n",
    "  - 非線形：最近傍法、SVM、決定木、ランダムフォレスト\n",
    "\n",
    "\n",
    "3. 分類の境界線が非線形の手法についても、以下の特徴が確認された。\n",
    "\n",
    "  - 最近傍法、SVM：境界線が滑らかにつながっている。\n",
    "  - 決定木、ランダムフォレスト：縦横の分割線で構成される（かなり厳密に境界線を定義しており、データ次第では過学習になるか？）"
   ]
  },
  {
   "cell_type": "markdown",
   "metadata": {},
   "source": [
    "# 【問題8】（アドバンス課題）各パラメータの意味\n",
    "\n",
    "- 各手法のパラメータはデフォルトとしたが、実務上ではデフォルトは必ずしも良い設定ではない。\n",
    "\n",
    "- それぞれの意味を調査した上で複数の設定を試し、その結果を報告する。"
   ]
  },
  {
   "cell_type": "markdown",
   "metadata": {},
   "source": [
    "### KNeighborsClassifierのパラメータについて\n",
    "\n",
    "以下、公式ドキュメントよりKNeighborsClassifierのパラメータに関する記述を引用する。\n",
    "\n",
    "---\n",
    "\n",
    "1. *n_neighbors : int, optional (default = 5)*\n",
    "  - kneighborsクエリにデフォルトで使用する近傍の数。\n",
    "\n",
    "\n",
    "2. *weights : str or callable, optional (default = ‘uniform’)*\n",
    "  - weight function used in prediction. Possible values:\n",
    "    - ‘uniform’ : uniform weights. All points in each neighborhood are weighted equally.\n",
    "    - ‘distance’ : weight points by the inverse of their distance. in this case, closer neighbors of a query point will have a greater influence than neighbors which are further away.\n",
    "     - [callable] : a user-defined function which accepts an array of distances, and returns an array of the same shape containing the weights.\n",
    "\n",
    "\n",
    "3. *algorithm : {‘auto’, ‘ball_tree’, ‘kd_tree’, ‘brute’}, optional*\n",
    "  - Algorithm used to compute the nearest neighbors:\n",
    "    - ‘ball_tree’ will use BallTree\n",
    "    - ‘kd_tree’ will use KDTree\n",
    "    - ‘brute’ will use a brute-force search.\n",
    "    - ‘auto’ will attempt to decide the most appropriate algorithm based on the values passed to fit method.\n",
    "\n",
    "\n",
    "4. *leaf_size : int, optional (default = 30)*\n",
    "  - Leaf size passed to BallTree or KDTree. This can affect the speed of the construction and query, as well as the memory required to store the tree. The optimal value depends on the nature of the problem.\n",
    "\n",
    "\n",
    "5. *p : integer, optional (default = 2)*\n",
    "  - Power parameter for the Minkowski metric.\n",
    "  - When p = 1, this is equivalent to using manhattan_distance (l1), and euclidean_distance (l2) for p = 2. For arbitrary p, minkowski_distance (l_p) is used.\n",
    "\n",
    "\n",
    "6. *metric : string or callable, default ‘minkowski’*\n",
    "  - the distance metric to use for the tree.\n",
    "  - The default metric is minkowski, and with p=2 is equivalent to the standard Euclidean metric.\n",
    "\n",
    "\n",
    "7. *metric_params : dict, optional (default = None)*\n",
    "  - Additional keyword arguments for the metric function.\n",
    "\n",
    "\n",
    "8. *n_jobs : int or None, optional (default=None)*\n",
    "  - The number of parallel jobs to run for neighbors search. None means 1 unless in a joblib.parallel_backend context. -1 means using all processors. See Glossary for more details. Doesn’t affect fit method.\n"
   ]
  },
  {
   "cell_type": "code",
   "execution_count": 597,
   "metadata": {},
   "outputs": [
    {
     "name": "stdout",
     "output_type": "stream",
     "text": [
      "[2 2 2 2 2 1 1 2 2 2 2 1 1 2 2 1 1 1 2 1 1 1 2 2 1]\n",
      "accuracy_score : 0.88\n",
      "precision_score : 0.8181818181818182\n",
      "recall_score : 0.9\n",
      "f1_score : 0.8571428571428572\n"
     ]
    }
   ],
   "source": [
    "# 最近傍法\n",
    "from sklearn.neighbors import KNeighborsClassifier\n",
    "from sklearn.metrics import accuracy_score, precision_score, recall_score, f1_score\n",
    "\n",
    "# インスタンスの生成\n",
    "clf_KN_new = KNeighborsClassifier(weights = \"distance\", algorithm = \"ball_tree\")\n",
    "\n",
    "# フィッティング\n",
    "clf_KN_new.fit(X_train, y_train)\n",
    "\n",
    "# テストデータを用いた予測、スコアの算出\n",
    "y_pred_KN_new = clf_KN_new.predict(X_test)\n",
    "accu_KN_new = accuracy_score(y_true, y_pred_KN_new)\n",
    "prec_KN_new = precision_score(y_true, y_pred_KN_new)\n",
    "rec_KN_new = recall_score(y_true, y_pred_KN_new)\n",
    "f1_KN_new = f1_score(y_true, y_pred_KN_new)\n",
    "\n",
    "# 出力\n",
    "\n",
    "print(y_pred_KN_new)\n",
    "print(\"accuracy_score : {}\".format(accu_KN_new))\n",
    "print(\"precision_score : {}\".format(prec_KN_new))\n",
    "print(\"recall_score : {}\".format(rec_KN_new))\n",
    "print(\"f1_score : {}\".format(f1_KN_new))"
   ]
  },
  {
   "cell_type": "markdown",
   "metadata": {},
   "source": [
    "# 【問題9】（アドバンス課題）標準化の有無の比較\n",
    "\n",
    "- 前処理として標準化を行ったが、これを行わなかった場合どのような結果が得られるか。\n",
    "\n",
    "- 各手法に対しての指標値の表と決定領域の図を作成し比較および考察を行う。（機械学習の前処理としての標準化の意味を含めること）"
   ]
  },
  {
   "cell_type": "code",
   "execution_count": 598,
   "metadata": {},
   "outputs": [],
   "source": [
    "# 標準化する前のデータを読み込み\n",
    "X_non_std = new_df[[\"sepal length (cm)\", \"petal length (cm)\"]].values\n",
    "y = np.ravel(new_df[[\"target\"]].values)"
   ]
  },
  {
   "cell_type": "code",
   "execution_count": 626,
   "metadata": {},
   "outputs": [],
   "source": [
    "# モジュールをインポートする\n",
    "from sklearn.model_selection import train_test_split\n",
    "\n",
    "# 学習用データ、検証用データを作成する(データを読み込む度に前提条件が変わらないようにため、random_state = 1とする)\n",
    "\n",
    "X_train_non_std, X_test_non_std, y_train_non_std, y_test_non_std = train_test_split(X_non_std, y, test_size= 0.25, random_state=1)"
   ]
  },
  {
   "cell_type": "code",
   "execution_count": 627,
   "metadata": {},
   "outputs": [],
   "source": [
    "#  テストデータを再作成する\n",
    "y_true_non_std = y_test_non_std"
   ]
  },
  {
   "cell_type": "code",
   "execution_count": 633,
   "metadata": {},
   "outputs": [
    {
     "name": "stdout",
     "output_type": "stream",
     "text": [
      "[2 2 2 2 2 1 1 2 2 2 2 1 1 2 2 1 1 1 2 1 1 2 2 2 1]\n",
      "accuracy_score : 0.92\n",
      "precision_score : 0.9\n",
      "recall_score : 0.9\n",
      "f1_score : 0.9\n"
     ]
    }
   ],
   "source": [
    "# 最近傍法\n",
    "from sklearn.neighbors import KNeighborsClassifier\n",
    "from sklearn.metrics import accuracy_score, precision_score, recall_score, f1_score\n",
    "\n",
    "# インスタンスの生成\n",
    "clf_KN_non_std = KNeighborsClassifier()\n",
    "\n",
    "# フィッティング\n",
    "clf_KN_non_std.fit(X_train_non_std, y_train_non_std)\n",
    "\n",
    "# テストデータを用いた予測、スコアの算出\n",
    "y_pred_KN_non_std = clf_KN_non_std.predict(X_test_non_std)\n",
    "accu_KN_non_std = accuracy_score(y_true_non_std, y_pred_KN_non_std)\n",
    "prec_KN_non_std = precision_score(y_true_non_std, y_pred_KN_non_std)\n",
    "rec_KN_non_std = recall_score(y_true_non_std, y_pred_KN_non_std)\n",
    "f1_KN_non_std = f1_score(y_true_non_std, y_pred_KN_non_std)\n",
    "\n",
    "# 出力\n",
    "print(y_pred_KN_non_std)\n",
    "print(\"accuracy_score : {}\".format(accu_KN_non_std))\n",
    "print(\"precision_score : {}\".format(prec_KN_non_std))\n",
    "print(\"recall_score : {}\".format(rec_KN_non_std))\n",
    "print(\"f1_score : {}\".format(f1_KN_non_std))"
   ]
  },
  {
   "cell_type": "code",
   "execution_count": 634,
   "metadata": {},
   "outputs": [
    {
     "data": {
      "image/png": "[encoded data removed]",
      "text/plain": [
       "<Figure size 432x288 with 1 Axes>"
      ]
     },
     "metadata": {
      "needs_background": "light"
     },
     "output_type": "display_data"
    }
   ],
   "source": [
    "# 可視化\n",
    "decision_region(X_train_non_std, y_train_non_std, clf_KN_non_std, xlabel = \"sepal_lengh\", ylabel=\"petal_length\")"
   ]
  },
  {
   "cell_type": "markdown",
   "metadata": {},
   "source": [
    "# 正規化に対する考察\n",
    "\n",
    "- 評価指標の値、および境界線の位置に変化は見られなかった。\n",
    "\n",
    "- 標準化することで説明変数が無次元化されると共に、値の縮尺が揃う（標準正規分布に従う）ので視覚的な比較がしやすくなるメリットがある。"
   ]
  },
  {
   "cell_type": "markdown",
   "metadata": {},
   "source": [
    "# 【問題10】（アドバンス課題）全ての目的変数を使用して精度が高い手法\n",
    "\n",
    "- 3種類全てを使った多値分類を行う。\n",
    "\n",
    "\n",
    "- 学習と推定、評価を行い、最も精度の高い手法を探す。\n",
    "\n",
    "\n",
    "- ロジスティック回帰やSVMは2値分類を基本とした手法で、多値分類には工夫が必要ですが、scikit-learnでは意識せず動作させることができる。\n",
    "\n",
    "\n",
    "- precision、recall、f値はライブラリのパラメータをデフォルトから変更する必要がある。\n",
    "\n",
    "\n",
    "- マイクロ平均やマクロ平均という考え方を使うので、これについて調査して説明をまとめること。\n",
    "\n",
    "\n",
    "- 決定領域を可視化する場合は前述の関数を適切に書き換える必要がある。"
   ]
  },
  {
   "cell_type": "markdown",
   "metadata": {},
   "source": [
    "# マイクロ平均、マクロ平均について\n",
    "\n",
    "- マクロ平均（macro average）：全クラスの結果の平均。つまり、適合率、再現率、F1値をそれぞれのクラスごとに求めて平均する。\n",
    "\n",
    "\n",
    "- マイクロ平均(micro average)：混同行列全体でTP, FP, FNを集計し、それに基いて二値分類と同様に評価指標を算出する。"
   ]
  },
  {
   "cell_type": "code",
   "execution_count": 602,
   "metadata": {},
   "outputs": [
    {
     "name": "stdout",
     "output_type": "stream",
     "text": [
      "<class 'pandas.core.frame.DataFrame'>\n",
      "RangeIndex: 150 entries, 0 to 149\n",
      "Data columns (total 3 columns):\n",
      "sepal length (cm)    150 non-null float64\n",
      "petal length (cm)    150 non-null float64\n",
      "target               150 non-null int64\n",
      "dtypes: float64(2), int64(1)\n",
      "memory usage: 3.6 KB\n"
     ]
    }
   ],
   "source": [
    "# versinica(target: 1)とversicolor(target:2)を抜き出す\n",
    "\n",
    "df_multi = df.loc[:, [\"sepal length (cm)\", \"petal length (cm)\", \"target\"]]\n",
    "df_multi.info() # ３種類全てが含まれている"
   ]
  },
  {
   "cell_type": "code",
   "execution_count": 603,
   "metadata": {},
   "outputs": [],
   "source": [
    "X_multi = df_multi[[\"sepal length (cm)\", \"petal length (cm)\"]].values # 説明変数の配列（\"sepal lengh\", \"petal length\"）\n",
    "y_multi = np.ravel(df_multi[[\"target\"]].values)"
   ]
  },
  {
   "cell_type": "code",
   "execution_count": 604,
   "metadata": {},
   "outputs": [],
   "source": [
    "# 学習用データ、検証用データを作成する(データを読み込む度に前提条件が変わらないようにため、random_state = 1とする)\n",
    "\n",
    "X_train_multi, X_test_multi, y_train_multi, y_test_multi = train_test_split(X_multi, y_multi, test_size= 0.25, random_state=1)"
   ]
  },
  {
   "cell_type": "code",
   "execution_count": 605,
   "metadata": {},
   "outputs": [
    {
     "name": "stdout",
     "output_type": "stream",
     "text": [
      "sepal_length, petal_lengthの標準化に用いる平均値: [6.28266667 4.892     ]\n",
      "sepal_length, petal_lengthの標準化に用いる分散: [0.41316622 0.69380267]\n"
     ]
    }
   ],
   "source": [
    "# 標準化する\n",
    "from sklearn.preprocessing import StandardScaler\n",
    "\n",
    "# データを標準化する\n",
    "data_multi = X_train_multi # 標準化の対象は学習用データ\n",
    "\n",
    "# インスタンスを生成 \n",
    "scaler_multi = StandardScaler() # StandardScaler(copy=True, with_mean=True, with_std=True)\n",
    "# dir(scaler) # scalerに含まれるmethod、attributesを確認\n",
    "\n",
    "# StandardScaler()に学習用データをfitさせる（＝ 標準化に用いる平均値、標準偏差を算出する）\n",
    "scaler_multi.fit(data_multi)\n",
    "\n",
    "# 標準化に用いる平均、分散（つまり、標準偏差）の値\n",
    "print(\"sepal_length, petal_lengthの標準化に用いる平均値: {}\".format(scaler.mean_))\n",
    "print(\"sepal_length, petal_lengthの標準化に用いる分散: {}\".format(scaler.var_))\n",
    "\n",
    "# 学習用データ、検証用データを標準化（.transform）する\n",
    "X_train = scaler_multi.transform(X_train_multi) # 学習用データを標準化する\n",
    "X_test = scaler_multi.transform(X_test_multi) # 検証用データを標準化する"
   ]
  },
  {
   "cell_type": "code",
   "execution_count": 606,
   "metadata": {},
   "outputs": [
    {
     "data": {
      "text/plain": [
       "array([0, 1, 1, 0, 2, 1, 2, 0, 0, 2, 1, 0, 2, 1, 1, 0, 1, 1, 0, 0, 1, 1,\n",
       "       1, 0, 2, 1, 0, 0, 1, 2, 1, 2, 1, 2, 2, 0, 1, 0])"
      ]
     },
     "execution_count": 606,
     "metadata": {},
     "output_type": "execute_result"
    }
   ],
   "source": [
    "# テストデータを再作成\n",
    "y_true = y_test_multi\n",
    "y_true # 38個"
   ]
  },
  {
   "cell_type": "markdown",
   "metadata": {},
   "source": [
    "### 学習・推計"
   ]
  },
  {
   "cell_type": "code",
   "execution_count": 615,
   "metadata": {},
   "outputs": [
    {
     "name": "stdout",
     "output_type": "stream",
     "text": [
      "[0 1 1 0 2 1 2 0 0 2 1 0 2 1 1 0 1 1 0 0 1 1 2 0 2 1 0 0 2 2 1 2 1 2 2 0 1\n",
      " 0]\n",
      "accuracy_score : 0.9473684210526315\n",
      "precision_score : 0.9\n",
      "recall_score : 0.9\n",
      "f1_score : 0.9\n"
     ]
    }
   ],
   "source": [
    "# 最近傍法\n",
    "from sklearn.neighbors import KNeighborsClassifier\n",
    "from sklearn.metrics import precision_score\n",
    "\n",
    "# インスタンスの生成\n",
    "clf_KN_multi = KNeighborsClassifier()\n",
    "\n",
    "# フィッティング\n",
    "clf_KN_multi.fit(X_train_multi, y_train_multi)\n",
    "\n",
    "# テストデータを用いた予測、スコアの算出\n",
    "y_pred_KN_multi = clf_KN_multi.predict(X_test_multi)\n",
    "accu_KN_multi = accuracy_score(y_true, y_pred_KN_multi)\n",
    "prec_KN_multi = precision_score(y_true, y_pred_KN_multi, average=\"micro\")\n",
    "rec_KN_multi = recall_score(y_true, y_pred_KN_multi, average=\"micro\")\n",
    "f1_KN_multi = f1_score(y_true, y_pred_KN_multi, average=\"micro\")\n",
    "\n",
    "# 出力\n",
    "print(y_pred_KN_multi)\n",
    "print(\"accuracy_score : {}\".format(accu_KN_multi))\n",
    "print(\"precision_score : {}\".format(prec_KN))\n",
    "print(\"recall_score : {}\".format(rec_KN))\n",
    "print(\"f1_score : {}\".format(f1_KN))"
   ]
  },
  {
   "cell_type": "code",
   "execution_count": 617,
   "metadata": {},
   "outputs": [
    {
     "name": "stdout",
     "output_type": "stream",
     "text": [
      "[2 2 2 2 2 1 1 2 2 2 2 1 1 2 2 1 1 1 2 1 1 2 2 2 1]\n",
      "accuracy_score : 0.7631578947368421\n",
      "precision_score : 0.7631578947368421\n",
      "recall_score : 0.7631578947368421\n",
      "f1_score : 0.7631578947368421\n"
     ]
    },
    {
     "name": "stderr",
     "output_type": "stream",
     "text": [
      "/anaconda3/lib/python3.7/site-packages/sklearn/linear_model/logistic.py:433: FutureWarning: Default solver will be changed to 'lbfgs' in 0.22. Specify a solver to silence this warning.\n",
      "  FutureWarning)\n",
      "/anaconda3/lib/python3.7/site-packages/sklearn/linear_model/logistic.py:460: FutureWarning: Default multi_class will be changed to 'auto' in 0.22. Specify the multi_class option to silence this warning.\n",
      "  \"this warning.\", FutureWarning)\n"
     ]
    }
   ],
   "source": [
    "# ロジスティック回帰\n",
    "from sklearn.linear_model import LogisticRegression\n",
    "from sklearn.metrics import accuracy_score, precision_score, recall_score, f1_score\n",
    "\n",
    "# インスタンスの生成\n",
    "clf_LR_multi = LogisticRegression(random_state = 0)\n",
    "\n",
    "# フィッティング\n",
    "clf_LR_multi.fit(X_train_multi, y_train_multi)\n",
    "\n",
    "# テストデータを用いた予測、スコアの算出\n",
    "y_pred_LR_multi = clf_LR_multi.predict(X_test_multi)\n",
    "accu_LR_multi = accuracy_score(y_true, y_pred_LR_multi)\n",
    "prec_LR_multi = precision_score(y_true, y_pred_LR_multi, average=\"micro\")\n",
    "rec_LR_multi = recall_score(y_true, y_pred_LR_multi, average=\"micro\")\n",
    "f1_LR_multi = f1_score(y_true, y_pred_LR_multi, average=\"micro\")\n",
    "\n",
    "# 出力\n",
    "print(y_pred_KN)\n",
    "print(\"accuracy_score : {}\".format(accu_LR_multi))\n",
    "print(\"precision_score : {}\".format(prec_LR_multi))\n",
    "print(\"recall_score : {}\".format(rec_LR_multi))\n",
    "print(\"f1_score : {}\".format(f1_LR_multi))"
   ]
  },
  {
   "cell_type": "code",
   "execution_count": 619,
   "metadata": {},
   "outputs": [
    {
     "name": "stdout",
     "output_type": "stream",
     "text": [
      "[2 2 2 2 2 1 1 2 2 2 2 1 1 2 2 1 1 1 2 1 1 2 2 2 1]\n",
      "accuracy_score : 0.9736842105263158\n",
      "precision_score : 0.9736842105263158\n",
      "recall_score : 0.9736842105263158\n",
      "f1_score : 0.9736842105263158\n"
     ]
    },
    {
     "name": "stderr",
     "output_type": "stream",
     "text": [
      "/anaconda3/lib/python3.7/site-packages/sklearn/svm/base.py:196: FutureWarning: The default value of gamma will change from 'auto' to 'scale' in version 0.22 to account better for unscaled features. Set gamma explicitly to 'auto' or 'scale' to avoid this warning.\n",
      "  \"avoid this warning.\", FutureWarning)\n"
     ]
    }
   ],
   "source": [
    "# SupportVectorMachine\n",
    "\n",
    "from sklearn.svm import SVC\n",
    "from sklearn.metrics import accuracy_score, precision_score, recall_score, f1_score\n",
    "\n",
    "# インスタンスの生成\n",
    "clf_svm_multi = SVC()\n",
    "\n",
    "# フィッティング\n",
    "clf_svm_multi.fit(X_train_multi, y_train_multi)\n",
    "\n",
    "# テストデータを用いた予測\n",
    "# テストデータを用いた予測、スコアの算出\n",
    "y_pred_svm_multi = clf_svm_multi.predict(X_test_multi)\n",
    "accu_svm_multi = accuracy_score(y_true, y_pred_svm_multi)\n",
    "prec_svm_multi = precision_score(y_true, y_pred_svm_multi, average=\"micro\")\n",
    "rec_svm_multi = recall_score(y_true, y_pred_svm_multi, average=\"micro\")\n",
    "f1_svm_multi = f1_score(y_true, y_pred_svm_multi, average=\"micro\")\n",
    "\n",
    "# 出力\n",
    "print(y_pred_SVM)\n",
    "print(\"accuracy_score : {}\".format(accu_svm_multi))\n",
    "print(\"precision_score : {}\".format(prec_svm_multi))\n",
    "print(\"recall_score : {}\".format(rec_svm_multi))\n",
    "print(\"f1_score : {}\".format(f1_svm_multi))"
   ]
  },
  {
   "cell_type": "code",
   "execution_count": 621,
   "metadata": {},
   "outputs": [
    {
     "name": "stdout",
     "output_type": "stream",
     "text": [
      "[2 2 2 2 2 1 1 2 2 2 2 1 1 2 2 1 1 1 2 1 1 2 2 2 1]\n",
      "accuracy_score : 0.23684210526315788\n",
      "precision_score : 0.23684210526315788\n",
      "recall_score : 0.23684210526315788\n",
      "f1_score : 0.23684210526315788\n"
     ]
    }
   ],
   "source": [
    "# 決定木(Decision Tree Classifier)\n",
    "\n",
    "from sklearn.model_selection import cross_val_score\n",
    "from sklearn.tree import DecisionTreeClassifier\n",
    "from sklearn.metrics import accuracy_score, precision_score, recall_score, f1_score\n",
    "\n",
    "# インスタンスの生成\n",
    "clf_DT_multi = DecisionTreeClassifier(random_state = 0)\n",
    "\n",
    "# フィッティング\n",
    "clf_DT_multi.fit(X_train_multi, y_train_multi)\n",
    "\n",
    "# テストデータを用いた予測\n",
    "# テストデータを用いた予測、スコアの算出\n",
    "y_pred_DT_multi = clf_DT.predict(X_test_multi)\n",
    "accu_DT_multi = accuracy_score(y_true, y_pred_DT_multi)\n",
    "prec_DT_multi = precision_score(y_true, y_pred_DT_multi, average=\"micro\")\n",
    "rec_DT_multi = recall_score(y_true, y_pred_DT_multi, average=\"micro\")\n",
    "f1_DT_multi = f1_score(y_true, y_pred_DT_multi, average=\"micro\")\n",
    "\n",
    "# 出力\n",
    "print(y_pred_KN)\n",
    "print(\"accuracy_score : {}\".format(accu_DT_multi))\n",
    "print(\"precision_score : {}\".format(prec_DT_multi))\n",
    "print(\"recall_score : {}\".format(rec_DT_multi))\n",
    "print(\"f1_score : {}\".format(f1_DT_multi))"
   ]
  },
  {
   "cell_type": "code",
   "execution_count": 636,
   "metadata": {},
   "outputs": [
    {
     "name": "stdout",
     "output_type": "stream",
     "text": [
      "[0 1 1 0 2 1 2 0 0 2 1 0 2 1 1 0 1 1 0 0 1 1 1 0 2 1 0 0 1 2 1 2 1 2 2 0 1\n",
      " 0]\n",
      "accuracy_score : 1.0\n",
      "precision_score : 1.0\n",
      "recall_score : 1.0\n",
      "f1_score : 1.0\n"
     ]
    },
    {
     "name": "stderr",
     "output_type": "stream",
     "text": [
      "/anaconda3/lib/python3.7/site-packages/sklearn/ensemble/forest.py:246: FutureWarning: The default value of n_estimators will change from 10 in version 0.20 to 100 in 0.22.\n",
      "  \"10 in version 0.20 to 100 in 0.22.\", FutureWarning)\n"
     ]
    }
   ],
   "source": [
    "# ランダムフォレスト\n",
    "from sklearn.ensemble import RandomForestClassifier\n",
    "from sklearn.metrics import accuracy_score, precision_score, recall_score, f1_score\n",
    "\n",
    "# インスタンスの生成\n",
    "clf_RF_multi = RandomForestClassifier()\n",
    "\n",
    "# フィッティング\n",
    "clf_RF_multi.fit(X_train_multi, y_train_multi)\n",
    "\n",
    "# テストデータを用いた予測\n",
    "# テストデータを用いた予測、スコアの算出\n",
    "y_pred_RF_multi = clf_RF_multi.predict(X_test_multi)\n",
    "accu_RF_multi = accuracy_score(y_true, y_pred_RF_multi)\n",
    "prec_RF_multi = precision_score(y_true, y_pred_RF_multi, average=\"micro\")\n",
    "rec_RF_multi = recall_score(y_true, y_pred_RF_multi, average=\"micro\")\n",
    "f1_RF_multi = f1_score(y_true, y_pred_RF_multi, average=\"micro\")\n",
    "\n",
    "# 出力\n",
    "print(y_pred_RF_multi)\n",
    "print(\"accuracy_score : {}\".format(accu_RF_multi))\n",
    "print(\"precision_score : {}\".format(prec_RF_multi))\n",
    "print(\"recall_score : {}\".format(rec_RF_multi))\n",
    "print(\"f1_score : {}\".format(f1_RF_multi))"
   ]
  },
  {
   "cell_type": "code",
   "execution_count": 637,
   "metadata": {},
   "outputs": [
    {
     "data": {
      "text/html": [
       "<div>\n",
       "<style scoped>\n",
       "    .dataframe tbody tr th:only-of-type {\n",
       "        vertical-align: middle;\n",
       "    }\n",
       "\n",
       "    .dataframe tbody tr th {\n",
       "        vertical-align: top;\n",
       "    }\n",
       "\n",
       "    .dataframe thead th {\n",
       "        text-align: right;\n",
       "    }\n",
       "</style>\n",
       "<table border=\"1\" class=\"dataframe\">\n",
       "  <thead>\n",
       "    <tr style=\"text-align: right;\">\n",
       "      <th></th>\n",
       "      <th>KNeighborsClassifier</th>\n",
       "      <th>LogisticRegression</th>\n",
       "      <th>SVM</th>\n",
       "      <th>DecisionTreeClassifier</th>\n",
       "      <th>RandomForestClassifier</th>\n",
       "    </tr>\n",
       "  </thead>\n",
       "  <tbody>\n",
       "    <tr>\n",
       "      <th>accuracy</th>\n",
       "      <td>0.947368</td>\n",
       "      <td>0.763158</td>\n",
       "      <td>0.973684</td>\n",
       "      <td>0.236842</td>\n",
       "      <td>1.0</td>\n",
       "    </tr>\n",
       "    <tr>\n",
       "      <th>precision_score</th>\n",
       "      <td>0.947368</td>\n",
       "      <td>0.763158</td>\n",
       "      <td>0.973684</td>\n",
       "      <td>0.236842</td>\n",
       "      <td>1.0</td>\n",
       "    </tr>\n",
       "    <tr>\n",
       "      <th>recall_score</th>\n",
       "      <td>0.947368</td>\n",
       "      <td>0.763158</td>\n",
       "      <td>0.973684</td>\n",
       "      <td>0.236842</td>\n",
       "      <td>1.0</td>\n",
       "    </tr>\n",
       "    <tr>\n",
       "      <th>f1_score</th>\n",
       "      <td>0.947368</td>\n",
       "      <td>0.763158</td>\n",
       "      <td>0.973684</td>\n",
       "      <td>0.236842</td>\n",
       "      <td>1.0</td>\n",
       "    </tr>\n",
       "  </tbody>\n",
       "</table>\n",
       "</div>"
      ],
      "text/plain": [
       "                 KNeighborsClassifier  LogisticRegression       SVM  \\\n",
       "accuracy                     0.947368            0.763158  0.973684   \n",
       "precision_score              0.947368            0.763158  0.973684   \n",
       "recall_score                 0.947368            0.763158  0.973684   \n",
       "f1_score                     0.947368            0.763158  0.973684   \n",
       "\n",
       "                 DecisionTreeClassifier  RandomForestClassifier  \n",
       "accuracy                       0.236842                     1.0  \n",
       "precision_score                0.236842                     1.0  \n",
       "recall_score                   0.236842                     1.0  \n",
       "f1_score                       0.236842                     1.0  "
      ]
     },
     "execution_count": 637,
     "metadata": {},
     "output_type": "execute_result"
    }
   ],
   "source": [
    "# スコアリングを表にまとめる\n",
    "\n",
    "# 行、列の名称を作成\n",
    "index = np.array([\"accuracy\", \"precision_score\", \"recall_score\", \"f1_score\"])\n",
    "columns = np.array([\"KNeighborsClassifier\", \"LogisticRegression\",\"SVM\", \"DecisionTreeClassifier\", \"RandomForestClassifier\"])\n",
    "\n",
    "# 各手法によるスコアリング結果をNumpy配列で整理する\n",
    "accuracy_multi = np.array([accu_KN_multi, accu_LR_multi, accu_svm_multi, accu_DT_multi, accu_RF_multi])\n",
    "precision_score_multi = np.array([prec_KN_multi, prec_LR_multi, prec_svm_multi, prec_DT_multi, prec_RF_multi])\n",
    "recall_score_multi = np.array([rec_KN_multi, rec_LR_multi, rec_svm_multi, rec_DT_multi, rec_RF_multi])\n",
    "f1_score_multi = np.array([f1_KN_multi, f1_LR_multi, f1_svm_multi, f1_DT_multi, f1_RF_multi])\n",
    "\n",
    "score_multi = np.array([accuracy_multi, precision_score_multi, recall_score_multi, f1_score_multi])\n",
    "\n",
    "# データフレームにまとめて表示する\n",
    "score_matrix_multi = pd.DataFrame(score_multi, index = index, columns = columns)\n",
    "score_matrix_multi"
   ]
  }
 ],
 "metadata": {
  "kernelspec": {
   "display_name": "Python 3",
   "language": "python",
   "name": "python3"
  },
  "language_info": {
   "codemirror_mode": {
    "name": "ipython",
    "version": 3
   },
   "file_extension": ".py",
   "mimetype": "text/x-python",
   "name": "python",
   "nbconvert_exporter": "python",
   "pygments_lexer": "ipython3",
   "version": "3.7.1"
  }
 },
 "nbformat": 4,
 "nbformat_minor": 2
}
